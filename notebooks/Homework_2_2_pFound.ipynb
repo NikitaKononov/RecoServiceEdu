{
  "nbformat": 4,
  "nbformat_minor": 0,
  "metadata": {
    "colab": {
      "provenance": [],
      "toc_visible": true
    },
    "kernelspec": {
      "name": "python3",
      "display_name": "Python 3"
    },
    "language_info": {
      "name": "python"
    }
  },
  "cells": [
    {
      "cell_type": "markdown",
      "source": [
        "## Задание 2.2\n",
        "\n",
        "### Формула PFound\n",
        "\n",
        "$$pFound@K = \\sum_{i=1}^{k} pLook[i]\\ pRel[i]$$\n",
        "\n",
        "$$pLook[1] = 1$$\n",
        "\n",
        "$$pLook[i] = pLook[i-1]\\ (1 - pRel[i-1])\\ (1 - pBreak)$$\n",
        "\n",
        "$$pBreak = 0.15$$\n",
        "\n",
        "**Задача** - написать функцию, которая принимает на вход dataframe (после join), а на выходе дает средний pFound по всем query.\n",
        "- Запрещается использовать циклы for для расчет метрики (как полностью, так и ее частей).\n",
        "- Усложнение, если задача показалась легкой - попробуйте обойтись без groupby (не уверен, что это возможно, но вдруг вы справитесь)"
      ],
      "metadata": {
        "id": "qZkQX3Mruet7"
      }
    },
    {
      "cell_type": "markdown",
      "source": [
        "##1.Базовое решение с циклами\n"
      ],
      "metadata": {
        "id": "eWAAl1vS4dj8"
      }
    },
    {
      "cell_type": "markdown",
      "source": [
        "Взято из решения задачи Yandex Cup."
      ],
      "metadata": {
        "id": "OF61F4Tq4uOR"
      }
    },
    {
      "cell_type": "code",
      "execution_count": 1,
      "metadata": {
        "id": "eB9qQQI3sdaw"
      },
      "outputs": [],
      "source": [
        "import pandas as pd\n",
        "import numpy as np\n",
        "\n",
        "import warnings\n",
        "warnings.filterwarnings('ignore')"
      ]
    },
    {
      "cell_type": "code",
      "source": [
        "# Чтение данных\n",
        "qid_query = pd.read_csv(\"/content/drive/MyDrive/Yandex Cup/hidden_task/qid_query.tsv\", sep=\"\\t\", names=[\"qid\", \"query\"])\n",
        "qid_url_rating = pd.read_csv(\"/content/drive/MyDrive/Yandex Cup/hidden_task/qid_url_rating.tsv\", sep=\"\\t\", names=[\"qid\", \"url\", \"rating\"])\n",
        "hostid_url = pd.read_csv(\"/content/drive/MyDrive/Yandex Cup/hidden_task/hostid_url.tsv\", sep=\"\\t\", names=[\"hostid\", \"url\"])"
      ],
      "metadata": {
        "id": "OjYcgPiZxtIk"
      },
      "execution_count": 2,
      "outputs": []
    },
    {
      "cell_type": "code",
      "source": [
        "# Join таблиц qid_url_rating и hostid_url по url\n",
        "qid_url_rating_hostid = pd.merge(qid_url_rating, hostid_url, on=\"url\")"
      ],
      "metadata": {
        "id": "mEYdD1TUxxBN"
      },
      "execution_count": 3,
      "outputs": []
    },
    {
      "cell_type": "code",
      "source": [
        "def plook(ind, rels):\n",
        "    if ind == 0:\n",
        "        return 1\n",
        "    return plook(ind-1, rels)*(1-rels[ind-1])*(1-0.15)"
      ],
      "metadata": {
        "id": "WaHSWFRbx2cM"
      },
      "execution_count": 4,
      "outputs": []
    },
    {
      "cell_type": "code",
      "source": [
        "def pfound(group):\n",
        "    max_by_host = group.groupby(\"hostid\")[\"rating\"].max() # Максимальный рейтинг хоста\n",
        "    top10 = max_by_host.sort_values(ascending=False)[:10] # Топ-10 url с наивысшим рейтингом\n",
        "    pfound = 0\n",
        "    for ind, val in enumerate(top10):\n",
        "        pfound += val*plook(ind, top10.values)\n",
        "    return pfound"
      ],
      "metadata": {
        "id": "hpCdH_RVyFxK"
      },
      "execution_count": 5,
      "outputs": []
    },
    {
      "cell_type": "code",
      "source": [
        "qid_pfound = qid_url_rating_hostid.groupby('qid').apply(pfound) # Группировка по qid и вычисление pfound\n",
        "qid_max = qid_pfound.idxmax() # qid с максимальным pfound"
      ],
      "metadata": {
        "id": "kWGmBXL2yPz_"
      },
      "execution_count": 6,
      "outputs": []
    },
    {
      "cell_type": "code",
      "source": [
        "qid_query[qid_query[\"qid\"] == qid_max]"
      ],
      "metadata": {
        "colab": {
          "base_uri": "https://localhost:8080/",
          "height": 81
        },
        "id": "sX01GtWvyShd",
        "outputId": "36103da9-0f8e-4980-ece0-adde196277f7"
      },
      "execution_count": 7,
      "outputs": [
        {
          "output_type": "execute_result",
          "data": {
            "text/plain": [
              "       qid                            query\n",
              "14  692308  бесплатный просмотр камеди клаб"
            ],
            "text/html": [
              "\n",
              "  <div id=\"df-17d923b0-5e1a-4fff-827e-96479a7c199e\">\n",
              "    <div class=\"colab-df-container\">\n",
              "      <div>\n",
              "<style scoped>\n",
              "    .dataframe tbody tr th:only-of-type {\n",
              "        vertical-align: middle;\n",
              "    }\n",
              "\n",
              "    .dataframe tbody tr th {\n",
              "        vertical-align: top;\n",
              "    }\n",
              "\n",
              "    .dataframe thead th {\n",
              "        text-align: right;\n",
              "    }\n",
              "</style>\n",
              "<table border=\"1\" class=\"dataframe\">\n",
              "  <thead>\n",
              "    <tr style=\"text-align: right;\">\n",
              "      <th></th>\n",
              "      <th>qid</th>\n",
              "      <th>query</th>\n",
              "    </tr>\n",
              "  </thead>\n",
              "  <tbody>\n",
              "    <tr>\n",
              "      <th>14</th>\n",
              "      <td>692308</td>\n",
              "      <td>бесплатный просмотр камеди клаб</td>\n",
              "    </tr>\n",
              "  </tbody>\n",
              "</table>\n",
              "</div>\n",
              "      <button class=\"colab-df-convert\" onclick=\"convertToInteractive('df-17d923b0-5e1a-4fff-827e-96479a7c199e')\"\n",
              "              title=\"Convert this dataframe to an interactive table.\"\n",
              "              style=\"display:none;\">\n",
              "        \n",
              "  <svg xmlns=\"http://www.w3.org/2000/svg\" height=\"24px\"viewBox=\"0 0 24 24\"\n",
              "       width=\"24px\">\n",
              "    <path d=\"M0 0h24v24H0V0z\" fill=\"none\"/>\n",
              "    <path d=\"M18.56 5.44l.94 2.06.94-2.06 2.06-.94-2.06-.94-.94-2.06-.94 2.06-2.06.94zm-11 1L8.5 8.5l.94-2.06 2.06-.94-2.06-.94L8.5 2.5l-.94 2.06-2.06.94zm10 10l.94 2.06.94-2.06 2.06-.94-2.06-.94-.94-2.06-.94 2.06-2.06.94z\"/><path d=\"M17.41 7.96l-1.37-1.37c-.4-.4-.92-.59-1.43-.59-.52 0-1.04.2-1.43.59L10.3 9.45l-7.72 7.72c-.78.78-.78 2.05 0 2.83L4 21.41c.39.39.9.59 1.41.59.51 0 1.02-.2 1.41-.59l7.78-7.78 2.81-2.81c.8-.78.8-2.07 0-2.86zM5.41 20L4 18.59l7.72-7.72 1.47 1.35L5.41 20z\"/>\n",
              "  </svg>\n",
              "      </button>\n",
              "      \n",
              "  <style>\n",
              "    .colab-df-container {\n",
              "      display:flex;\n",
              "      flex-wrap:wrap;\n",
              "      gap: 12px;\n",
              "    }\n",
              "\n",
              "    .colab-df-convert {\n",
              "      background-color: #E8F0FE;\n",
              "      border: none;\n",
              "      border-radius: 50%;\n",
              "      cursor: pointer;\n",
              "      display: none;\n",
              "      fill: #1967D2;\n",
              "      height: 32px;\n",
              "      padding: 0 0 0 0;\n",
              "      width: 32px;\n",
              "    }\n",
              "\n",
              "    .colab-df-convert:hover {\n",
              "      background-color: #E2EBFA;\n",
              "      box-shadow: 0px 1px 2px rgba(60, 64, 67, 0.3), 0px 1px 3px 1px rgba(60, 64, 67, 0.15);\n",
              "      fill: #174EA6;\n",
              "    }\n",
              "\n",
              "    [theme=dark] .colab-df-convert {\n",
              "      background-color: #3B4455;\n",
              "      fill: #D2E3FC;\n",
              "    }\n",
              "\n",
              "    [theme=dark] .colab-df-convert:hover {\n",
              "      background-color: #434B5C;\n",
              "      box-shadow: 0px 1px 3px 1px rgba(0, 0, 0, 0.15);\n",
              "      filter: drop-shadow(0px 1px 2px rgba(0, 0, 0, 0.3));\n",
              "      fill: #FFFFFF;\n",
              "    }\n",
              "  </style>\n",
              "\n",
              "      <script>\n",
              "        const buttonEl =\n",
              "          document.querySelector('#df-17d923b0-5e1a-4fff-827e-96479a7c199e button.colab-df-convert');\n",
              "        buttonEl.style.display =\n",
              "          google.colab.kernel.accessAllowed ? 'block' : 'none';\n",
              "\n",
              "        async function convertToInteractive(key) {\n",
              "          const element = document.querySelector('#df-17d923b0-5e1a-4fff-827e-96479a7c199e');\n",
              "          const dataTable =\n",
              "            await google.colab.kernel.invokeFunction('convertToInteractive',\n",
              "                                                     [key], {});\n",
              "          if (!dataTable) return;\n",
              "\n",
              "          const docLinkHtml = 'Like what you see? Visit the ' +\n",
              "            '<a target=\"_blank\" href=https://colab.research.google.com/notebooks/data_table.ipynb>data table notebook</a>'\n",
              "            + ' to learn more about interactive tables.';\n",
              "          element.innerHTML = '';\n",
              "          dataTable['output_type'] = 'display_data';\n",
              "          await google.colab.output.renderOutput(dataTable, element);\n",
              "          const docLink = document.createElement('div');\n",
              "          docLink.innerHTML = docLinkHtml;\n",
              "          element.appendChild(docLink);\n",
              "        }\n",
              "      </script>\n",
              "    </div>\n",
              "  </div>\n",
              "  "
            ]
          },
          "metadata": {},
          "execution_count": 7
        }
      ]
    },
    {
      "cell_type": "markdown",
      "source": [
        "##2.Функция без циклов"
      ],
      "metadata": {
        "id": "Amvkhtcw5aVb"
      }
    },
    {
      "cell_type": "code",
      "source": [
        "def PFound(df: pd.DataFrame, k: int = 10, p_break: float = 0.15) -> float:\n",
        "    # Группировка, чтобы оставить максимально релевантный документ относительно id хоста\n",
        "    qid_hostid_max_rating = df.groupby(['qid', 'hostid'])['rating'].max().reset_index()\n",
        "\n",
        "    # Сортировка по убыванию\n",
        "    sorted_qid = qid_hostid_max_rating.sort_values(['qid', 'rating'], ascending=False)\n",
        "\n",
        "    # Топ-k hostid для каждого qid по rating\n",
        "    sorted_qid_top_k = sorted_qid.groupby(['qid']).head(k)\n",
        "\n",
        "    # Добавление столбцов с промежуточными расчетами\n",
        "    sorted_qid_top_k['1-pBreak'] = 1 - p_break\n",
        "    sorted_qid_top_k['1-pRel'] = (1 - sorted_qid_top_k['rating']).shift(1)\n",
        "    sorted_qid_top_k['sorted_num'] = sorted_qid_top_k.groupby('qid').cumcount()\n",
        "\n",
        "    # Учитываем значение каждого первого эдемента\n",
        "    sorted_qid_top_k['1-pBreak'] = np.where(sorted_qid_top_k['sorted_num'] == 0, 1, sorted_qid_top_k['1-pBreak'])\n",
        "    sorted_qid_top_k['1-pRel'] = np.where(sorted_qid_top_k['sorted_num'] == 0, 1, sorted_qid_top_k['1-pRel'])\n",
        "\n",
        "    # Столбцы для расчета pLook\n",
        "    sorted_qid_top_k['(1-pRel)*(1-pBreak)'] = sorted_qid_top_k['1-pRel'] * sorted_qid_top_k['1-pBreak']\n",
        "    sorted_qid_top_k['pLook'] = sorted_qid_top_k.groupby('qid')['(1-pRel)*(1-pBreak)'].cumprod()\n",
        "\n",
        "    # Столбец с расчетом pFound\n",
        "    sorted_qid_top_k['pFound'] = sorted_qid_top_k['pLook'] * sorted_qid_top_k['rating']\n",
        "\n",
        "    # Средний pFound по всем query.\n",
        "    pfound_sum = sorted_qid_top_k.groupby('qid')['pFound'].sum()\n",
        "    return pfound_sum.mean()\n",
        "    "
      ],
      "metadata": {
        "id": "bdVk_q-f6Chc"
      },
      "execution_count": 8,
      "outputs": []
    },
    {
      "cell_type": "markdown",
      "source": [
        "##3.Проверка решения"
      ],
      "metadata": {
        "id": "gn1h7IFMBoZ0"
      }
    },
    {
      "cell_type": "code",
      "source": [
        "# Рассчитанное функцией значение\n",
        "avg_pfound = PFound(qid_url_rating_hostid)\n",
        "print(avg_pfound)"
      ],
      "metadata": {
        "colab": {
          "base_uri": "https://localhost:8080/"
        },
        "id": "WHPYniVDXPx3",
        "outputId": "c4aed661-3c9e-4c7c-b663-7a78836033ad"
      },
      "execution_count": 9,
      "outputs": [
        {
          "output_type": "stream",
          "name": "stdout",
          "text": [
            "0.5822199638393889\n"
          ]
        }
      ]
    },
    {
      "cell_type": "code",
      "source": [
        "# Из решения Yandex Cup\n",
        "qid_pfound.mean()"
      ],
      "metadata": {
        "colab": {
          "base_uri": "https://localhost:8080/"
        },
        "id": "p5IrczYR4foo",
        "outputId": "9bc04a68-c406-4f26-effd-c9d8281cb4f9"
      },
      "execution_count": 10,
      "outputs": [
        {
          "output_type": "execute_result",
          "data": {
            "text/plain": [
              "0.5822199638393889"
            ]
          },
          "metadata": {},
          "execution_count": 10
        }
      ]
    }
  ]
}