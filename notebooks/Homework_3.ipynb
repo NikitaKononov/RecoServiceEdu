{
  "nbformat": 4,
  "nbformat_minor": 0,
  "metadata": {
    "colab": {
      "provenance": []
    },
    "kernelspec": {
      "name": "python3",
      "display_name": "Python 3"
    },
    "language_info": {
      "name": "python"
    },
    "widgets": {
      "application/vnd.jupyter.widget-state+json": {
        "e7a848eef0bb4b8783e57d05cc829f42": {
          "model_module": "@jupyter-widgets/controls",
          "model_name": "HBoxModel",
          "model_module_version": "1.5.0",
          "state": {
            "_dom_classes": [],
            "_model_module": "@jupyter-widgets/controls",
            "_model_module_version": "1.5.0",
            "_model_name": "HBoxModel",
            "_view_count": null,
            "_view_module": "@jupyter-widgets/controls",
            "_view_module_version": "1.5.0",
            "_view_name": "HBoxView",
            "box_style": "",
            "children": [
              "IPY_MODEL_02b36e8f28b7433baf05895ae6ab3ff7",
              "IPY_MODEL_4bb9179db984492bbb52e9355d46c161",
              "IPY_MODEL_4b4f2a03ddd64524a125ac2fbe1caff4"
            ],
            "layout": "IPY_MODEL_0f01955038df4184b28041a1652dfb6b"
          }
        },
        "02b36e8f28b7433baf05895ae6ab3ff7": {
          "model_module": "@jupyter-widgets/controls",
          "model_name": "HTMLModel",
          "model_module_version": "1.5.0",
          "state": {
            "_dom_classes": [],
            "_model_module": "@jupyter-widgets/controls",
            "_model_module_version": "1.5.0",
            "_model_name": "HTMLModel",
            "_view_count": null,
            "_view_module": "@jupyter-widgets/controls",
            "_view_module_version": "1.5.0",
            "_view_name": "HTMLView",
            "description": "",
            "description_tooltip": null,
            "layout": "IPY_MODEL_67e501c808964014afd70dc2e013ad20",
            "placeholder": "​",
            "style": "IPY_MODEL_3968a7c824a74f81b707a8c9432916d7",
            "value": "100%"
          }
        },
        "4bb9179db984492bbb52e9355d46c161": {
          "model_module": "@jupyter-widgets/controls",
          "model_name": "FloatProgressModel",
          "model_module_version": "1.5.0",
          "state": {
            "_dom_classes": [],
            "_model_module": "@jupyter-widgets/controls",
            "_model_module_version": "1.5.0",
            "_model_name": "FloatProgressModel",
            "_view_count": null,
            "_view_module": "@jupyter-widgets/controls",
            "_view_module_version": "1.5.0",
            "_view_name": "ProgressView",
            "bar_style": "danger",
            "description": "",
            "description_tooltip": null,
            "layout": "IPY_MODEL_e95f46ae4a814042bdadb85b59ce74c5",
            "max": 842129,
            "min": 0,
            "orientation": "horizontal",
            "style": "IPY_MODEL_3e702786282d4bf2abf31b8efef6db2b",
            "value": 842125
          }
        },
        "4b4f2a03ddd64524a125ac2fbe1caff4": {
          "model_module": "@jupyter-widgets/controls",
          "model_name": "HTMLModel",
          "model_module_version": "1.5.0",
          "state": {
            "_dom_classes": [],
            "_model_module": "@jupyter-widgets/controls",
            "_model_module_version": "1.5.0",
            "_model_name": "HTMLModel",
            "_view_count": null,
            "_view_module": "@jupyter-widgets/controls",
            "_view_module_version": "1.5.0",
            "_view_name": "HTMLView",
            "description": "",
            "description_tooltip": null,
            "layout": "IPY_MODEL_2d9a1354aa9747d9b365b73333de8620",
            "placeholder": "​",
            "style": "IPY_MODEL_f076b07657dd4c838a028d752d6746db",
            "value": " 842125/842129 [33:08&lt;00:00, 488.57it/s]"
          }
        },
        "0f01955038df4184b28041a1652dfb6b": {
          "model_module": "@jupyter-widgets/base",
          "model_name": "LayoutModel",
          "model_module_version": "1.2.0",
          "state": {
            "_model_module": "@jupyter-widgets/base",
            "_model_module_version": "1.2.0",
            "_model_name": "LayoutModel",
            "_view_count": null,
            "_view_module": "@jupyter-widgets/base",
            "_view_module_version": "1.2.0",
            "_view_name": "LayoutView",
            "align_content": null,
            "align_items": null,
            "align_self": null,
            "border": null,
            "bottom": null,
            "display": null,
            "flex": null,
            "flex_flow": null,
            "grid_area": null,
            "grid_auto_columns": null,
            "grid_auto_flow": null,
            "grid_auto_rows": null,
            "grid_column": null,
            "grid_gap": null,
            "grid_row": null,
            "grid_template_areas": null,
            "grid_template_columns": null,
            "grid_template_rows": null,
            "height": null,
            "justify_content": null,
            "justify_items": null,
            "left": null,
            "margin": null,
            "max_height": null,
            "max_width": null,
            "min_height": null,
            "min_width": null,
            "object_fit": null,
            "object_position": null,
            "order": null,
            "overflow": null,
            "overflow_x": null,
            "overflow_y": null,
            "padding": null,
            "right": null,
            "top": null,
            "visibility": null,
            "width": null
          }
        },
        "67e501c808964014afd70dc2e013ad20": {
          "model_module": "@jupyter-widgets/base",
          "model_name": "LayoutModel",
          "model_module_version": "1.2.0",
          "state": {
            "_model_module": "@jupyter-widgets/base",
            "_model_module_version": "1.2.0",
            "_model_name": "LayoutModel",
            "_view_count": null,
            "_view_module": "@jupyter-widgets/base",
            "_view_module_version": "1.2.0",
            "_view_name": "LayoutView",
            "align_content": null,
            "align_items": null,
            "align_self": null,
            "border": null,
            "bottom": null,
            "display": null,
            "flex": null,
            "flex_flow": null,
            "grid_area": null,
            "grid_auto_columns": null,
            "grid_auto_flow": null,
            "grid_auto_rows": null,
            "grid_column": null,
            "grid_gap": null,
            "grid_row": null,
            "grid_template_areas": null,
            "grid_template_columns": null,
            "grid_template_rows": null,
            "height": null,
            "justify_content": null,
            "justify_items": null,
            "left": null,
            "margin": null,
            "max_height": null,
            "max_width": null,
            "min_height": null,
            "min_width": null,
            "object_fit": null,
            "object_position": null,
            "order": null,
            "overflow": null,
            "overflow_x": null,
            "overflow_y": null,
            "padding": null,
            "right": null,
            "top": null,
            "visibility": null,
            "width": null
          }
        },
        "3968a7c824a74f81b707a8c9432916d7": {
          "model_module": "@jupyter-widgets/controls",
          "model_name": "DescriptionStyleModel",
          "model_module_version": "1.5.0",
          "state": {
            "_model_module": "@jupyter-widgets/controls",
            "_model_module_version": "1.5.0",
            "_model_name": "DescriptionStyleModel",
            "_view_count": null,
            "_view_module": "@jupyter-widgets/base",
            "_view_module_version": "1.2.0",
            "_view_name": "StyleView",
            "description_width": ""
          }
        },
        "e95f46ae4a814042bdadb85b59ce74c5": {
          "model_module": "@jupyter-widgets/base",
          "model_name": "LayoutModel",
          "model_module_version": "1.2.0",
          "state": {
            "_model_module": "@jupyter-widgets/base",
            "_model_module_version": "1.2.0",
            "_model_name": "LayoutModel",
            "_view_count": null,
            "_view_module": "@jupyter-widgets/base",
            "_view_module_version": "1.2.0",
            "_view_name": "LayoutView",
            "align_content": null,
            "align_items": null,
            "align_self": null,
            "border": null,
            "bottom": null,
            "display": null,
            "flex": null,
            "flex_flow": null,
            "grid_area": null,
            "grid_auto_columns": null,
            "grid_auto_flow": null,
            "grid_auto_rows": null,
            "grid_column": null,
            "grid_gap": null,
            "grid_row": null,
            "grid_template_areas": null,
            "grid_template_columns": null,
            "grid_template_rows": null,
            "height": null,
            "justify_content": null,
            "justify_items": null,
            "left": null,
            "margin": null,
            "max_height": null,
            "max_width": null,
            "min_height": null,
            "min_width": null,
            "object_fit": null,
            "object_position": null,
            "order": null,
            "overflow": null,
            "overflow_x": null,
            "overflow_y": null,
            "padding": null,
            "right": null,
            "top": null,
            "visibility": null,
            "width": null
          }
        },
        "3e702786282d4bf2abf31b8efef6db2b": {
          "model_module": "@jupyter-widgets/controls",
          "model_name": "ProgressStyleModel",
          "model_module_version": "1.5.0",
          "state": {
            "_model_module": "@jupyter-widgets/controls",
            "_model_module_version": "1.5.0",
            "_model_name": "ProgressStyleModel",
            "_view_count": null,
            "_view_module": "@jupyter-widgets/base",
            "_view_module_version": "1.2.0",
            "_view_name": "StyleView",
            "bar_color": null,
            "description_width": ""
          }
        },
        "2d9a1354aa9747d9b365b73333de8620": {
          "model_module": "@jupyter-widgets/base",
          "model_name": "LayoutModel",
          "model_module_version": "1.2.0",
          "state": {
            "_model_module": "@jupyter-widgets/base",
            "_model_module_version": "1.2.0",
            "_model_name": "LayoutModel",
            "_view_count": null,
            "_view_module": "@jupyter-widgets/base",
            "_view_module_version": "1.2.0",
            "_view_name": "LayoutView",
            "align_content": null,
            "align_items": null,
            "align_self": null,
            "border": null,
            "bottom": null,
            "display": null,
            "flex": null,
            "flex_flow": null,
            "grid_area": null,
            "grid_auto_columns": null,
            "grid_auto_flow": null,
            "grid_auto_rows": null,
            "grid_column": null,
            "grid_gap": null,
            "grid_row": null,
            "grid_template_areas": null,
            "grid_template_columns": null,
            "grid_template_rows": null,
            "height": null,
            "justify_content": null,
            "justify_items": null,
            "left": null,
            "margin": null,
            "max_height": null,
            "max_width": null,
            "min_height": null,
            "min_width": null,
            "object_fit": null,
            "object_position": null,
            "order": null,
            "overflow": null,
            "overflow_x": null,
            "overflow_y": null,
            "padding": null,
            "right": null,
            "top": null,
            "visibility": null,
            "width": null
          }
        },
        "f076b07657dd4c838a028d752d6746db": {
          "model_module": "@jupyter-widgets/controls",
          "model_name": "DescriptionStyleModel",
          "model_module_version": "1.5.0",
          "state": {
            "_model_module": "@jupyter-widgets/controls",
            "_model_module_version": "1.5.0",
            "_model_name": "DescriptionStyleModel",
            "_view_count": null,
            "_view_module": "@jupyter-widgets/base",
            "_view_module_version": "1.2.0",
            "_view_name": "StyleView",
            "description_width": ""
          }
        },
        "144b5570da804d778210ec5cd19a0c26": {
          "model_module": "@jupyter-widgets/controls",
          "model_name": "HBoxModel",
          "model_module_version": "1.5.0",
          "state": {
            "_dom_classes": [],
            "_model_module": "@jupyter-widgets/controls",
            "_model_module_version": "1.5.0",
            "_model_name": "HBoxModel",
            "_view_count": null,
            "_view_module": "@jupyter-widgets/controls",
            "_view_module_version": "1.5.0",
            "_view_name": "HBoxView",
            "box_style": "",
            "children": [
              "IPY_MODEL_a0390758407c4708bdfd5efb487dcd37",
              "IPY_MODEL_bfd914b399ad45ce9d133fe182429c2c",
              "IPY_MODEL_3e74302d56ab425aa6aabe4d8b4f8271"
            ],
            "layout": "IPY_MODEL_bbf0b5a69d374fa88ffd4d1f224ae6a0"
          }
        },
        "a0390758407c4708bdfd5efb487dcd37": {
          "model_module": "@jupyter-widgets/controls",
          "model_name": "HTMLModel",
          "model_module_version": "1.5.0",
          "state": {
            "_dom_classes": [],
            "_model_module": "@jupyter-widgets/controls",
            "_model_module_version": "1.5.0",
            "_model_name": "HTMLModel",
            "_view_count": null,
            "_view_module": "@jupyter-widgets/controls",
            "_view_module_version": "1.5.0",
            "_view_name": "HTMLView",
            "description": "",
            "description_tooltip": null,
            "layout": "IPY_MODEL_7413a73a1c4e421aa471a5fa48ff790f",
            "placeholder": "​",
            "style": "IPY_MODEL_3410e78a8f2a4ff3982ed068bcfc8312",
            "value": "100%"
          }
        },
        "bfd914b399ad45ce9d133fe182429c2c": {
          "model_module": "@jupyter-widgets/controls",
          "model_name": "FloatProgressModel",
          "model_module_version": "1.5.0",
          "state": {
            "_dom_classes": [],
            "_model_module": "@jupyter-widgets/controls",
            "_model_module_version": "1.5.0",
            "_model_name": "FloatProgressModel",
            "_view_count": null,
            "_view_module": "@jupyter-widgets/controls",
            "_view_module_version": "1.5.0",
            "_view_name": "ProgressView",
            "bar_style": "danger",
            "description": "",
            "description_tooltip": null,
            "layout": "IPY_MODEL_4a6880021516499185b3c50ee76fae2d",
            "max": 842129,
            "min": 0,
            "orientation": "horizontal",
            "style": "IPY_MODEL_2ef2da5006a74a1e8620ca7d5b7b7de7",
            "value": 842128
          }
        },
        "3e74302d56ab425aa6aabe4d8b4f8271": {
          "model_module": "@jupyter-widgets/controls",
          "model_name": "HTMLModel",
          "model_module_version": "1.5.0",
          "state": {
            "_dom_classes": [],
            "_model_module": "@jupyter-widgets/controls",
            "_model_module_version": "1.5.0",
            "_model_name": "HTMLModel",
            "_view_count": null,
            "_view_module": "@jupyter-widgets/controls",
            "_view_module_version": "1.5.0",
            "_view_name": "HTMLView",
            "description": "",
            "description_tooltip": null,
            "layout": "IPY_MODEL_c0e2b2c0fb0b4e059284298635ce7ad7",
            "placeholder": "​",
            "style": "IPY_MODEL_59282ac6f279408e9e3ffaa8178f797c",
            "value": " 842128/842129 [43:11&lt;00:00, 487.48it/s]"
          }
        },
        "bbf0b5a69d374fa88ffd4d1f224ae6a0": {
          "model_module": "@jupyter-widgets/base",
          "model_name": "LayoutModel",
          "model_module_version": "1.2.0",
          "state": {
            "_model_module": "@jupyter-widgets/base",
            "_model_module_version": "1.2.0",
            "_model_name": "LayoutModel",
            "_view_count": null,
            "_view_module": "@jupyter-widgets/base",
            "_view_module_version": "1.2.0",
            "_view_name": "LayoutView",
            "align_content": null,
            "align_items": null,
            "align_self": null,
            "border": null,
            "bottom": null,
            "display": null,
            "flex": null,
            "flex_flow": null,
            "grid_area": null,
            "grid_auto_columns": null,
            "grid_auto_flow": null,
            "grid_auto_rows": null,
            "grid_column": null,
            "grid_gap": null,
            "grid_row": null,
            "grid_template_areas": null,
            "grid_template_columns": null,
            "grid_template_rows": null,
            "height": null,
            "justify_content": null,
            "justify_items": null,
            "left": null,
            "margin": null,
            "max_height": null,
            "max_width": null,
            "min_height": null,
            "min_width": null,
            "object_fit": null,
            "object_position": null,
            "order": null,
            "overflow": null,
            "overflow_x": null,
            "overflow_y": null,
            "padding": null,
            "right": null,
            "top": null,
            "visibility": null,
            "width": null
          }
        },
        "7413a73a1c4e421aa471a5fa48ff790f": {
          "model_module": "@jupyter-widgets/base",
          "model_name": "LayoutModel",
          "model_module_version": "1.2.0",
          "state": {
            "_model_module": "@jupyter-widgets/base",
            "_model_module_version": "1.2.0",
            "_model_name": "LayoutModel",
            "_view_count": null,
            "_view_module": "@jupyter-widgets/base",
            "_view_module_version": "1.2.0",
            "_view_name": "LayoutView",
            "align_content": null,
            "align_items": null,
            "align_self": null,
            "border": null,
            "bottom": null,
            "display": null,
            "flex": null,
            "flex_flow": null,
            "grid_area": null,
            "grid_auto_columns": null,
            "grid_auto_flow": null,
            "grid_auto_rows": null,
            "grid_column": null,
            "grid_gap": null,
            "grid_row": null,
            "grid_template_areas": null,
            "grid_template_columns": null,
            "grid_template_rows": null,
            "height": null,
            "justify_content": null,
            "justify_items": null,
            "left": null,
            "margin": null,
            "max_height": null,
            "max_width": null,
            "min_height": null,
            "min_width": null,
            "object_fit": null,
            "object_position": null,
            "order": null,
            "overflow": null,
            "overflow_x": null,
            "overflow_y": null,
            "padding": null,
            "right": null,
            "top": null,
            "visibility": null,
            "width": null
          }
        },
        "3410e78a8f2a4ff3982ed068bcfc8312": {
          "model_module": "@jupyter-widgets/controls",
          "model_name": "DescriptionStyleModel",
          "model_module_version": "1.5.0",
          "state": {
            "_model_module": "@jupyter-widgets/controls",
            "_model_module_version": "1.5.0",
            "_model_name": "DescriptionStyleModel",
            "_view_count": null,
            "_view_module": "@jupyter-widgets/base",
            "_view_module_version": "1.2.0",
            "_view_name": "StyleView",
            "description_width": ""
          }
        },
        "4a6880021516499185b3c50ee76fae2d": {
          "model_module": "@jupyter-widgets/base",
          "model_name": "LayoutModel",
          "model_module_version": "1.2.0",
          "state": {
            "_model_module": "@jupyter-widgets/base",
            "_model_module_version": "1.2.0",
            "_model_name": "LayoutModel",
            "_view_count": null,
            "_view_module": "@jupyter-widgets/base",
            "_view_module_version": "1.2.0",
            "_view_name": "LayoutView",
            "align_content": null,
            "align_items": null,
            "align_self": null,
            "border": null,
            "bottom": null,
            "display": null,
            "flex": null,
            "flex_flow": null,
            "grid_area": null,
            "grid_auto_columns": null,
            "grid_auto_flow": null,
            "grid_auto_rows": null,
            "grid_column": null,
            "grid_gap": null,
            "grid_row": null,
            "grid_template_areas": null,
            "grid_template_columns": null,
            "grid_template_rows": null,
            "height": null,
            "justify_content": null,
            "justify_items": null,
            "left": null,
            "margin": null,
            "max_height": null,
            "max_width": null,
            "min_height": null,
            "min_width": null,
            "object_fit": null,
            "object_position": null,
            "order": null,
            "overflow": null,
            "overflow_x": null,
            "overflow_y": null,
            "padding": null,
            "right": null,
            "top": null,
            "visibility": null,
            "width": null
          }
        },
        "2ef2da5006a74a1e8620ca7d5b7b7de7": {
          "model_module": "@jupyter-widgets/controls",
          "model_name": "ProgressStyleModel",
          "model_module_version": "1.5.0",
          "state": {
            "_model_module": "@jupyter-widgets/controls",
            "_model_module_version": "1.5.0",
            "_model_name": "ProgressStyleModel",
            "_view_count": null,
            "_view_module": "@jupyter-widgets/base",
            "_view_module_version": "1.2.0",
            "_view_name": "StyleView",
            "bar_color": null,
            "description_width": ""
          }
        },
        "c0e2b2c0fb0b4e059284298635ce7ad7": {
          "model_module": "@jupyter-widgets/base",
          "model_name": "LayoutModel",
          "model_module_version": "1.2.0",
          "state": {
            "_model_module": "@jupyter-widgets/base",
            "_model_module_version": "1.2.0",
            "_model_name": "LayoutModel",
            "_view_count": null,
            "_view_module": "@jupyter-widgets/base",
            "_view_module_version": "1.2.0",
            "_view_name": "LayoutView",
            "align_content": null,
            "align_items": null,
            "align_self": null,
            "border": null,
            "bottom": null,
            "display": null,
            "flex": null,
            "flex_flow": null,
            "grid_area": null,
            "grid_auto_columns": null,
            "grid_auto_flow": null,
            "grid_auto_rows": null,
            "grid_column": null,
            "grid_gap": null,
            "grid_row": null,
            "grid_template_areas": null,
            "grid_template_columns": null,
            "grid_template_rows": null,
            "height": null,
            "justify_content": null,
            "justify_items": null,
            "left": null,
            "margin": null,
            "max_height": null,
            "max_width": null,
            "min_height": null,
            "min_width": null,
            "object_fit": null,
            "object_position": null,
            "order": null,
            "overflow": null,
            "overflow_x": null,
            "overflow_y": null,
            "padding": null,
            "right": null,
            "top": null,
            "visibility": null,
            "width": null
          }
        },
        "59282ac6f279408e9e3ffaa8178f797c": {
          "model_module": "@jupyter-widgets/controls",
          "model_name": "DescriptionStyleModel",
          "model_module_version": "1.5.0",
          "state": {
            "_model_module": "@jupyter-widgets/controls",
            "_model_module_version": "1.5.0",
            "_model_name": "DescriptionStyleModel",
            "_view_count": null,
            "_view_module": "@jupyter-widgets/base",
            "_view_module_version": "1.2.0",
            "_view_name": "StyleView",
            "description_width": ""
          }
        },
        "e55845d118de413c8101bb358733903a": {
          "model_module": "@jupyter-widgets/controls",
          "model_name": "HBoxModel",
          "model_module_version": "1.5.0",
          "state": {
            "_dom_classes": [],
            "_model_module": "@jupyter-widgets/controls",
            "_model_module_version": "1.5.0",
            "_model_name": "HBoxModel",
            "_view_count": null,
            "_view_module": "@jupyter-widgets/controls",
            "_view_module_version": "1.5.0",
            "_view_name": "HBoxView",
            "box_style": "",
            "children": [
              "IPY_MODEL_77ad0faca5c14bd695fd8aac0b21e74c",
              "IPY_MODEL_8588ed1a92534a359d653d4c027adc15",
              "IPY_MODEL_946a8457b0294a7b8d4be9d0e574572a"
            ],
            "layout": "IPY_MODEL_c002351fd5be46b9874750ba66ffd2b1"
          }
        },
        "77ad0faca5c14bd695fd8aac0b21e74c": {
          "model_module": "@jupyter-widgets/controls",
          "model_name": "HTMLModel",
          "model_module_version": "1.5.0",
          "state": {
            "_dom_classes": [],
            "_model_module": "@jupyter-widgets/controls",
            "_model_module_version": "1.5.0",
            "_model_name": "HTMLModel",
            "_view_count": null,
            "_view_module": "@jupyter-widgets/controls",
            "_view_module_version": "1.5.0",
            "_view_name": "HTMLView",
            "description": "",
            "description_tooltip": null,
            "layout": "IPY_MODEL_0424c1b97c8f42b68250624ea69756f2",
            "placeholder": "​",
            "style": "IPY_MODEL_b4ed49b0a3ef45b7baaf4fae23ac9351",
            "value": "kion dataset download: 100%"
          }
        },
        "8588ed1a92534a359d653d4c027adc15": {
          "model_module": "@jupyter-widgets/controls",
          "model_name": "FloatProgressModel",
          "model_module_version": "1.5.0",
          "state": {
            "_dom_classes": [],
            "_model_module": "@jupyter-widgets/controls",
            "_model_module_version": "1.5.0",
            "_model_name": "FloatProgressModel",
            "_view_count": null,
            "_view_module": "@jupyter-widgets/controls",
            "_view_module_version": "1.5.0",
            "_view_name": "ProgressView",
            "bar_style": "",
            "description": "",
            "description_tooltip": null,
            "layout": "IPY_MODEL_405bf467fd1f47e685be6de71f03343f",
            "max": 78795385,
            "min": 0,
            "orientation": "horizontal",
            "style": "IPY_MODEL_a83bc3942c81405b8136fb8ba25f3172",
            "value": 78795385
          }
        },
        "946a8457b0294a7b8d4be9d0e574572a": {
          "model_module": "@jupyter-widgets/controls",
          "model_name": "HTMLModel",
          "model_module_version": "1.5.0",
          "state": {
            "_dom_classes": [],
            "_model_module": "@jupyter-widgets/controls",
            "_model_module_version": "1.5.0",
            "_model_name": "HTMLModel",
            "_view_count": null,
            "_view_module": "@jupyter-widgets/controls",
            "_view_module_version": "1.5.0",
            "_view_name": "HTMLView",
            "description": "",
            "description_tooltip": null,
            "layout": "IPY_MODEL_e41a2cd3cde145e689afc15bb8607e28",
            "placeholder": "​",
            "style": "IPY_MODEL_49a3f249dbc04f5b9138be185f21e55f",
            "value": " 78.8M/78.8M [00:20&lt;00:00, 17.1MiB/s]"
          }
        },
        "c002351fd5be46b9874750ba66ffd2b1": {
          "model_module": "@jupyter-widgets/base",
          "model_name": "LayoutModel",
          "model_module_version": "1.2.0",
          "state": {
            "_model_module": "@jupyter-widgets/base",
            "_model_module_version": "1.2.0",
            "_model_name": "LayoutModel",
            "_view_count": null,
            "_view_module": "@jupyter-widgets/base",
            "_view_module_version": "1.2.0",
            "_view_name": "LayoutView",
            "align_content": null,
            "align_items": null,
            "align_self": null,
            "border": null,
            "bottom": null,
            "display": null,
            "flex": null,
            "flex_flow": null,
            "grid_area": null,
            "grid_auto_columns": null,
            "grid_auto_flow": null,
            "grid_auto_rows": null,
            "grid_column": null,
            "grid_gap": null,
            "grid_row": null,
            "grid_template_areas": null,
            "grid_template_columns": null,
            "grid_template_rows": null,
            "height": null,
            "justify_content": null,
            "justify_items": null,
            "left": null,
            "margin": null,
            "max_height": null,
            "max_width": null,
            "min_height": null,
            "min_width": null,
            "object_fit": null,
            "object_position": null,
            "order": null,
            "overflow": null,
            "overflow_x": null,
            "overflow_y": null,
            "padding": null,
            "right": null,
            "top": null,
            "visibility": null,
            "width": null
          }
        },
        "0424c1b97c8f42b68250624ea69756f2": {
          "model_module": "@jupyter-widgets/base",
          "model_name": "LayoutModel",
          "model_module_version": "1.2.0",
          "state": {
            "_model_module": "@jupyter-widgets/base",
            "_model_module_version": "1.2.0",
            "_model_name": "LayoutModel",
            "_view_count": null,
            "_view_module": "@jupyter-widgets/base",
            "_view_module_version": "1.2.0",
            "_view_name": "LayoutView",
            "align_content": null,
            "align_items": null,
            "align_self": null,
            "border": null,
            "bottom": null,
            "display": null,
            "flex": null,
            "flex_flow": null,
            "grid_area": null,
            "grid_auto_columns": null,
            "grid_auto_flow": null,
            "grid_auto_rows": null,
            "grid_column": null,
            "grid_gap": null,
            "grid_row": null,
            "grid_template_areas": null,
            "grid_template_columns": null,
            "grid_template_rows": null,
            "height": null,
            "justify_content": null,
            "justify_items": null,
            "left": null,
            "margin": null,
            "max_height": null,
            "max_width": null,
            "min_height": null,
            "min_width": null,
            "object_fit": null,
            "object_position": null,
            "order": null,
            "overflow": null,
            "overflow_x": null,
            "overflow_y": null,
            "padding": null,
            "right": null,
            "top": null,
            "visibility": null,
            "width": null
          }
        },
        "b4ed49b0a3ef45b7baaf4fae23ac9351": {
          "model_module": "@jupyter-widgets/controls",
          "model_name": "DescriptionStyleModel",
          "model_module_version": "1.5.0",
          "state": {
            "_model_module": "@jupyter-widgets/controls",
            "_model_module_version": "1.5.0",
            "_model_name": "DescriptionStyleModel",
            "_view_count": null,
            "_view_module": "@jupyter-widgets/base",
            "_view_module_version": "1.2.0",
            "_view_name": "StyleView",
            "description_width": ""
          }
        },
        "405bf467fd1f47e685be6de71f03343f": {
          "model_module": "@jupyter-widgets/base",
          "model_name": "LayoutModel",
          "model_module_version": "1.2.0",
          "state": {
            "_model_module": "@jupyter-widgets/base",
            "_model_module_version": "1.2.0",
            "_model_name": "LayoutModel",
            "_view_count": null,
            "_view_module": "@jupyter-widgets/base",
            "_view_module_version": "1.2.0",
            "_view_name": "LayoutView",
            "align_content": null,
            "align_items": null,
            "align_self": null,
            "border": null,
            "bottom": null,
            "display": null,
            "flex": null,
            "flex_flow": null,
            "grid_area": null,
            "grid_auto_columns": null,
            "grid_auto_flow": null,
            "grid_auto_rows": null,
            "grid_column": null,
            "grid_gap": null,
            "grid_row": null,
            "grid_template_areas": null,
            "grid_template_columns": null,
            "grid_template_rows": null,
            "height": null,
            "justify_content": null,
            "justify_items": null,
            "left": null,
            "margin": null,
            "max_height": null,
            "max_width": null,
            "min_height": null,
            "min_width": null,
            "object_fit": null,
            "object_position": null,
            "order": null,
            "overflow": null,
            "overflow_x": null,
            "overflow_y": null,
            "padding": null,
            "right": null,
            "top": null,
            "visibility": null,
            "width": null
          }
        },
        "a83bc3942c81405b8136fb8ba25f3172": {
          "model_module": "@jupyter-widgets/controls",
          "model_name": "ProgressStyleModel",
          "model_module_version": "1.5.0",
          "state": {
            "_model_module": "@jupyter-widgets/controls",
            "_model_module_version": "1.5.0",
            "_model_name": "ProgressStyleModel",
            "_view_count": null,
            "_view_module": "@jupyter-widgets/base",
            "_view_module_version": "1.2.0",
            "_view_name": "StyleView",
            "bar_color": null,
            "description_width": ""
          }
        },
        "e41a2cd3cde145e689afc15bb8607e28": {
          "model_module": "@jupyter-widgets/base",
          "model_name": "LayoutModel",
          "model_module_version": "1.2.0",
          "state": {
            "_model_module": "@jupyter-widgets/base",
            "_model_module_version": "1.2.0",
            "_model_name": "LayoutModel",
            "_view_count": null,
            "_view_module": "@jupyter-widgets/base",
            "_view_module_version": "1.2.0",
            "_view_name": "LayoutView",
            "align_content": null,
            "align_items": null,
            "align_self": null,
            "border": null,
            "bottom": null,
            "display": null,
            "flex": null,
            "flex_flow": null,
            "grid_area": null,
            "grid_auto_columns": null,
            "grid_auto_flow": null,
            "grid_auto_rows": null,
            "grid_column": null,
            "grid_gap": null,
            "grid_row": null,
            "grid_template_areas": null,
            "grid_template_columns": null,
            "grid_template_rows": null,
            "height": null,
            "justify_content": null,
            "justify_items": null,
            "left": null,
            "margin": null,
            "max_height": null,
            "max_width": null,
            "min_height": null,
            "min_width": null,
            "object_fit": null,
            "object_position": null,
            "order": null,
            "overflow": null,
            "overflow_x": null,
            "overflow_y": null,
            "padding": null,
            "right": null,
            "top": null,
            "visibility": null,
            "width": null
          }
        },
        "49a3f249dbc04f5b9138be185f21e55f": {
          "model_module": "@jupyter-widgets/controls",
          "model_name": "DescriptionStyleModel",
          "model_module_version": "1.5.0",
          "state": {
            "_model_module": "@jupyter-widgets/controls",
            "_model_module_version": "1.5.0",
            "_model_name": "DescriptionStyleModel",
            "_view_count": null,
            "_view_module": "@jupyter-widgets/base",
            "_view_module_version": "1.2.0",
            "_view_name": "StyleView",
            "description_width": ""
          }
        }
      }
    }
  },
  "cells": [
    {
      "cell_type": "markdown",
      "source": [
        "## Домашнее задание `максимум 25 баллов (бывшее 10)`\n",
        "\n",
        "## Критерии оценки \n",
        "`❗️Оцениваться будет значение метрики + ревью кода + реализация сервиса.` \n",
        "\n",
        "Вы можете сделать НЕ ВСЕ пункты и все равно получить 25 баллов. Получение > 25 баллов будет расцениваться как 25.\n",
        "\n",
        "\n",
        "### 1. Побейте метрику на лидерборде `map@10 = 0.063` для userKnn модели с семинара (`4 балла`)\n",
        "\n",
        "\n",
        "### 2. Предоставьте ноутбук(и) с экспериментами (`16 баллов`)\n",
        "\n",
        "Что можно сделать:\n",
        "   - (done) сделать кол-во рекомендаций не меньше N (`2 балла`)\n",
        "   - (done) наличие тюнинга гиперпараметров (например, векторного расстояния или типов kNN моделей (implicit/rectools/...)) (`4 балла`)\n",
        "   - (done) другие варианты ранжированивания айтемов похожих пользователей (`2 балла`)\n",
        "   - (done) эксперименты с оффлайн валидацией (`2 балла`)\n",
        "   - (done) в тесте вас ждут холодные пользователи. Сделайте рекомендации для них (обратите внимание на <a href=\"https://rectools.readthedocs.io/en/latest/api/rectools.models.popular.html\"> rectools.models.popular</a>) (`2 балла`)\n",
        "   - (done) блендинг моделей (`4 балла`)\n",
        "\n",
        "\n",
        "### 3. Оберните модель в сервис.\n",
        "- **предпочтительный онлайн вариант**: обучаете модель в ноутбуке, сохраняете обученную модель (pickle, dill), при запуске сервиса ее поднимаете и запрашиваете рекомендации \"на лету\" (`9 баллов`)\n",
        "- или оффлайн вариант: предварительно посчитайте рекомендации для всех пользователей, сохраните и запрашивайте их (`4 балла`)\n",
        "   \n",
        "\n",
        "### Хороший код ДЗ это:\n",
        "- комментарии и объяснения. В ipynb пользуйтесь силой маркдауна. \n",
        "В скриптах пишите комментарии и докстринг. \n",
        "- легкая читаемость и воспроизводимость\n",
        "- стандарт PEP8 \n",
        "- обоснование схемы валидации\n",
        "- анализ метрики качества \n"
      ],
      "metadata": {
        "id": "UwJIen2jbQtI"
      }
    },
    {
      "cell_type": "markdown",
      "source": [
        "#Imports"
      ],
      "metadata": {
        "id": "3c7LUDeaiIH6"
      }
    },
    {
      "cell_type": "code",
      "source": [
        "pip install implicit"
      ],
      "metadata": {
        "colab": {
          "base_uri": "https://localhost:8080/"
        },
        "id": "hQMg7Np_cLr_",
        "outputId": "139aa65c-8d7e-4d61-b753-7209d96542e9"
      },
      "execution_count": 3,
      "outputs": [
        {
          "output_type": "stream",
          "name": "stdout",
          "text": [
            "Looking in indexes: https://pypi.org/simple, https://us-python.pkg.dev/colab-wheels/public/simple/\n",
            "Collecting implicit\n",
            "  Downloading implicit-0.6.2-cp38-cp38-manylinux2014_x86_64.whl (18.6 MB)\n",
            "\u001b[K     |████████████████████████████████| 18.6 MB 1.2 MB/s \n",
            "\u001b[?25hRequirement already satisfied: tqdm>=4.27 in /usr/local/lib/python3.8/dist-packages (from implicit) (4.64.1)\n",
            "Requirement already satisfied: scipy>=0.16 in /usr/local/lib/python3.8/dist-packages (from implicit) (1.7.3)\n",
            "Requirement already satisfied: numpy in /usr/local/lib/python3.8/dist-packages (from implicit) (1.21.6)\n",
            "Installing collected packages: implicit\n",
            "Successfully installed implicit-0.6.2\n"
          ]
        }
      ]
    },
    {
      "cell_type": "code",
      "source": [
        "pip install rectools"
      ],
      "metadata": {
        "colab": {
          "base_uri": "https://localhost:8080/"
        },
        "id": "glurcYThcP7X",
        "outputId": "3fe71a86-ee43-49b8-a442-f7fa622219ec"
      },
      "execution_count": 4,
      "outputs": [
        {
          "output_type": "stream",
          "name": "stdout",
          "text": [
            "Looking in indexes: https://pypi.org/simple, https://us-python.pkg.dev/colab-wheels/public/simple/\n",
            "Collecting rectools\n",
            "  Downloading RecTools-0.3.0-py3-none-any.whl (89 kB)\n",
            "\u001b[K     |████████████████████████████████| 89 kB 5.5 MB/s \n",
            "\u001b[?25hCollecting Markdown<3.3,>=3.2\n",
            "  Downloading Markdown-3.2.2-py3-none-any.whl (88 kB)\n",
            "\u001b[K     |████████████████████████████████| 88 kB 8.9 MB/s \n",
            "\u001b[?25hCollecting implicit==0.4.4\n",
            "  Downloading implicit-0.4.4.tar.gz (1.1 MB)\n",
            "\u001b[K     |████████████████████████████████| 1.1 MB 68.5 MB/s \n",
            "\u001b[?25hRequirement already satisfied: tqdm<5.0.0,>=4.27.0 in /usr/local/lib/python3.8/dist-packages (from rectools) (4.64.1)\n",
            "Requirement already satisfied: numpy<2.0.0,>=1.19.5 in /usr/local/lib/python3.8/dist-packages (from rectools) (1.21.6)\n",
            "Requirement already satisfied: typeguard<3.0.0,>=2.0.1 in /usr/local/lib/python3.8/dist-packages (from rectools) (2.7.1)\n",
            "Collecting attrs<22.0.0,>=19.1.0\n",
            "  Downloading attrs-21.4.0-py2.py3-none-any.whl (60 kB)\n",
            "\u001b[K     |████████████████████████████████| 60 kB 6.6 MB/s \n",
            "\u001b[?25hRequirement already satisfied: pandas<2.0.0,>=0.25.3 in /usr/local/lib/python3.8/dist-packages (from rectools) (1.3.5)\n",
            "Collecting nmslib<3.0.0,>=2.0.4\n",
            "  Downloading nmslib-2.1.1-cp38-cp38-manylinux2010_x86_64.whl (13.4 MB)\n",
            "\u001b[K     |████████████████████████████████| 13.4 MB 61.4 MB/s \n",
            "\u001b[?25hCollecting lightfm<2.0,>=1.16\n",
            "  Downloading lightfm-1.16.tar.gz (310 kB)\n",
            "\u001b[K     |████████████████████████████████| 310 kB 12.9 MB/s \n",
            "\u001b[?25hRequirement already satisfied: scipy<2.0.0,>=1.5.4 in /usr/local/lib/python3.8/dist-packages (from rectools) (1.7.3)\n",
            "Requirement already satisfied: requests in /usr/local/lib/python3.8/dist-packages (from lightfm<2.0,>=1.16->rectools) (2.23.0)\n",
            "Requirement already satisfied: scikit-learn in /usr/local/lib/python3.8/dist-packages (from lightfm<2.0,>=1.16->rectools) (1.0.2)\n",
            "Collecting pybind11<2.6.2\n",
            "  Downloading pybind11-2.6.1-py2.py3-none-any.whl (188 kB)\n",
            "\u001b[K     |████████████████████████████████| 188 kB 67.9 MB/s \n",
            "\u001b[?25hRequirement already satisfied: psutil in /usr/local/lib/python3.8/dist-packages (from nmslib<3.0.0,>=2.0.4->rectools) (5.4.8)\n",
            "Requirement already satisfied: pytz>=2017.3 in /usr/local/lib/python3.8/dist-packages (from pandas<2.0.0,>=0.25.3->rectools) (2022.6)\n",
            "Requirement already satisfied: python-dateutil>=2.7.3 in /usr/local/lib/python3.8/dist-packages (from pandas<2.0.0,>=0.25.3->rectools) (2.8.2)\n",
            "Requirement already satisfied: six>=1.5 in /usr/local/lib/python3.8/dist-packages (from python-dateutil>=2.7.3->pandas<2.0.0,>=0.25.3->rectools) (1.15.0)\n",
            "Requirement already satisfied: certifi>=2017.4.17 in /usr/local/lib/python3.8/dist-packages (from requests->lightfm<2.0,>=1.16->rectools) (2022.9.24)\n",
            "Requirement already satisfied: chardet<4,>=3.0.2 in /usr/local/lib/python3.8/dist-packages (from requests->lightfm<2.0,>=1.16->rectools) (3.0.4)\n",
            "Requirement already satisfied: urllib3!=1.25.0,!=1.25.1,<1.26,>=1.21.1 in /usr/local/lib/python3.8/dist-packages (from requests->lightfm<2.0,>=1.16->rectools) (1.24.3)\n",
            "Requirement already satisfied: idna<3,>=2.5 in /usr/local/lib/python3.8/dist-packages (from requests->lightfm<2.0,>=1.16->rectools) (2.10)\n",
            "Requirement already satisfied: joblib>=0.11 in /usr/local/lib/python3.8/dist-packages (from scikit-learn->lightfm<2.0,>=1.16->rectools) (1.2.0)\n",
            "Requirement already satisfied: threadpoolctl>=2.0.0 in /usr/local/lib/python3.8/dist-packages (from scikit-learn->lightfm<2.0,>=1.16->rectools) (3.1.0)\n",
            "Building wheels for collected packages: implicit, lightfm\n",
            "  Building wheel for implicit (setup.py) ... \u001b[?25l\u001b[?25hdone\n",
            "  Created wheel for implicit: filename=implicit-0.4.4-cp38-cp38-linux_x86_64.whl size=3825461 sha256=ff675d6c54eb4b3c15cdc89d644f966f150ebb6a6d0ec5a155cb7b167568fe71\n",
            "  Stored in directory: /root/.cache/pip/wheels/00/ac/67/6f4536c819ed560c2c7e17c0f7a920e3e50c26108616087d05\n",
            "  Building wheel for lightfm (setup.py) ... \u001b[?25l\u001b[?25hdone\n",
            "  Created wheel for lightfm: filename=lightfm-1.16-cp38-cp38-linux_x86_64.whl size=738341 sha256=57d3e6bceb7e98fa8a640e538ae73f8099cd58fcbadc6bdfb3a4beeb00622ced\n",
            "  Stored in directory: /root/.cache/pip/wheels/ec/bb/51/9c487d021c1373b691d13cadca0b65b6852627b1f3f43550fa\n",
            "Successfully built implicit lightfm\n",
            "Installing collected packages: pybind11, nmslib, Markdown, lightfm, implicit, attrs, rectools\n",
            "  Attempting uninstall: Markdown\n",
            "    Found existing installation: Markdown 3.4.1\n",
            "    Uninstalling Markdown-3.4.1:\n",
            "      Successfully uninstalled Markdown-3.4.1\n",
            "  Attempting uninstall: implicit\n",
            "    Found existing installation: implicit 0.6.2\n",
            "    Uninstalling implicit-0.6.2:\n",
            "      Successfully uninstalled implicit-0.6.2\n",
            "  Attempting uninstall: attrs\n",
            "    Found existing installation: attrs 22.1.0\n",
            "    Uninstalling attrs-22.1.0:\n",
            "      Successfully uninstalled attrs-22.1.0\n",
            "Successfully installed Markdown-3.2.2 attrs-21.4.0 implicit-0.4.4 lightfm-1.16 nmslib-2.1.1 pybind11-2.6.1 rectools-0.3.0\n"
          ]
        }
      ]
    },
    {
      "cell_type": "code",
      "execution_count": 1,
      "metadata": {
        "id": "Hbuk895ia8v3"
      },
      "outputs": [],
      "source": [
        "import pandas as pd\n",
        "import numpy as np\n",
        "import scipy as sp\n",
        "import requests\n",
        "from tqdm.auto import tqdm\n",
        "from scipy.stats import mode \n",
        "from pprint import pprint\n",
        "import dill\n",
        "from implicit.nearest_neighbours import CosineRecommender, TFIDFRecommender, BM25Recommender\n",
        "import warnings\n",
        "warnings.filterwarnings(\"ignore\")\n",
        "\n",
        "from rectools import Columns\n",
        "from rectools.model_selection import TimeRangeSplitter\n",
        "from rectools.dataset import Dataset, Interactions\n",
        "from rectools.metrics import Precision, Recall, MeanInvUserFreq, Serendipity, calc_metrics, MAP\n",
        "from rectools.models.popular import PopularModel\n",
        "from collections import Counter\n",
        "\n",
        "\n",
        "pd.set_option('display.max_columns', None)\n",
        "pd.set_option('display.max_colwidth', 200)"
      ]
    },
    {
      "cell_type": "markdown",
      "source": [
        "# Auxiliary functions"
      ],
      "metadata": {
        "id": "L0COB_9yiVpx"
      }
    },
    {
      "cell_type": "code",
      "source": [
        "def get_coo_matrix(df, \n",
        "                   user_col='user_id', \n",
        "                   item_col='item_id', \n",
        "                   weight_col=None, \n",
        "                   users_mapping=None, \n",
        "                   items_mapping=None):\n",
        "    if weight_col:\n",
        "        weights = df[weight_col].astype(np.float32)\n",
        "    else:\n",
        "        weights = np.ones(len(df), dtype=np.float32)\n",
        "\n",
        "    interaction_matrix = sp.sparse.coo_matrix((\n",
        "        weights, \n",
        "        (\n",
        "            df[user_col].map(users_mapping.get), \n",
        "            df[item_col].map(items_mapping.get)\n",
        "        )\n",
        "    ))\n",
        "    return interaction_matrix"
      ],
      "metadata": {
        "id": "hpLQOuiSiXeb"
      },
      "execution_count": 6,
      "outputs": []
    },
    {
      "cell_type": "code",
      "source": [
        "def generate_implicit_recs_mapper(model, N, users_mapping, users_inv_mapping):\n",
        "    def _recs_mapper(user):\n",
        "        user_id = users_mapping[user]\n",
        "        recs = model.similar_items(user_id, N=N)\n",
        "        return [users_inv_mapping[user] for user, _ in recs], [sim for _, sim in recs]\n",
        "    return _recs_mapper"
      ],
      "metadata": {
        "id": "qRa37XXdjxFA"
      },
      "execution_count": 7,
      "outputs": []
    },
    {
      "cell_type": "code",
      "source": [
        "def idf_ranking(df: pd.DataFrame, train:pd.DataFrame):\n",
        "    cnt = Counter(train['item_id'].values)\n",
        "    idf = pd.DataFrame.from_dict(cnt, orient='index', columns=['doc_freq']).reset_index()\n",
        "    n = train.shape[0]\n",
        "    idf['idf'] = idf['doc_freq'].apply(lambda x: np.log((1 + n) / (1 + x) + 1))\n",
        "    return df.merge(\n",
        "        idf[['index', 'idf']], \n",
        "        left_on='item_id',\n",
        "        right_on='index',\n",
        "        how='left'\n",
        "    ).drop(['index'], axis=1)"
      ],
      "metadata": {
        "id": "OMF2UMQdmAHu"
      },
      "execution_count": 8,
      "outputs": []
    },
    {
      "cell_type": "markdown",
      "source": [
        "#Dataset loading"
      ],
      "metadata": {
        "id": "K8Gt0nbRiPJK"
      }
    },
    {
      "cell_type": "code",
      "source": [
        "# Downloading dataset by chunks\n",
        "url = \"https://storage.yandexcloud.net/itmo-recsys-public-data/kion_train.zip\"\n",
        "\n",
        "req = requests.get(url, stream=True)\n",
        "\n",
        "with open('kion_train.zip', \"wb\") as fd:\n",
        "    total_size_in_bytes = int(req.headers.get('Content-Length', 0))\n",
        "    progress_bar = tqdm(desc='kion dataset download', total=total_size_in_bytes, unit='iB', unit_scale=True)\n",
        "    for chunk in req.iter_content(chunk_size=2 ** 20):\n",
        "        progress_bar.update(len(chunk))\n",
        "        fd.write(chunk)"
      ],
      "metadata": {
        "id": "jjjznzL9bfnK",
        "colab": {
          "base_uri": "https://localhost:8080/",
          "height": 49,
          "referenced_widgets": [
            "e55845d118de413c8101bb358733903a",
            "77ad0faca5c14bd695fd8aac0b21e74c",
            "8588ed1a92534a359d653d4c027adc15",
            "946a8457b0294a7b8d4be9d0e574572a",
            "c002351fd5be46b9874750ba66ffd2b1",
            "0424c1b97c8f42b68250624ea69756f2",
            "b4ed49b0a3ef45b7baaf4fae23ac9351",
            "405bf467fd1f47e685be6de71f03343f",
            "a83bc3942c81405b8136fb8ba25f3172",
            "e41a2cd3cde145e689afc15bb8607e28",
            "49a3f249dbc04f5b9138be185f21e55f"
          ]
        },
        "outputId": "2b34c006-53f6-45cf-d49d-934bcc4a696e"
      },
      "execution_count": 9,
      "outputs": [
        {
          "output_type": "display_data",
          "data": {
            "text/plain": [
              "kion dataset download:   0%|          | 0.00/78.8M [00:00<?, ?iB/s]"
            ],
            "application/vnd.jupyter.widget-view+json": {
              "version_major": 2,
              "version_minor": 0,
              "model_id": "e55845d118de413c8101bb358733903a"
            }
          },
          "metadata": {}
        }
      ]
    },
    {
      "cell_type": "code",
      "source": [
        "!unzip kion_train.zip"
      ],
      "metadata": {
        "colab": {
          "base_uri": "https://localhost:8080/"
        },
        "id": "Nh23jJYfbh-C",
        "outputId": "78afa40d-8116-44e6-d24a-dcb59984ba64"
      },
      "execution_count": 10,
      "outputs": [
        {
          "output_type": "stream",
          "name": "stdout",
          "text": [
            "Archive:  kion_train.zip\n",
            "   creating: kion_train/\n",
            "  inflating: kion_train/interactions.csv  \n",
            "  inflating: __MACOSX/kion_train/._interactions.csv  \n",
            "  inflating: kion_train/users.csv    \n",
            "  inflating: __MACOSX/kion_train/._users.csv  \n",
            "  inflating: kion_train/items.csv    \n",
            "  inflating: __MACOSX/kion_train/._items.csv  \n"
          ]
        }
      ]
    },
    {
      "cell_type": "markdown",
      "source": [
        "#EDA"
      ],
      "metadata": {
        "id": "H22JKQnac2l6"
      }
    },
    {
      "cell_type": "code",
      "source": [
        "interactions = pd.read_csv('kion_train/interactions.csv')\n",
        "users = pd.read_csv('kion_train/users.csv')\n",
        "items = pd.read_csv('kion_train/items.csv')"
      ],
      "metadata": {
        "id": "47TSg01BbkZG"
      },
      "execution_count": 14,
      "outputs": []
    },
    {
      "cell_type": "code",
      "source": [
        "items.shape"
      ],
      "metadata": {
        "colab": {
          "base_uri": "https://localhost:8080/"
        },
        "id": "_sgZ--J-toQR",
        "outputId": "c77ad323-2652-4a28-ae21-212a0a252b52"
      },
      "execution_count": 18,
      "outputs": [
        {
          "output_type": "execute_result",
          "data": {
            "text/plain": [
              "(15963, 14)"
            ]
          },
          "metadata": {},
          "execution_count": 18
        }
      ]
    },
    {
      "cell_type": "code",
      "source": [
        "interactions"
      ],
      "metadata": {
        "colab": {
          "base_uri": "https://localhost:8080/",
          "height": 424
        },
        "id": "7CMWI27ntiTX",
        "outputId": "82507a5b-be7e-4a32-8004-6ee09c6311c2"
      },
      "execution_count": 15,
      "outputs": [
        {
          "output_type": "execute_result",
          "data": {
            "text/plain": [
              "         user_id  item_id last_watch_dt  total_dur  watched_pct\n",
              "0         176549     9506    2021-05-11       4250         72.0\n",
              "1         699317     1659    2021-05-29       8317        100.0\n",
              "2         656683     7107    2021-05-09         10          0.0\n",
              "3         864613     7638    2021-07-05      14483        100.0\n",
              "4         964868     9506    2021-04-30       6725        100.0\n",
              "...          ...      ...           ...        ...          ...\n",
              "5476246   648596    12225    2021-08-13         76          0.0\n",
              "5476247   546862     9673    2021-04-13       2308         49.0\n",
              "5476248   697262    15297    2021-08-20      18307         63.0\n",
              "5476249   384202    16197    2021-04-19       6203        100.0\n",
              "5476250   319709     4436    2021-08-15       3921         45.0\n",
              "\n",
              "[5476251 rows x 5 columns]"
            ],
            "text/html": [
              "\n",
              "  <div id=\"df-3e1741ef-cda3-4488-862b-cd95d077b173\">\n",
              "    <div class=\"colab-df-container\">\n",
              "      <div>\n",
              "<style scoped>\n",
              "    .dataframe tbody tr th:only-of-type {\n",
              "        vertical-align: middle;\n",
              "    }\n",
              "\n",
              "    .dataframe tbody tr th {\n",
              "        vertical-align: top;\n",
              "    }\n",
              "\n",
              "    .dataframe thead th {\n",
              "        text-align: right;\n",
              "    }\n",
              "</style>\n",
              "<table border=\"1\" class=\"dataframe\">\n",
              "  <thead>\n",
              "    <tr style=\"text-align: right;\">\n",
              "      <th></th>\n",
              "      <th>user_id</th>\n",
              "      <th>item_id</th>\n",
              "      <th>last_watch_dt</th>\n",
              "      <th>total_dur</th>\n",
              "      <th>watched_pct</th>\n",
              "    </tr>\n",
              "  </thead>\n",
              "  <tbody>\n",
              "    <tr>\n",
              "      <th>0</th>\n",
              "      <td>176549</td>\n",
              "      <td>9506</td>\n",
              "      <td>2021-05-11</td>\n",
              "      <td>4250</td>\n",
              "      <td>72.0</td>\n",
              "    </tr>\n",
              "    <tr>\n",
              "      <th>1</th>\n",
              "      <td>699317</td>\n",
              "      <td>1659</td>\n",
              "      <td>2021-05-29</td>\n",
              "      <td>8317</td>\n",
              "      <td>100.0</td>\n",
              "    </tr>\n",
              "    <tr>\n",
              "      <th>2</th>\n",
              "      <td>656683</td>\n",
              "      <td>7107</td>\n",
              "      <td>2021-05-09</td>\n",
              "      <td>10</td>\n",
              "      <td>0.0</td>\n",
              "    </tr>\n",
              "    <tr>\n",
              "      <th>3</th>\n",
              "      <td>864613</td>\n",
              "      <td>7638</td>\n",
              "      <td>2021-07-05</td>\n",
              "      <td>14483</td>\n",
              "      <td>100.0</td>\n",
              "    </tr>\n",
              "    <tr>\n",
              "      <th>4</th>\n",
              "      <td>964868</td>\n",
              "      <td>9506</td>\n",
              "      <td>2021-04-30</td>\n",
              "      <td>6725</td>\n",
              "      <td>100.0</td>\n",
              "    </tr>\n",
              "    <tr>\n",
              "      <th>...</th>\n",
              "      <td>...</td>\n",
              "      <td>...</td>\n",
              "      <td>...</td>\n",
              "      <td>...</td>\n",
              "      <td>...</td>\n",
              "    </tr>\n",
              "    <tr>\n",
              "      <th>5476246</th>\n",
              "      <td>648596</td>\n",
              "      <td>12225</td>\n",
              "      <td>2021-08-13</td>\n",
              "      <td>76</td>\n",
              "      <td>0.0</td>\n",
              "    </tr>\n",
              "    <tr>\n",
              "      <th>5476247</th>\n",
              "      <td>546862</td>\n",
              "      <td>9673</td>\n",
              "      <td>2021-04-13</td>\n",
              "      <td>2308</td>\n",
              "      <td>49.0</td>\n",
              "    </tr>\n",
              "    <tr>\n",
              "      <th>5476248</th>\n",
              "      <td>697262</td>\n",
              "      <td>15297</td>\n",
              "      <td>2021-08-20</td>\n",
              "      <td>18307</td>\n",
              "      <td>63.0</td>\n",
              "    </tr>\n",
              "    <tr>\n",
              "      <th>5476249</th>\n",
              "      <td>384202</td>\n",
              "      <td>16197</td>\n",
              "      <td>2021-04-19</td>\n",
              "      <td>6203</td>\n",
              "      <td>100.0</td>\n",
              "    </tr>\n",
              "    <tr>\n",
              "      <th>5476250</th>\n",
              "      <td>319709</td>\n",
              "      <td>4436</td>\n",
              "      <td>2021-08-15</td>\n",
              "      <td>3921</td>\n",
              "      <td>45.0</td>\n",
              "    </tr>\n",
              "  </tbody>\n",
              "</table>\n",
              "<p>5476251 rows × 5 columns</p>\n",
              "</div>\n",
              "      <button class=\"colab-df-convert\" onclick=\"convertToInteractive('df-3e1741ef-cda3-4488-862b-cd95d077b173')\"\n",
              "              title=\"Convert this dataframe to an interactive table.\"\n",
              "              style=\"display:none;\">\n",
              "        \n",
              "  <svg xmlns=\"http://www.w3.org/2000/svg\" height=\"24px\"viewBox=\"0 0 24 24\"\n",
              "       width=\"24px\">\n",
              "    <path d=\"M0 0h24v24H0V0z\" fill=\"none\"/>\n",
              "    <path d=\"M18.56 5.44l.94 2.06.94-2.06 2.06-.94-2.06-.94-.94-2.06-.94 2.06-2.06.94zm-11 1L8.5 8.5l.94-2.06 2.06-.94-2.06-.94L8.5 2.5l-.94 2.06-2.06.94zm10 10l.94 2.06.94-2.06 2.06-.94-2.06-.94-.94-2.06-.94 2.06-2.06.94z\"/><path d=\"M17.41 7.96l-1.37-1.37c-.4-.4-.92-.59-1.43-.59-.52 0-1.04.2-1.43.59L10.3 9.45l-7.72 7.72c-.78.78-.78 2.05 0 2.83L4 21.41c.39.39.9.59 1.41.59.51 0 1.02-.2 1.41-.59l7.78-7.78 2.81-2.81c.8-.78.8-2.07 0-2.86zM5.41 20L4 18.59l7.72-7.72 1.47 1.35L5.41 20z\"/>\n",
              "  </svg>\n",
              "      </button>\n",
              "      \n",
              "  <style>\n",
              "    .colab-df-container {\n",
              "      display:flex;\n",
              "      flex-wrap:wrap;\n",
              "      gap: 12px;\n",
              "    }\n",
              "\n",
              "    .colab-df-convert {\n",
              "      background-color: #E8F0FE;\n",
              "      border: none;\n",
              "      border-radius: 50%;\n",
              "      cursor: pointer;\n",
              "      display: none;\n",
              "      fill: #1967D2;\n",
              "      height: 32px;\n",
              "      padding: 0 0 0 0;\n",
              "      width: 32px;\n",
              "    }\n",
              "\n",
              "    .colab-df-convert:hover {\n",
              "      background-color: #E2EBFA;\n",
              "      box-shadow: 0px 1px 2px rgba(60, 64, 67, 0.3), 0px 1px 3px 1px rgba(60, 64, 67, 0.15);\n",
              "      fill: #174EA6;\n",
              "    }\n",
              "\n",
              "    [theme=dark] .colab-df-convert {\n",
              "      background-color: #3B4455;\n",
              "      fill: #D2E3FC;\n",
              "    }\n",
              "\n",
              "    [theme=dark] .colab-df-convert:hover {\n",
              "      background-color: #434B5C;\n",
              "      box-shadow: 0px 1px 3px 1px rgba(0, 0, 0, 0.15);\n",
              "      filter: drop-shadow(0px 1px 2px rgba(0, 0, 0, 0.3));\n",
              "      fill: #FFFFFF;\n",
              "    }\n",
              "  </style>\n",
              "\n",
              "      <script>\n",
              "        const buttonEl =\n",
              "          document.querySelector('#df-3e1741ef-cda3-4488-862b-cd95d077b173 button.colab-df-convert');\n",
              "        buttonEl.style.display =\n",
              "          google.colab.kernel.accessAllowed ? 'block' : 'none';\n",
              "\n",
              "        async function convertToInteractive(key) {\n",
              "          const element = document.querySelector('#df-3e1741ef-cda3-4488-862b-cd95d077b173');\n",
              "          const dataTable =\n",
              "            await google.colab.kernel.invokeFunction('convertToInteractive',\n",
              "                                                     [key], {});\n",
              "          if (!dataTable) return;\n",
              "\n",
              "          const docLinkHtml = 'Like what you see? Visit the ' +\n",
              "            '<a target=\"_blank\" href=https://colab.research.google.com/notebooks/data_table.ipynb>data table notebook</a>'\n",
              "            + ' to learn more about interactive tables.';\n",
              "          element.innerHTML = '';\n",
              "          dataTable['output_type'] = 'display_data';\n",
              "          await google.colab.output.renderOutput(dataTable, element);\n",
              "          const docLink = document.createElement('div');\n",
              "          docLink.innerHTML = docLinkHtml;\n",
              "          element.appendChild(docLink);\n",
              "        }\n",
              "      </script>\n",
              "    </div>\n",
              "  </div>\n",
              "  "
            ]
          },
          "metadata": {},
          "execution_count": 15
        }
      ]
    },
    {
      "cell_type": "code",
      "source": [
        "# Renaming columns, converting timestamp\n",
        "interactions.rename(columns={'last_watch_dt': Columns.Datetime,\n",
        "                            'total_dur': Columns.Weight}, \n",
        "                    inplace=True) \n",
        "\n",
        "interactions['datetime'] = pd.to_datetime(interactions['datetime'])"
      ],
      "metadata": {
        "id": "8y0ltxM9cn8r"
      },
      "execution_count": 12,
      "outputs": []
    },
    {
      "cell_type": "markdown",
      "source": [
        "#1.UserKNN"
      ],
      "metadata": {
        "id": "qyQvOsUpdbON"
      }
    },
    {
      "cell_type": "markdown",
      "source": [
        "##1.1.Train test split"
      ],
      "metadata": {
        "id": "6MJQXKshinX1"
      }
    },
    {
      "cell_type": "code",
      "source": [
        "# Train test split \n",
        "# Test = last 1 week \n",
        "\n",
        "n_folds = 1\n",
        "unit = \"W\"\n",
        "n_units = 1\n",
        "periods = n_folds + 1\n",
        "freq = f\"{n_units}{unit}\"\n",
        "\n",
        "last_date = interactions[Columns.Datetime].max().normalize()\n",
        "start_date = last_date - pd.Timedelta(n_folds * n_units + 1, unit=unit)  \n",
        "print(f\"Start date and last date of the test fold: {start_date, last_date}\")\n",
        "    \n",
        "date_range = pd.date_range(start=start_date, periods=periods, freq=freq, tz=last_date.tz)\n",
        "print(f\"Test fold borders: {date_range.values.astype('datetime64[D]')}\")\n",
        "\n",
        "# Generator of folds\n",
        "cv = TimeRangeSplitter(\n",
        "    date_range=date_range,\n",
        "    filter_already_seen=True,\n",
        "    filter_cold_items=True,\n",
        "    filter_cold_users=True,\n",
        ")\n",
        "print(f\"Real number of folds: {cv.get_n_splits(Interactions(interactions))}\")\n"
      ],
      "metadata": {
        "colab": {
          "base_uri": "https://localhost:8080/"
        },
        "id": "EbE2_xSqc0nG",
        "outputId": "be4eb5b6-60af-429e-bed5-5e1adac88479"
      },
      "execution_count": 13,
      "outputs": [
        {
          "output_type": "stream",
          "name": "stdout",
          "text": [
            "Start date and last date of the test fold: (Timestamp('2021-08-08 00:00:00'), Timestamp('2021-08-22 00:00:00'))\n",
            "Test fold borders: ['2021-08-08' '2021-08-15']\n",
            "Real number of folds: 1\n"
          ]
        }
      ]
    },
    {
      "cell_type": "code",
      "source": [
        "# We have just 1 test fold - no need to iterate over fold\n",
        "(train_ids, test_ids, fold_info) = cv.split(Interactions(interactions), collect_fold_stats=True).__next__()"
      ],
      "metadata": {
        "id": "dd2GLVLDd2Qt"
      },
      "execution_count": 14,
      "outputs": []
    },
    {
      "cell_type": "code",
      "source": [
        "train_ids"
      ],
      "metadata": {
        "colab": {
          "base_uri": "https://localhost:8080/"
        },
        "id": "qHvCBWzVfL6x",
        "outputId": "9cb42a0c-f7d7-434b-fe3a-a1d8dbd70dd3"
      },
      "execution_count": 15,
      "outputs": [
        {
          "output_type": "execute_result",
          "data": {
            "text/plain": [
              "array([      0,       1,       2, ..., 5476245, 5476247, 5476249])"
            ]
          },
          "metadata": {},
          "execution_count": 15
        }
      ]
    },
    {
      "cell_type": "code",
      "source": [
        "test_ids"
      ],
      "metadata": {
        "colab": {
          "base_uri": "https://localhost:8080/"
        },
        "id": "uHRWZJ0ofawB",
        "outputId": "54864b6b-53fb-46fb-f5d7-82c8634eb5da"
      },
      "execution_count": 16,
      "outputs": [
        {
          "output_type": "execute_result",
          "data": {
            "text/plain": [
              "array([      6,      33,      56, ..., 5476229, 5476230, 5476240])"
            ]
          },
          "metadata": {},
          "execution_count": 16
        }
      ]
    },
    {
      "cell_type": "markdown",
      "source": [
        "##1.2. Train matrix preparation\n",
        "\n"
      ],
      "metadata": {
        "id": "uLfkcFYKfnkc"
      }
    },
    {
      "cell_type": "code",
      "source": [
        "train = interactions.loc[train_ids]\n",
        "test = interactions.loc[test_ids]"
      ],
      "metadata": {
        "id": "0iXs_rfkfcll"
      },
      "execution_count": 17,
      "outputs": []
    },
    {
      "cell_type": "code",
      "source": [
        "users_inv_mapping = dict(enumerate(train['user_id'].unique()))\n",
        "users_mapping = {v: k for k, v in users_inv_mapping.items()}"
      ],
      "metadata": {
        "id": "Y3L1EZsof2kc"
      },
      "execution_count": 18,
      "outputs": []
    },
    {
      "cell_type": "code",
      "source": [
        "items_inv_mapping = dict(enumerate(train['item_id'].unique()))\n",
        "items_mapping = {v: k for k, v in items_inv_mapping.items()}"
      ],
      "metadata": {
        "id": "j0iY01_rf82G"
      },
      "execution_count": 19,
      "outputs": []
    },
    {
      "cell_type": "code",
      "source": [
        "print(f\"users_mapping amount: {len(users_mapping)}\")\n",
        "print(f\"items_mapping amount: {len(items_mapping)}\")"
      ],
      "metadata": {
        "colab": {
          "base_uri": "https://localhost:8080/"
        },
        "id": "qJ8aD9Fwf-OQ",
        "outputId": "a69e64b2-d7ac-48b7-f2b3-3fa79733a174"
      },
      "execution_count": 20,
      "outputs": [
        {
          "output_type": "stream",
          "name": "stdout",
          "text": [
            "users_mapping amount: 842129\n",
            "items_mapping amount: 15404\n"
          ]
        }
      ]
    },
    {
      "cell_type": "markdown",
      "source": [
        "##1.3.Getting a sparse matrix"
      ],
      "metadata": {
        "id": "pbZajgIRgUBA"
      }
    },
    {
      "cell_type": "code",
      "source": [
        "interaction_matrix = get_coo_matrix(train, weight_col='weight',\n",
        "                                    users_mapping=users_mapping, \n",
        "                                    items_mapping=items_mapping)"
      ],
      "metadata": {
        "id": "yGFPajy8ghnU"
      },
      "execution_count": 21,
      "outputs": []
    },
    {
      "cell_type": "code",
      "source": [
        "interaction_matrix"
      ],
      "metadata": {
        "colab": {
          "base_uri": "https://localhost:8080/"
        },
        "id": "1OPbKUebgkIU",
        "outputId": "c46dea46-497d-4bf4-841e-7147a7498652"
      },
      "execution_count": 22,
      "outputs": [
        {
          "output_type": "execute_result",
          "data": {
            "text/plain": [
              "<842129x15404 sparse matrix of type '<class 'numpy.float32'>'\n",
              "\twith 4587708 stored elements in COOrdinate format>"
            ]
          },
          "metadata": {},
          "execution_count": 22
        }
      ]
    },
    {
      "cell_type": "markdown",
      "source": [
        "##1.4.Simple UserKNN model fitting"
      ],
      "metadata": {
        "id": "smlBbH9jjB_V"
      }
    },
    {
      "cell_type": "code",
      "source": [
        "userknn = CosineRecommender(K=10)\n",
        "userknn.fit(interaction_matrix)"
      ],
      "metadata": {
        "id": "vF9mk0npgnkY"
      },
      "execution_count": null,
      "outputs": []
    },
    {
      "cell_type": "code",
      "source": [
        "# Saving the model\n",
        "with open('userknn.dill', 'wb') as f:\n",
        "    dill.dump(userknn, f)"
      ],
      "metadata": {
        "id": "ev_dMkH0jWSI"
      },
      "execution_count": null,
      "outputs": []
    },
    {
      "cell_type": "code",
      "source": [
        "with open('/content/drive/MyDrive/MTS_RecSys/userknn.dill', 'rb') as f:\n",
        "    userknn = dill.load(f)"
      ],
      "metadata": {
        "id": "vPGDb1QdjeBA"
      },
      "execution_count": 116,
      "outputs": []
    },
    {
      "cell_type": "code",
      "source": [
        "mapper = generate_implicit_recs_mapper(\n",
        "    userknn, \n",
        "    N=N,\n",
        "    users_mapping=users_mapping,\n",
        "    users_inv_mapping=users_inv_mapping\n",
        ")"
      ],
      "metadata": {
        "id": "i7EpktlLjlwV"
      },
      "execution_count": 117,
      "outputs": []
    },
    {
      "cell_type": "code",
      "source": [
        "recs = pd.DataFrame({\n",
        "    'user_id': test['user_id'].unique()\n",
        "})\n",
        "\n",
        "recs['similar_user_id'], recs['similarity'] = zip(*recs['user_id'].map(mapper))\n",
        "recs.head()"
      ],
      "metadata": {
        "colab": {
          "base_uri": "https://localhost:8080/",
          "height": 337
        },
        "id": "OWiXk2cnj_OA",
        "outputId": "1dc1e920-e930-4585-93f0-7185642e5f0f"
      },
      "execution_count": 118,
      "outputs": [
        {
          "output_type": "execute_result",
          "data": {
            "text/plain": [
              "   user_id  \\\n",
              "0  1016458   \n",
              "1    68478   \n",
              "2   580093   \n",
              "3  1072552   \n",
              "4   910002   \n",
              "\n",
              "                                                                    similar_user_id  \\\n",
              "0   [1016458, 416417, 859673, 494256, 414523, 254272, 101745, 50573, 55914, 589357]   \n",
              "1    [68478, 20161, 412019, 620526, 695810, 879494, 589849, 988152, 691867, 594451]   \n",
              "2  [580093, 937473, 86046, 262791, 522603, 521456, 515818, 654291, 1009888, 333513]   \n",
              "3  [1072552, 1022231, 449057, 639316, 38521, 992547, 401940, 613583, 184399, 33572]   \n",
              "4     [910002, 490989, 57211, 914293, 442802, 185148, 594268, 737639, 57072, 55347]   \n",
              "\n",
              "                                                                                                                                                                                                similarity  \n",
              "0  [1.0000000098027124, 0.6143665279318272, 0.6115098337111928, 0.6031119652865972, 0.6016035410642744, 0.5956601420097666, 0.5951893645435953, 0.5910982730574769, 0.5901959801548787, 0.5899352526319...  \n",
              "1   [0.9999999999999997, 0.7739892962350301, 0.7739892916809104, 0.7739892904471841, 0.7739892904471841, 0.7739728844372993, 0.773732938463484, 0.7731990156224964, 0.764299456592446, 0.7371703228664362]  \n",
              "2    [0.999999972768243, 0.98170707253408, 0.9816027812180024, 0.9811408740629928, 0.9809446394117618, 0.9804554967089238, 0.9787225812866681, 0.9780463490829185, 0.9761219827587835, 0.9753862067490225]  \n",
              "3  [1.0000000074842705, 0.48938543442887494, 0.4845394132067774, 0.4778556198287305, 0.4747312631328243, 0.463755730200894, 0.46303331823589533, 0.4624616814044821, 0.46080084719982534, 0.45879293725...  \n",
              "4   [1.000000020041603, 0.7295340991209922, 0.7236776448102081, 0.7230887217258574, 0.722400619894437, 0.7218159408211805, 0.7216246604867983, 0.7181317479407374, 0.7177606301330373, 0.7175263799975921]  "
            ],
            "text/html": [
              "\n",
              "  <div id=\"df-ce789d9b-f28a-4481-8823-1cec5badb060\">\n",
              "    <div class=\"colab-df-container\">\n",
              "      <div>\n",
              "<style scoped>\n",
              "    .dataframe tbody tr th:only-of-type {\n",
              "        vertical-align: middle;\n",
              "    }\n",
              "\n",
              "    .dataframe tbody tr th {\n",
              "        vertical-align: top;\n",
              "    }\n",
              "\n",
              "    .dataframe thead th {\n",
              "        text-align: right;\n",
              "    }\n",
              "</style>\n",
              "<table border=\"1\" class=\"dataframe\">\n",
              "  <thead>\n",
              "    <tr style=\"text-align: right;\">\n",
              "      <th></th>\n",
              "      <th>user_id</th>\n",
              "      <th>similar_user_id</th>\n",
              "      <th>similarity</th>\n",
              "    </tr>\n",
              "  </thead>\n",
              "  <tbody>\n",
              "    <tr>\n",
              "      <th>0</th>\n",
              "      <td>1016458</td>\n",
              "      <td>[1016458, 416417, 859673, 494256, 414523, 254272, 101745, 50573, 55914, 589357]</td>\n",
              "      <td>[1.0000000098027124, 0.6143665279318272, 0.6115098337111928, 0.6031119652865972, 0.6016035410642744, 0.5956601420097666, 0.5951893645435953, 0.5910982730574769, 0.5901959801548787, 0.5899352526319...</td>\n",
              "    </tr>\n",
              "    <tr>\n",
              "      <th>1</th>\n",
              "      <td>68478</td>\n",
              "      <td>[68478, 20161, 412019, 620526, 695810, 879494, 589849, 988152, 691867, 594451]</td>\n",
              "      <td>[0.9999999999999997, 0.7739892962350301, 0.7739892916809104, 0.7739892904471841, 0.7739892904471841, 0.7739728844372993, 0.773732938463484, 0.7731990156224964, 0.764299456592446, 0.7371703228664362]</td>\n",
              "    </tr>\n",
              "    <tr>\n",
              "      <th>2</th>\n",
              "      <td>580093</td>\n",
              "      <td>[580093, 937473, 86046, 262791, 522603, 521456, 515818, 654291, 1009888, 333513]</td>\n",
              "      <td>[0.999999972768243, 0.98170707253408, 0.9816027812180024, 0.9811408740629928, 0.9809446394117618, 0.9804554967089238, 0.9787225812866681, 0.9780463490829185, 0.9761219827587835, 0.9753862067490225]</td>\n",
              "    </tr>\n",
              "    <tr>\n",
              "      <th>3</th>\n",
              "      <td>1072552</td>\n",
              "      <td>[1072552, 1022231, 449057, 639316, 38521, 992547, 401940, 613583, 184399, 33572]</td>\n",
              "      <td>[1.0000000074842705, 0.48938543442887494, 0.4845394132067774, 0.4778556198287305, 0.4747312631328243, 0.463755730200894, 0.46303331823589533, 0.4624616814044821, 0.46080084719982534, 0.45879293725...</td>\n",
              "    </tr>\n",
              "    <tr>\n",
              "      <th>4</th>\n",
              "      <td>910002</td>\n",
              "      <td>[910002, 490989, 57211, 914293, 442802, 185148, 594268, 737639, 57072, 55347]</td>\n",
              "      <td>[1.000000020041603, 0.7295340991209922, 0.7236776448102081, 0.7230887217258574, 0.722400619894437, 0.7218159408211805, 0.7216246604867983, 0.7181317479407374, 0.7177606301330373, 0.7175263799975921]</td>\n",
              "    </tr>\n",
              "  </tbody>\n",
              "</table>\n",
              "</div>\n",
              "      <button class=\"colab-df-convert\" onclick=\"convertToInteractive('df-ce789d9b-f28a-4481-8823-1cec5badb060')\"\n",
              "              title=\"Convert this dataframe to an interactive table.\"\n",
              "              style=\"display:none;\">\n",
              "        \n",
              "  <svg xmlns=\"http://www.w3.org/2000/svg\" height=\"24px\"viewBox=\"0 0 24 24\"\n",
              "       width=\"24px\">\n",
              "    <path d=\"M0 0h24v24H0V0z\" fill=\"none\"/>\n",
              "    <path d=\"M18.56 5.44l.94 2.06.94-2.06 2.06-.94-2.06-.94-.94-2.06-.94 2.06-2.06.94zm-11 1L8.5 8.5l.94-2.06 2.06-.94-2.06-.94L8.5 2.5l-.94 2.06-2.06.94zm10 10l.94 2.06.94-2.06 2.06-.94-2.06-.94-.94-2.06-.94 2.06-2.06.94z\"/><path d=\"M17.41 7.96l-1.37-1.37c-.4-.4-.92-.59-1.43-.59-.52 0-1.04.2-1.43.59L10.3 9.45l-7.72 7.72c-.78.78-.78 2.05 0 2.83L4 21.41c.39.39.9.59 1.41.59.51 0 1.02-.2 1.41-.59l7.78-7.78 2.81-2.81c.8-.78.8-2.07 0-2.86zM5.41 20L4 18.59l7.72-7.72 1.47 1.35L5.41 20z\"/>\n",
              "  </svg>\n",
              "      </button>\n",
              "      \n",
              "  <style>\n",
              "    .colab-df-container {\n",
              "      display:flex;\n",
              "      flex-wrap:wrap;\n",
              "      gap: 12px;\n",
              "    }\n",
              "\n",
              "    .colab-df-convert {\n",
              "      background-color: #E8F0FE;\n",
              "      border: none;\n",
              "      border-radius: 50%;\n",
              "      cursor: pointer;\n",
              "      display: none;\n",
              "      fill: #1967D2;\n",
              "      height: 32px;\n",
              "      padding: 0 0 0 0;\n",
              "      width: 32px;\n",
              "    }\n",
              "\n",
              "    .colab-df-convert:hover {\n",
              "      background-color: #E2EBFA;\n",
              "      box-shadow: 0px 1px 2px rgba(60, 64, 67, 0.3), 0px 1px 3px 1px rgba(60, 64, 67, 0.15);\n",
              "      fill: #174EA6;\n",
              "    }\n",
              "\n",
              "    [theme=dark] .colab-df-convert {\n",
              "      background-color: #3B4455;\n",
              "      fill: #D2E3FC;\n",
              "    }\n",
              "\n",
              "    [theme=dark] .colab-df-convert:hover {\n",
              "      background-color: #434B5C;\n",
              "      box-shadow: 0px 1px 3px 1px rgba(0, 0, 0, 0.15);\n",
              "      filter: drop-shadow(0px 1px 2px rgba(0, 0, 0, 0.3));\n",
              "      fill: #FFFFFF;\n",
              "    }\n",
              "  </style>\n",
              "\n",
              "      <script>\n",
              "        const buttonEl =\n",
              "          document.querySelector('#df-ce789d9b-f28a-4481-8823-1cec5badb060 button.colab-df-convert');\n",
              "        buttonEl.style.display =\n",
              "          google.colab.kernel.accessAllowed ? 'block' : 'none';\n",
              "\n",
              "        async function convertToInteractive(key) {\n",
              "          const element = document.querySelector('#df-ce789d9b-f28a-4481-8823-1cec5badb060');\n",
              "          const dataTable =\n",
              "            await google.colab.kernel.invokeFunction('convertToInteractive',\n",
              "                                                     [key], {});\n",
              "          if (!dataTable) return;\n",
              "\n",
              "          const docLinkHtml = 'Like what you see? Visit the ' +\n",
              "            '<a target=\"_blank\" href=https://colab.research.google.com/notebooks/data_table.ipynb>data table notebook</a>'\n",
              "            + ' to learn more about interactive tables.';\n",
              "          element.innerHTML = '';\n",
              "          dataTable['output_type'] = 'display_data';\n",
              "          await google.colab.output.renderOutput(dataTable, element);\n",
              "          const docLink = document.createElement('div');\n",
              "          docLink.innerHTML = docLinkHtml;\n",
              "          element.appendChild(docLink);\n",
              "        }\n",
              "      </script>\n",
              "    </div>\n",
              "  </div>\n",
              "  "
            ]
          },
          "metadata": {},
          "execution_count": 118
        }
      ]
    },
    {
      "cell_type": "code",
      "source": [
        "# Exploding lists to get vertical representation\n",
        "recs = recs.set_index('user_id').apply(pd.Series.explode).reset_index()"
      ],
      "metadata": {
        "id": "CMd8H_iokDWu"
      },
      "execution_count": 119,
      "outputs": []
    },
    {
      "cell_type": "code",
      "source": [
        "# Deleting recommendations of itself \n",
        "recs = recs[recs.user_id!=recs.similar_user_id]"
      ],
      "metadata": {
        "id": "EqcCWwt6kG_J"
      },
      "execution_count": 120,
      "outputs": []
    },
    {
      "cell_type": "code",
      "source": [
        "watched = train.groupby('user_id').agg({'item_id': list})\n",
        "watched.head()"
      ],
      "metadata": {
        "colab": {
          "base_uri": "https://localhost:8080/",
          "height": 238
        },
        "id": "2JiqgqCjkqal",
        "outputId": "47d9df80-c173-4564-91e0-dd617dcb4c9d"
      },
      "execution_count": 121,
      "outputs": [
        {
          "output_type": "execute_result",
          "data": {
            "text/plain": [
              "                                                                                                                                                                                                         item_id\n",
              "user_id                                                                                                                                                                                                         \n",
              "0                                                                                                                                                                        [7102, 14359, 15297, 6006, 9728, 12192]\n",
              "2        [7571, 3541, 15266, 13867, 12841, 10770, 4475, 9506, 8936, 11018, 11577, 561, 7106, 6774, 16029, 8482, 6825, 3594, 16166, 5819, 2954, 383, 11689, 12449, 2025, 6155, 3628, 334, 4024, 7210, 11539, 1...\n",
              "3                                                                                       [9728, 16406, 10440, 3475, 4151, 1418, 2220, 3734, 13789, 8581, 13849, 9550, 10464, 4880, 4436, 8801, 11790, 2657, 8252]\n",
              "4                                                                                                                                                                                                   [4700, 6317]\n",
              "5                                                                                                     [14397, 6445, 11437, 5651, 6167, 12466, 632, 8450, 2685, 7825, 3145, 7043, 4179, 15890, 5115, 4719, 10848]"
            ],
            "text/html": [
              "\n",
              "  <div id=\"df-b533e3e0-30fd-471d-97e6-2c0a1592b4ac\">\n",
              "    <div class=\"colab-df-container\">\n",
              "      <div>\n",
              "<style scoped>\n",
              "    .dataframe tbody tr th:only-of-type {\n",
              "        vertical-align: middle;\n",
              "    }\n",
              "\n",
              "    .dataframe tbody tr th {\n",
              "        vertical-align: top;\n",
              "    }\n",
              "\n",
              "    .dataframe thead th {\n",
              "        text-align: right;\n",
              "    }\n",
              "</style>\n",
              "<table border=\"1\" class=\"dataframe\">\n",
              "  <thead>\n",
              "    <tr style=\"text-align: right;\">\n",
              "      <th></th>\n",
              "      <th>item_id</th>\n",
              "    </tr>\n",
              "    <tr>\n",
              "      <th>user_id</th>\n",
              "      <th></th>\n",
              "    </tr>\n",
              "  </thead>\n",
              "  <tbody>\n",
              "    <tr>\n",
              "      <th>0</th>\n",
              "      <td>[7102, 14359, 15297, 6006, 9728, 12192]</td>\n",
              "    </tr>\n",
              "    <tr>\n",
              "      <th>2</th>\n",
              "      <td>[7571, 3541, 15266, 13867, 12841, 10770, 4475, 9506, 8936, 11018, 11577, 561, 7106, 6774, 16029, 8482, 6825, 3594, 16166, 5819, 2954, 383, 11689, 12449, 2025, 6155, 3628, 334, 4024, 7210, 11539, 1...</td>\n",
              "    </tr>\n",
              "    <tr>\n",
              "      <th>3</th>\n",
              "      <td>[9728, 16406, 10440, 3475, 4151, 1418, 2220, 3734, 13789, 8581, 13849, 9550, 10464, 4880, 4436, 8801, 11790, 2657, 8252]</td>\n",
              "    </tr>\n",
              "    <tr>\n",
              "      <th>4</th>\n",
              "      <td>[4700, 6317]</td>\n",
              "    </tr>\n",
              "    <tr>\n",
              "      <th>5</th>\n",
              "      <td>[14397, 6445, 11437, 5651, 6167, 12466, 632, 8450, 2685, 7825, 3145, 7043, 4179, 15890, 5115, 4719, 10848]</td>\n",
              "    </tr>\n",
              "  </tbody>\n",
              "</table>\n",
              "</div>\n",
              "      <button class=\"colab-df-convert\" onclick=\"convertToInteractive('df-b533e3e0-30fd-471d-97e6-2c0a1592b4ac')\"\n",
              "              title=\"Convert this dataframe to an interactive table.\"\n",
              "              style=\"display:none;\">\n",
              "        \n",
              "  <svg xmlns=\"http://www.w3.org/2000/svg\" height=\"24px\"viewBox=\"0 0 24 24\"\n",
              "       width=\"24px\">\n",
              "    <path d=\"M0 0h24v24H0V0z\" fill=\"none\"/>\n",
              "    <path d=\"M18.56 5.44l.94 2.06.94-2.06 2.06-.94-2.06-.94-.94-2.06-.94 2.06-2.06.94zm-11 1L8.5 8.5l.94-2.06 2.06-.94-2.06-.94L8.5 2.5l-.94 2.06-2.06.94zm10 10l.94 2.06.94-2.06 2.06-.94-2.06-.94-.94-2.06-.94 2.06-2.06.94z\"/><path d=\"M17.41 7.96l-1.37-1.37c-.4-.4-.92-.59-1.43-.59-.52 0-1.04.2-1.43.59L10.3 9.45l-7.72 7.72c-.78.78-.78 2.05 0 2.83L4 21.41c.39.39.9.59 1.41.59.51 0 1.02-.2 1.41-.59l7.78-7.78 2.81-2.81c.8-.78.8-2.07 0-2.86zM5.41 20L4 18.59l7.72-7.72 1.47 1.35L5.41 20z\"/>\n",
              "  </svg>\n",
              "      </button>\n",
              "      \n",
              "  <style>\n",
              "    .colab-df-container {\n",
              "      display:flex;\n",
              "      flex-wrap:wrap;\n",
              "      gap: 12px;\n",
              "    }\n",
              "\n",
              "    .colab-df-convert {\n",
              "      background-color: #E8F0FE;\n",
              "      border: none;\n",
              "      border-radius: 50%;\n",
              "      cursor: pointer;\n",
              "      display: none;\n",
              "      fill: #1967D2;\n",
              "      height: 32px;\n",
              "      padding: 0 0 0 0;\n",
              "      width: 32px;\n",
              "    }\n",
              "\n",
              "    .colab-df-convert:hover {\n",
              "      background-color: #E2EBFA;\n",
              "      box-shadow: 0px 1px 2px rgba(60, 64, 67, 0.3), 0px 1px 3px 1px rgba(60, 64, 67, 0.15);\n",
              "      fill: #174EA6;\n",
              "    }\n",
              "\n",
              "    [theme=dark] .colab-df-convert {\n",
              "      background-color: #3B4455;\n",
              "      fill: #D2E3FC;\n",
              "    }\n",
              "\n",
              "    [theme=dark] .colab-df-convert:hover {\n",
              "      background-color: #434B5C;\n",
              "      box-shadow: 0px 1px 3px 1px rgba(0, 0, 0, 0.15);\n",
              "      filter: drop-shadow(0px 1px 2px rgba(0, 0, 0, 0.3));\n",
              "      fill: #FFFFFF;\n",
              "    }\n",
              "  </style>\n",
              "\n",
              "      <script>\n",
              "        const buttonEl =\n",
              "          document.querySelector('#df-b533e3e0-30fd-471d-97e6-2c0a1592b4ac button.colab-df-convert');\n",
              "        buttonEl.style.display =\n",
              "          google.colab.kernel.accessAllowed ? 'block' : 'none';\n",
              "\n",
              "        async function convertToInteractive(key) {\n",
              "          const element = document.querySelector('#df-b533e3e0-30fd-471d-97e6-2c0a1592b4ac');\n",
              "          const dataTable =\n",
              "            await google.colab.kernel.invokeFunction('convertToInteractive',\n",
              "                                                     [key], {});\n",
              "          if (!dataTable) return;\n",
              "\n",
              "          const docLinkHtml = 'Like what you see? Visit the ' +\n",
              "            '<a target=\"_blank\" href=https://colab.research.google.com/notebooks/data_table.ipynb>data table notebook</a>'\n",
              "            + ' to learn more about interactive tables.';\n",
              "          element.innerHTML = '';\n",
              "          dataTable['output_type'] = 'display_data';\n",
              "          await google.colab.output.renderOutput(dataTable, element);\n",
              "          const docLink = document.createElement('div');\n",
              "          docLink.innerHTML = docLinkHtml;\n",
              "          element.appendChild(docLink);\n",
              "        }\n",
              "      </script>\n",
              "    </div>\n",
              "  </div>\n",
              "  "
            ]
          },
          "metadata": {},
          "execution_count": 121
        }
      ]
    },
    {
      "cell_type": "code",
      "source": [
        "# Joining watched items\n",
        "recs = recs.merge(watched, left_on=['similar_user_id'], right_on=['user_id'], how='left')\n",
        "recs = recs.explode('item_id')"
      ],
      "metadata": {
        "id": "NQJ6Vn6NkwEl"
      },
      "execution_count": 122,
      "outputs": []
    },
    {
      "cell_type": "code",
      "source": [
        "# Dropping duplicates pairs user_id-item_id and keeping rows with the highest similiarity\n",
        "\n",
        "recs = recs.sort_values(['user_id', 'similarity'], ascending=False)"
      ],
      "metadata": {
        "id": "kHFco7eLlVV5"
      },
      "execution_count": 123,
      "outputs": []
    },
    {
      "cell_type": "code",
      "source": [
        "recs = recs.drop_duplicates(['user_id', 'item_id'], keep='first')"
      ],
      "metadata": {
        "id": "EAvQ_4gHljZK"
      },
      "execution_count": 124,
      "outputs": []
    },
    {
      "cell_type": "markdown",
      "source": [
        "##1.5.Using idf for ranking"
      ],
      "metadata": {
        "id": "rkkuXWB0oJQ-"
      }
    },
    {
      "cell_type": "code",
      "source": [
        "recs = idf_ranking(recs, train)"
      ],
      "metadata": {
        "id": "xmjdGNXbmSKy"
      },
      "execution_count": 125,
      "outputs": []
    },
    {
      "cell_type": "code",
      "source": [
        "recs['rank_idf'] = recs['similarity'] * recs['idf']"
      ],
      "metadata": {
        "id": "PpFx0XfFnigX"
      },
      "execution_count": 126,
      "outputs": []
    },
    {
      "cell_type": "code",
      "source": [
        "# Making order by rank_idf \n",
        "recs = recs.sort_values(['user_id', 'rank_idf'], ascending=False)"
      ],
      "metadata": {
        "id": "ZvJRT-FEnpZc"
      },
      "execution_count": 127,
      "outputs": []
    },
    {
      "cell_type": "code",
      "source": [
        "# Making rank\n",
        "recs['rank'] = recs.groupby('user_id').cumcount() + 1 "
      ],
      "metadata": {
        "id": "8B7JNZClns4d"
      },
      "execution_count": 128,
      "outputs": []
    },
    {
      "cell_type": "code",
      "source": [
        "# Decreasing rank to N\n",
        "recs = recs[recs['rank'] <= N]"
      ],
      "metadata": {
        "id": "PMo3842uFkWZ"
      },
      "execution_count": 129,
      "outputs": []
    },
    {
      "cell_type": "code",
      "source": [
        "recs"
      ],
      "metadata": {
        "colab": {
          "base_uri": "https://localhost:8080/",
          "height": 424
        },
        "id": "vOBO7od1xOuO",
        "outputId": "e06b0044-4d53-4578-fc04-6a43275d7470"
      },
      "execution_count": 130,
      "outputs": [
        {
          "output_type": "execute_result",
          "data": {
            "text/plain": [
              "         user_id similar_user_id similarity item_id       idf  rank_idf  rank\n",
              "1        1097544          412291   0.704641    7829  5.770857  4.066384     1\n",
              "0        1097544          412291   0.704641    8636  4.958912  3.494255     2\n",
              "2        1097544          412291   0.704641    9996  4.928260  3.472656     3\n",
              "16       1097534         1081871   0.942736    8586  9.870883  9.305635     1\n",
              "11       1097534          331384   0.951861     475  8.081493  7.692454     2\n",
              "...          ...             ...        ...     ...       ...       ...   ...\n",
              "1813671        3          325741   0.906174   14603  7.527456  6.821187     6\n",
              "1813659        3           97015   0.908573    3768  7.475807  6.792314     7\n",
              "1813670        3          325741   0.906174   12259  7.472355  6.771256     8\n",
              "1813660        3           97015   0.908573    6089  7.271497  6.606683     9\n",
              "1813667        3          905817    0.90648   14461  6.629429  6.009441    10\n",
              "\n",
              "[682391 rows x 7 columns]"
            ],
            "text/html": [
              "\n",
              "  <div id=\"df-53cd9606-afff-4f16-9b37-dff55674776c\">\n",
              "    <div class=\"colab-df-container\">\n",
              "      <div>\n",
              "<style scoped>\n",
              "    .dataframe tbody tr th:only-of-type {\n",
              "        vertical-align: middle;\n",
              "    }\n",
              "\n",
              "    .dataframe tbody tr th {\n",
              "        vertical-align: top;\n",
              "    }\n",
              "\n",
              "    .dataframe thead th {\n",
              "        text-align: right;\n",
              "    }\n",
              "</style>\n",
              "<table border=\"1\" class=\"dataframe\">\n",
              "  <thead>\n",
              "    <tr style=\"text-align: right;\">\n",
              "      <th></th>\n",
              "      <th>user_id</th>\n",
              "      <th>similar_user_id</th>\n",
              "      <th>similarity</th>\n",
              "      <th>item_id</th>\n",
              "      <th>idf</th>\n",
              "      <th>rank_idf</th>\n",
              "      <th>rank</th>\n",
              "    </tr>\n",
              "  </thead>\n",
              "  <tbody>\n",
              "    <tr>\n",
              "      <th>1</th>\n",
              "      <td>1097544</td>\n",
              "      <td>412291</td>\n",
              "      <td>0.704641</td>\n",
              "      <td>7829</td>\n",
              "      <td>5.770857</td>\n",
              "      <td>4.066384</td>\n",
              "      <td>1</td>\n",
              "    </tr>\n",
              "    <tr>\n",
              "      <th>0</th>\n",
              "      <td>1097544</td>\n",
              "      <td>412291</td>\n",
              "      <td>0.704641</td>\n",
              "      <td>8636</td>\n",
              "      <td>4.958912</td>\n",
              "      <td>3.494255</td>\n",
              "      <td>2</td>\n",
              "    </tr>\n",
              "    <tr>\n",
              "      <th>2</th>\n",
              "      <td>1097544</td>\n",
              "      <td>412291</td>\n",
              "      <td>0.704641</td>\n",
              "      <td>9996</td>\n",
              "      <td>4.928260</td>\n",
              "      <td>3.472656</td>\n",
              "      <td>3</td>\n",
              "    </tr>\n",
              "    <tr>\n",
              "      <th>16</th>\n",
              "      <td>1097534</td>\n",
              "      <td>1081871</td>\n",
              "      <td>0.942736</td>\n",
              "      <td>8586</td>\n",
              "      <td>9.870883</td>\n",
              "      <td>9.305635</td>\n",
              "      <td>1</td>\n",
              "    </tr>\n",
              "    <tr>\n",
              "      <th>11</th>\n",
              "      <td>1097534</td>\n",
              "      <td>331384</td>\n",
              "      <td>0.951861</td>\n",
              "      <td>475</td>\n",
              "      <td>8.081493</td>\n",
              "      <td>7.692454</td>\n",
              "      <td>2</td>\n",
              "    </tr>\n",
              "    <tr>\n",
              "      <th>...</th>\n",
              "      <td>...</td>\n",
              "      <td>...</td>\n",
              "      <td>...</td>\n",
              "      <td>...</td>\n",
              "      <td>...</td>\n",
              "      <td>...</td>\n",
              "      <td>...</td>\n",
              "    </tr>\n",
              "    <tr>\n",
              "      <th>1813671</th>\n",
              "      <td>3</td>\n",
              "      <td>325741</td>\n",
              "      <td>0.906174</td>\n",
              "      <td>14603</td>\n",
              "      <td>7.527456</td>\n",
              "      <td>6.821187</td>\n",
              "      <td>6</td>\n",
              "    </tr>\n",
              "    <tr>\n",
              "      <th>1813659</th>\n",
              "      <td>3</td>\n",
              "      <td>97015</td>\n",
              "      <td>0.908573</td>\n",
              "      <td>3768</td>\n",
              "      <td>7.475807</td>\n",
              "      <td>6.792314</td>\n",
              "      <td>7</td>\n",
              "    </tr>\n",
              "    <tr>\n",
              "      <th>1813670</th>\n",
              "      <td>3</td>\n",
              "      <td>325741</td>\n",
              "      <td>0.906174</td>\n",
              "      <td>12259</td>\n",
              "      <td>7.472355</td>\n",
              "      <td>6.771256</td>\n",
              "      <td>8</td>\n",
              "    </tr>\n",
              "    <tr>\n",
              "      <th>1813660</th>\n",
              "      <td>3</td>\n",
              "      <td>97015</td>\n",
              "      <td>0.908573</td>\n",
              "      <td>6089</td>\n",
              "      <td>7.271497</td>\n",
              "      <td>6.606683</td>\n",
              "      <td>9</td>\n",
              "    </tr>\n",
              "    <tr>\n",
              "      <th>1813667</th>\n",
              "      <td>3</td>\n",
              "      <td>905817</td>\n",
              "      <td>0.90648</td>\n",
              "      <td>14461</td>\n",
              "      <td>6.629429</td>\n",
              "      <td>6.009441</td>\n",
              "      <td>10</td>\n",
              "    </tr>\n",
              "  </tbody>\n",
              "</table>\n",
              "<p>682391 rows × 7 columns</p>\n",
              "</div>\n",
              "      <button class=\"colab-df-convert\" onclick=\"convertToInteractive('df-53cd9606-afff-4f16-9b37-dff55674776c')\"\n",
              "              title=\"Convert this dataframe to an interactive table.\"\n",
              "              style=\"display:none;\">\n",
              "        \n",
              "  <svg xmlns=\"http://www.w3.org/2000/svg\" height=\"24px\"viewBox=\"0 0 24 24\"\n",
              "       width=\"24px\">\n",
              "    <path d=\"M0 0h24v24H0V0z\" fill=\"none\"/>\n",
              "    <path d=\"M18.56 5.44l.94 2.06.94-2.06 2.06-.94-2.06-.94-.94-2.06-.94 2.06-2.06.94zm-11 1L8.5 8.5l.94-2.06 2.06-.94-2.06-.94L8.5 2.5l-.94 2.06-2.06.94zm10 10l.94 2.06.94-2.06 2.06-.94-2.06-.94-.94-2.06-.94 2.06-2.06.94z\"/><path d=\"M17.41 7.96l-1.37-1.37c-.4-.4-.92-.59-1.43-.59-.52 0-1.04.2-1.43.59L10.3 9.45l-7.72 7.72c-.78.78-.78 2.05 0 2.83L4 21.41c.39.39.9.59 1.41.59.51 0 1.02-.2 1.41-.59l7.78-7.78 2.81-2.81c.8-.78.8-2.07 0-2.86zM5.41 20L4 18.59l7.72-7.72 1.47 1.35L5.41 20z\"/>\n",
              "  </svg>\n",
              "      </button>\n",
              "      \n",
              "  <style>\n",
              "    .colab-df-container {\n",
              "      display:flex;\n",
              "      flex-wrap:wrap;\n",
              "      gap: 12px;\n",
              "    }\n",
              "\n",
              "    .colab-df-convert {\n",
              "      background-color: #E8F0FE;\n",
              "      border: none;\n",
              "      border-radius: 50%;\n",
              "      cursor: pointer;\n",
              "      display: none;\n",
              "      fill: #1967D2;\n",
              "      height: 32px;\n",
              "      padding: 0 0 0 0;\n",
              "      width: 32px;\n",
              "    }\n",
              "\n",
              "    .colab-df-convert:hover {\n",
              "      background-color: #E2EBFA;\n",
              "      box-shadow: 0px 1px 2px rgba(60, 64, 67, 0.3), 0px 1px 3px 1px rgba(60, 64, 67, 0.15);\n",
              "      fill: #174EA6;\n",
              "    }\n",
              "\n",
              "    [theme=dark] .colab-df-convert {\n",
              "      background-color: #3B4455;\n",
              "      fill: #D2E3FC;\n",
              "    }\n",
              "\n",
              "    [theme=dark] .colab-df-convert:hover {\n",
              "      background-color: #434B5C;\n",
              "      box-shadow: 0px 1px 3px 1px rgba(0, 0, 0, 0.15);\n",
              "      filter: drop-shadow(0px 1px 2px rgba(0, 0, 0, 0.3));\n",
              "      fill: #FFFFFF;\n",
              "    }\n",
              "  </style>\n",
              "\n",
              "      <script>\n",
              "        const buttonEl =\n",
              "          document.querySelector('#df-53cd9606-afff-4f16-9b37-dff55674776c button.colab-df-convert');\n",
              "        buttonEl.style.display =\n",
              "          google.colab.kernel.accessAllowed ? 'block' : 'none';\n",
              "\n",
              "        async function convertToInteractive(key) {\n",
              "          const element = document.querySelector('#df-53cd9606-afff-4f16-9b37-dff55674776c');\n",
              "          const dataTable =\n",
              "            await google.colab.kernel.invokeFunction('convertToInteractive',\n",
              "                                                     [key], {});\n",
              "          if (!dataTable) return;\n",
              "\n",
              "          const docLinkHtml = 'Like what you see? Visit the ' +\n",
              "            '<a target=\"_blank\" href=https://colab.research.google.com/notebooks/data_table.ipynb>data table notebook</a>'\n",
              "            + ' to learn more about interactive tables.';\n",
              "          element.innerHTML = '';\n",
              "          dataTable['output_type'] = 'display_data';\n",
              "          await google.colab.output.renderOutput(dataTable, element);\n",
              "          const docLink = document.createElement('div');\n",
              "          docLink.innerHTML = docLinkHtml;\n",
              "          element.appendChild(docLink);\n",
              "        }\n",
              "      </script>\n",
              "    </div>\n",
              "  </div>\n",
              "  "
            ]
          },
          "metadata": {},
          "execution_count": 130
        }
      ]
    },
    {
      "cell_type": "markdown",
      "source": [
        "##1.6.Dealing with less than N recommendations"
      ],
      "metadata": {
        "id": "Ei0knK4iwxbg"
      }
    },
    {
      "cell_type": "code",
      "source": [
        "# We have users with less than N recommendations\n",
        "s = recs['user_id'].value_counts()\n",
        "s[s<N]"
      ],
      "metadata": {
        "colab": {
          "base_uri": "https://localhost:8080/"
        },
        "outputId": "2c07aa41-6e7b-4fe8-820b-d581e08e15c7",
        "id": "zC65GUghwxbg"
      },
      "execution_count": 131,
      "outputs": [
        {
          "output_type": "execute_result",
          "data": {
            "text/plain": [
              "197452     9\n",
              "615926     9\n",
              "1058629    9\n",
              "501864     9\n",
              "928027     9\n",
              "          ..\n",
              "204717     1\n",
              "991217     1\n",
              "204767     1\n",
              "850663     1\n",
              "361516     1\n",
              "Name: user_id, Length: 48670, dtype: int64"
            ]
          },
          "metadata": {},
          "execution_count": 131
        }
      ]
    },
    {
      "cell_type": "code",
      "source": [
        "recs[recs['user_id'].isin(s[s<N].index)]"
      ],
      "metadata": {
        "colab": {
          "base_uri": "https://localhost:8080/",
          "height": 424
        },
        "outputId": "16f0a265-6fd8-4120-9745-88ab67fea838",
        "id": "QjGWalmqwxbh"
      },
      "execution_count": 132,
      "outputs": [
        {
          "output_type": "execute_result",
          "data": {
            "text/plain": [
              "         user_id similar_user_id similarity item_id       idf  rank_idf  rank\n",
              "1        1097544          412291   0.704641    7829  5.770857  4.066384     1\n",
              "0        1097544          412291   0.704641    8636  4.958912  3.494255     2\n",
              "2        1097544          412291   0.704641    9996  4.928260  3.472656     3\n",
              "63       1097512          984690        1.0    3734  4.286431   4.28643     1\n",
              "64       1097512          553951        1.0   15297  3.352498  3.352497     2\n",
              "...          ...             ...        ...     ...       ...       ...   ...\n",
              "1813491      119          123470   0.996359    7626  5.930396  5.908801     2\n",
              "1813490      119          591119   0.999797    4436  5.667337  5.666187     3\n",
              "1813489      119          591119   0.999797    9728  3.792339   3.79157     4\n",
              "1813493      107          507982        1.0    2657  4.307105  4.307105     1\n",
              "1813653       14          788373        1.0   10440  3.312090   3.31209     1\n",
              "\n",
              "[149271 rows x 7 columns]"
            ],
            "text/html": [
              "\n",
              "  <div id=\"df-91a6789a-6d97-49c8-bffa-dbdead0f28e5\">\n",
              "    <div class=\"colab-df-container\">\n",
              "      <div>\n",
              "<style scoped>\n",
              "    .dataframe tbody tr th:only-of-type {\n",
              "        vertical-align: middle;\n",
              "    }\n",
              "\n",
              "    .dataframe tbody tr th {\n",
              "        vertical-align: top;\n",
              "    }\n",
              "\n",
              "    .dataframe thead th {\n",
              "        text-align: right;\n",
              "    }\n",
              "</style>\n",
              "<table border=\"1\" class=\"dataframe\">\n",
              "  <thead>\n",
              "    <tr style=\"text-align: right;\">\n",
              "      <th></th>\n",
              "      <th>user_id</th>\n",
              "      <th>similar_user_id</th>\n",
              "      <th>similarity</th>\n",
              "      <th>item_id</th>\n",
              "      <th>idf</th>\n",
              "      <th>rank_idf</th>\n",
              "      <th>rank</th>\n",
              "    </tr>\n",
              "  </thead>\n",
              "  <tbody>\n",
              "    <tr>\n",
              "      <th>1</th>\n",
              "      <td>1097544</td>\n",
              "      <td>412291</td>\n",
              "      <td>0.704641</td>\n",
              "      <td>7829</td>\n",
              "      <td>5.770857</td>\n",
              "      <td>4.066384</td>\n",
              "      <td>1</td>\n",
              "    </tr>\n",
              "    <tr>\n",
              "      <th>0</th>\n",
              "      <td>1097544</td>\n",
              "      <td>412291</td>\n",
              "      <td>0.704641</td>\n",
              "      <td>8636</td>\n",
              "      <td>4.958912</td>\n",
              "      <td>3.494255</td>\n",
              "      <td>2</td>\n",
              "    </tr>\n",
              "    <tr>\n",
              "      <th>2</th>\n",
              "      <td>1097544</td>\n",
              "      <td>412291</td>\n",
              "      <td>0.704641</td>\n",
              "      <td>9996</td>\n",
              "      <td>4.928260</td>\n",
              "      <td>3.472656</td>\n",
              "      <td>3</td>\n",
              "    </tr>\n",
              "    <tr>\n",
              "      <th>63</th>\n",
              "      <td>1097512</td>\n",
              "      <td>984690</td>\n",
              "      <td>1.0</td>\n",
              "      <td>3734</td>\n",
              "      <td>4.286431</td>\n",
              "      <td>4.28643</td>\n",
              "      <td>1</td>\n",
              "    </tr>\n",
              "    <tr>\n",
              "      <th>64</th>\n",
              "      <td>1097512</td>\n",
              "      <td>553951</td>\n",
              "      <td>1.0</td>\n",
              "      <td>15297</td>\n",
              "      <td>3.352498</td>\n",
              "      <td>3.352497</td>\n",
              "      <td>2</td>\n",
              "    </tr>\n",
              "    <tr>\n",
              "      <th>...</th>\n",
              "      <td>...</td>\n",
              "      <td>...</td>\n",
              "      <td>...</td>\n",
              "      <td>...</td>\n",
              "      <td>...</td>\n",
              "      <td>...</td>\n",
              "      <td>...</td>\n",
              "    </tr>\n",
              "    <tr>\n",
              "      <th>1813491</th>\n",
              "      <td>119</td>\n",
              "      <td>123470</td>\n",
              "      <td>0.996359</td>\n",
              "      <td>7626</td>\n",
              "      <td>5.930396</td>\n",
              "      <td>5.908801</td>\n",
              "      <td>2</td>\n",
              "    </tr>\n",
              "    <tr>\n",
              "      <th>1813490</th>\n",
              "      <td>119</td>\n",
              "      <td>591119</td>\n",
              "      <td>0.999797</td>\n",
              "      <td>4436</td>\n",
              "      <td>5.667337</td>\n",
              "      <td>5.666187</td>\n",
              "      <td>3</td>\n",
              "    </tr>\n",
              "    <tr>\n",
              "      <th>1813489</th>\n",
              "      <td>119</td>\n",
              "      <td>591119</td>\n",
              "      <td>0.999797</td>\n",
              "      <td>9728</td>\n",
              "      <td>3.792339</td>\n",
              "      <td>3.79157</td>\n",
              "      <td>4</td>\n",
              "    </tr>\n",
              "    <tr>\n",
              "      <th>1813493</th>\n",
              "      <td>107</td>\n",
              "      <td>507982</td>\n",
              "      <td>1.0</td>\n",
              "      <td>2657</td>\n",
              "      <td>4.307105</td>\n",
              "      <td>4.307105</td>\n",
              "      <td>1</td>\n",
              "    </tr>\n",
              "    <tr>\n",
              "      <th>1813653</th>\n",
              "      <td>14</td>\n",
              "      <td>788373</td>\n",
              "      <td>1.0</td>\n",
              "      <td>10440</td>\n",
              "      <td>3.312090</td>\n",
              "      <td>3.31209</td>\n",
              "      <td>1</td>\n",
              "    </tr>\n",
              "  </tbody>\n",
              "</table>\n",
              "<p>149271 rows × 7 columns</p>\n",
              "</div>\n",
              "      <button class=\"colab-df-convert\" onclick=\"convertToInteractive('df-91a6789a-6d97-49c8-bffa-dbdead0f28e5')\"\n",
              "              title=\"Convert this dataframe to an interactive table.\"\n",
              "              style=\"display:none;\">\n",
              "        \n",
              "  <svg xmlns=\"http://www.w3.org/2000/svg\" height=\"24px\"viewBox=\"0 0 24 24\"\n",
              "       width=\"24px\">\n",
              "    <path d=\"M0 0h24v24H0V0z\" fill=\"none\"/>\n",
              "    <path d=\"M18.56 5.44l.94 2.06.94-2.06 2.06-.94-2.06-.94-.94-2.06-.94 2.06-2.06.94zm-11 1L8.5 8.5l.94-2.06 2.06-.94-2.06-.94L8.5 2.5l-.94 2.06-2.06.94zm10 10l.94 2.06.94-2.06 2.06-.94-2.06-.94-.94-2.06-.94 2.06-2.06.94z\"/><path d=\"M17.41 7.96l-1.37-1.37c-.4-.4-.92-.59-1.43-.59-.52 0-1.04.2-1.43.59L10.3 9.45l-7.72 7.72c-.78.78-.78 2.05 0 2.83L4 21.41c.39.39.9.59 1.41.59.51 0 1.02-.2 1.41-.59l7.78-7.78 2.81-2.81c.8-.78.8-2.07 0-2.86zM5.41 20L4 18.59l7.72-7.72 1.47 1.35L5.41 20z\"/>\n",
              "  </svg>\n",
              "      </button>\n",
              "      \n",
              "  <style>\n",
              "    .colab-df-container {\n",
              "      display:flex;\n",
              "      flex-wrap:wrap;\n",
              "      gap: 12px;\n",
              "    }\n",
              "\n",
              "    .colab-df-convert {\n",
              "      background-color: #E8F0FE;\n",
              "      border: none;\n",
              "      border-radius: 50%;\n",
              "      cursor: pointer;\n",
              "      display: none;\n",
              "      fill: #1967D2;\n",
              "      height: 32px;\n",
              "      padding: 0 0 0 0;\n",
              "      width: 32px;\n",
              "    }\n",
              "\n",
              "    .colab-df-convert:hover {\n",
              "      background-color: #E2EBFA;\n",
              "      box-shadow: 0px 1px 2px rgba(60, 64, 67, 0.3), 0px 1px 3px 1px rgba(60, 64, 67, 0.15);\n",
              "      fill: #174EA6;\n",
              "    }\n",
              "\n",
              "    [theme=dark] .colab-df-convert {\n",
              "      background-color: #3B4455;\n",
              "      fill: #D2E3FC;\n",
              "    }\n",
              "\n",
              "    [theme=dark] .colab-df-convert:hover {\n",
              "      background-color: #434B5C;\n",
              "      box-shadow: 0px 1px 3px 1px rgba(0, 0, 0, 0.15);\n",
              "      filter: drop-shadow(0px 1px 2px rgba(0, 0, 0, 0.3));\n",
              "      fill: #FFFFFF;\n",
              "    }\n",
              "  </style>\n",
              "\n",
              "      <script>\n",
              "        const buttonEl =\n",
              "          document.querySelector('#df-91a6789a-6d97-49c8-bffa-dbdead0f28e5 button.colab-df-convert');\n",
              "        buttonEl.style.display =\n",
              "          google.colab.kernel.accessAllowed ? 'block' : 'none';\n",
              "\n",
              "        async function convertToInteractive(key) {\n",
              "          const element = document.querySelector('#df-91a6789a-6d97-49c8-bffa-dbdead0f28e5');\n",
              "          const dataTable =\n",
              "            await google.colab.kernel.invokeFunction('convertToInteractive',\n",
              "                                                     [key], {});\n",
              "          if (!dataTable) return;\n",
              "\n",
              "          const docLinkHtml = 'Like what you see? Visit the ' +\n",
              "            '<a target=\"_blank\" href=https://colab.research.google.com/notebooks/data_table.ipynb>data table notebook</a>'\n",
              "            + ' to learn more about interactive tables.';\n",
              "          element.innerHTML = '';\n",
              "          dataTable['output_type'] = 'display_data';\n",
              "          await google.colab.output.renderOutput(dataTable, element);\n",
              "          const docLink = document.createElement('div');\n",
              "          docLink.innerHTML = docLinkHtml;\n",
              "          element.appendChild(docLink);\n",
              "        }\n",
              "      </script>\n",
              "    </div>\n",
              "  </div>\n",
              "  "
            ]
          },
          "metadata": {},
          "execution_count": 132
        }
      ]
    },
    {
      "cell_type": "code",
      "source": [
        "not_enough_dict = recs[recs['user_id'].isin(s[s<N].index)].groupby('user_id')['item_id'].agg(lambda row: list(row)).to_dict()"
      ],
      "metadata": {
        "id": "lI2ZxcC0wxbh"
      },
      "execution_count": 137,
      "outputs": []
    },
    {
      "cell_type": "markdown",
      "source": [
        "### Popular model"
      ],
      "metadata": {
        "id": "MzuH1RYIbC_S"
      }
    },
    {
      "cell_type": "code",
      "source": [
        "# Creating dataset for PopularModel\n",
        "dataset_train = Dataset.construct(\n",
        "    interactions_df=train,\n",
        "    user_features_df=None,\n",
        "    item_features_df=None\n",
        ")"
      ],
      "metadata": {
        "id": "oddY4EAPwxbh"
      },
      "execution_count": 67,
      "outputs": []
    },
    {
      "cell_type": "code",
      "source": [
        "popular_model = PopularModel()\n",
        "popular_model.fit(dataset_train)"
      ],
      "metadata": {
        "colab": {
          "base_uri": "https://localhost:8080/"
        },
        "outputId": "262670dc-51c9-4ae8-fe1b-c68f9551f5cc",
        "id": "XYS9LIeewxbh"
      },
      "execution_count": 68,
      "outputs": [
        {
          "output_type": "execute_result",
          "data": {
            "text/plain": [
              "<rectools.models.popular.PopularModel at 0x7f79656d3850>"
            ]
          },
          "metadata": {},
          "execution_count": 68
        }
      ]
    },
    {
      "cell_type": "code",
      "source": [
        "popular_model_result = popular_model.recommend(\n",
        "    dataset_train.user_id_map.external_ids[:1], \n",
        "    dataset=dataset_train, \n",
        "    k=2*N, \n",
        "    filter_viewed=False,\n",
        ")['item_id'].to_list()"
      ],
      "metadata": {
        "id": "6vWQNGm2wxbh"
      },
      "execution_count": 69,
      "outputs": []
    },
    {
      "cell_type": "code",
      "source": [
        "popular_model_result"
      ],
      "metadata": {
        "colab": {
          "base_uri": "https://localhost:8080/"
        },
        "outputId": "2176db4b-a9f5-4c34-d65e-677fb5800022",
        "id": "-hRLV3vtwxbh"
      },
      "execution_count": 70,
      "outputs": [
        {
          "output_type": "execute_result",
          "data": {
            "text/plain": [
              "[10440,\n",
              " 15297,\n",
              " 13865,\n",
              " 9728,\n",
              " 4151,\n",
              " 3734,\n",
              " 2657,\n",
              " 4880,\n",
              " 142,\n",
              " 6809,\n",
              " 9996,\n",
              " 4740,\n",
              " 8636,\n",
              " 12192,\n",
              " 11237,\n",
              " 7571,\n",
              " 1844,\n",
              " 12995,\n",
              " 14741,\n",
              " 14431]"
            ]
          },
          "metadata": {},
          "execution_count": 70
        }
      ]
    },
    {
      "cell_type": "code",
      "source": [
        "d = {\"user_id\":[], \"item_id\": [], \"rank\": []}\n",
        "# for user_id, max_rank in not_enough_dict.items():\n",
        "for user_id, item_id_list in not_enough_dict.items():\n",
        "    max_rank = len(item_id_list)\n",
        "    # drop popular items, that is already in recommendation list\n",
        "    corrected_popular_list = [item for item in popular_model_result if item not in item_id_list]\n",
        "    for i in range(1, N - max_rank + 1):\n",
        "        d['user_id'].append(user_id)\n",
        "        d['item_id'].append(corrected_popular_list[i])\n",
        "        d['rank'].append(max_rank+i)"
      ],
      "metadata": {
        "id": "-quG4SLrwxbi"
      },
      "execution_count": 143,
      "outputs": []
    },
    {
      "cell_type": "code",
      "source": [
        "filled_with_popular_userknn = pd.DataFrame.from_dict(d)"
      ],
      "metadata": {
        "id": "BnKEVdQuwxbi"
      },
      "execution_count": 145,
      "outputs": []
    },
    {
      "cell_type": "code",
      "source": [
        "final_result_userknn = pd.concat([recs,filled_with_popular_userknn])"
      ],
      "metadata": {
        "id": "jyKrkfNPwxbi"
      },
      "execution_count": 150,
      "outputs": []
    },
    {
      "cell_type": "code",
      "source": [
        "s = final_result_userknn['user_id'].value_counts()\n",
        "s[s<10]"
      ],
      "metadata": {
        "colab": {
          "base_uri": "https://localhost:8080/"
        },
        "outputId": "98983b82-6713-40ea-fa86-345e307d0843",
        "id": "Vkat6pZ4wxbi"
      },
      "execution_count": 151,
      "outputs": [
        {
          "output_type": "execute_result",
          "data": {
            "text/plain": [
              "Series([], Name: user_id, dtype: int64)"
            ]
          },
          "metadata": {},
          "execution_count": 151
        }
      ]
    },
    {
      "cell_type": "code",
      "source": [
        "with open('/content/drive/MyDrive/MTS_RecSys/final_result_userknn.dill', 'wb') as f:\n",
        "    dill.dump(final_result_userknn, f)"
      ],
      "metadata": {
        "id": "SfoxGMfRWSCU"
      },
      "execution_count": 152,
      "outputs": []
    },
    {
      "cell_type": "markdown",
      "source": [
        "##1.7.Metrics"
      ],
      "metadata": {
        "id": "khWTEwIAoUFa"
      }
    },
    {
      "cell_type": "code",
      "source": [
        "# Calculating several metrics, including MAP@10\n",
        "metrics = {\n",
        "    \"prec@10\": Precision(k=10),\n",
        "    \"recall@10\": Recall(k=10),\n",
        "    \"novelty\": MeanInvUserFreq(k=10),\n",
        "    \"serendipity\": Serendipity(k=10),\n",
        "    \"map@10\": MAP(k=10),\n",
        "}"
      ],
      "metadata": {
        "id": "xUzZ81OHoWqZ"
      },
      "execution_count": 26,
      "outputs": []
    },
    {
      "cell_type": "code",
      "source": [
        "catalog = train['item_id'].unique()"
      ],
      "metadata": {
        "id": "eyHCekuspNQD"
      },
      "execution_count": 27,
      "outputs": []
    },
    {
      "cell_type": "code",
      "source": [
        "metric_values = calc_metrics(\n",
        "      metrics,\n",
        "      reco=final_result_userknn,\n",
        "      interactions=test,\n",
        "      prev_interactions=train,\n",
        "      catalog=catalog\n",
        ")"
      ],
      "metadata": {
        "id": "Be1l8FscpAS2"
      },
      "execution_count": 179,
      "outputs": []
    },
    {
      "cell_type": "code",
      "source": [
        "metric_values"
      ],
      "metadata": {
        "colab": {
          "base_uri": "https://localhost:8080/"
        },
        "id": "tGBOiVf6x258",
        "outputId": "e04eb427-2fca-485e-eab7-5033a1cda97f"
      },
      "execution_count": 180,
      "outputs": [
        {
          "output_type": "execute_result",
          "data": {
            "text/plain": [
              "{'prec@10': 0.015735955992665446,\n",
              " 'recall@10': 0.08167169516943629,\n",
              " 'map@10': 0.020269051400935267,\n",
              " 'novelty': 7.168520634937293,\n",
              " 'serendipity': 5.6443609141752035e-05}"
            ]
          },
          "metadata": {},
          "execution_count": 180
        }
      ]
    },
    {
      "cell_type": "markdown",
      "source": [
        "#2.Experiments"
      ],
      "metadata": {
        "id": "CPF5IDrH5Uv8"
      }
    },
    {
      "cell_type": "markdown",
      "source": [
        "##2.1.Other ranking approaches"
      ],
      "metadata": {
        "id": "sD-WLG4B5Ouo"
      }
    },
    {
      "cell_type": "markdown",
      "source": [
        "### TF-IDF"
      ],
      "metadata": {
        "id": "NW6wgPgH5rOH"
      }
    },
    {
      "cell_type": "code",
      "source": [
        "tfidf = TFIDFRecommender(K=10)\n",
        "tfidf.fit(interaction_matrix)"
      ],
      "metadata": {
        "colab": {
          "base_uri": "https://localhost:8080/",
          "height": 49,
          "referenced_widgets": [
            "e7a848eef0bb4b8783e57d05cc829f42",
            "02b36e8f28b7433baf05895ae6ab3ff7",
            "4bb9179db984492bbb52e9355d46c161",
            "4b4f2a03ddd64524a125ac2fbe1caff4",
            "0f01955038df4184b28041a1652dfb6b",
            "67e501c808964014afd70dc2e013ad20",
            "3968a7c824a74f81b707a8c9432916d7",
            "e95f46ae4a814042bdadb85b59ce74c5",
            "3e702786282d4bf2abf31b8efef6db2b",
            "2d9a1354aa9747d9b365b73333de8620",
            "f076b07657dd4c838a028d752d6746db"
          ]
        },
        "outputId": "7b9e0751-37c2-48a0-f852-4aa55cdc21d1",
        "id": "0jnwUp0i6F_R"
      },
      "execution_count": null,
      "outputs": [
        {
          "output_type": "display_data",
          "data": {
            "text/plain": [
              "  0%|          | 0/842129 [00:00<?, ?it/s]"
            ],
            "application/vnd.jupyter.widget-view+json": {
              "version_major": 2,
              "version_minor": 0,
              "model_id": "e7a848eef0bb4b8783e57d05cc829f42"
            }
          },
          "metadata": {}
        }
      ]
    },
    {
      "cell_type": "code",
      "source": [
        "# with open('/content/drive/MyDrive/MTS_RecSys/tfidf.dill', 'wb') as f:\n",
        "#     dill.dump(tfidf, f)"
      ],
      "metadata": {
        "id": "WnpDV49J7lev"
      },
      "execution_count": null,
      "outputs": []
    },
    {
      "cell_type": "code",
      "source": [
        "with open('/content/drive/MyDrive/MTS_RecSys/tfidf.dill', 'rb') as f:\n",
        "    tfidf = dill.load(f)"
      ],
      "metadata": {
        "id": "Hlo4Mvdk66qZ"
      },
      "execution_count": 153,
      "outputs": []
    },
    {
      "cell_type": "code",
      "source": [
        "mapper = generate_implicit_recs_mapper(\n",
        "    tfidf, \n",
        "    N=N,\n",
        "    users_mapping=users_mapping,\n",
        "    users_inv_mapping=users_inv_mapping\n",
        ")"
      ],
      "metadata": {
        "id": "NfmY4dVH6F_S"
      },
      "execution_count": 154,
      "outputs": []
    },
    {
      "cell_type": "code",
      "source": [
        "recs = pd.DataFrame({\n",
        "    'user_id': test['user_id'].unique()\n",
        "})\n",
        "\n",
        "recs['similar_user_id'], recs['similarity'] = zip(*recs['user_id'].map(mapper))\n",
        "recs.head()"
      ],
      "metadata": {
        "colab": {
          "base_uri": "https://localhost:8080/",
          "height": 337
        },
        "outputId": "4e401422-73fe-4150-a54b-34835feac0bf",
        "id": "BpZ9-js76F_S"
      },
      "execution_count": 155,
      "outputs": [
        {
          "output_type": "execute_result",
          "data": {
            "text/plain": [
              "   user_id  \\\n",
              "0  1016458   \n",
              "1    68478   \n",
              "2   580093   \n",
              "3  1072552   \n",
              "4   910002   \n",
              "\n",
              "                                                                     similar_user_id  \\\n",
              "0  [1016458, 542443, 983874, 263122, 1087135, 299198, 416417, 107556, 980255, 55914]   \n",
              "1    [68478, 620526, 695810, 20161, 412019, 879494, 589849, 988152, 691867, 1059229]   \n",
              "2    [580093, 805265, 980409, 939663, 708439, 736490, 943049, 86046, 522603, 521456]   \n",
              "3   [1072552, 162216, 613583, 896269, 449057, 246357, 992547, 49193, 503934, 639316]   \n",
              "4         [910002, 301452, 454746, 15649, 25643, 90163, 8179, 43300, 472743, 590422]   \n",
              "\n",
              "                                                                                                                                                                                                similarity  \n",
              "0  [0.9999999999999997, 0.30795056944195065, 0.2892556288628258, 0.2865786318030271, 0.2840258603538891, 0.28275509313396374, 0.2814949055823506, 0.2806520562356141, 0.27569737451648724, 0.2703263699...  \n",
              "1  [0.9999999999999998, 0.6879105673985805, 0.6879105673985805, 0.6879105673985805, 0.6879105673985805, 0.6875684365910972, 0.682527643497476, 0.6810886673793897, 0.6649011119333184, 0.6500976114158797]  \n",
              "2                  [1.0, 0.7937798109102163, 0.788744014339269, 0.7666797469287155, 0.7631606741401563, 0.750189495128039, 0.7501195711404515, 0.7474499190666032, 0.7473880080188159, 0.7471532852053147]  \n",
              "3  [1.0000000000000002, 0.45699036174245683, 0.45472129140483386, 0.4278037012555298, 0.42654520594852924, 0.42378450328959727, 0.41383525556374756, 0.411008423568197, 0.4078683617582729, 0.407690880...  \n",
              "4  [0.9999999999999997, 0.5504875268884805, 0.5503635062149785, 0.5497829629361086, 0.5497829629361086, 0.5497829629361086, 0.5497829629361086, 0.5497829629361086, 0.5497829629361086, 0.5497829629361...  "
            ],
            "text/html": [
              "\n",
              "  <div id=\"df-906c7c6c-752f-4705-abd1-72510bbf3c16\">\n",
              "    <div class=\"colab-df-container\">\n",
              "      <div>\n",
              "<style scoped>\n",
              "    .dataframe tbody tr th:only-of-type {\n",
              "        vertical-align: middle;\n",
              "    }\n",
              "\n",
              "    .dataframe tbody tr th {\n",
              "        vertical-align: top;\n",
              "    }\n",
              "\n",
              "    .dataframe thead th {\n",
              "        text-align: right;\n",
              "    }\n",
              "</style>\n",
              "<table border=\"1\" class=\"dataframe\">\n",
              "  <thead>\n",
              "    <tr style=\"text-align: right;\">\n",
              "      <th></th>\n",
              "      <th>user_id</th>\n",
              "      <th>similar_user_id</th>\n",
              "      <th>similarity</th>\n",
              "    </tr>\n",
              "  </thead>\n",
              "  <tbody>\n",
              "    <tr>\n",
              "      <th>0</th>\n",
              "      <td>1016458</td>\n",
              "      <td>[1016458, 542443, 983874, 263122, 1087135, 299198, 416417, 107556, 980255, 55914]</td>\n",
              "      <td>[0.9999999999999997, 0.30795056944195065, 0.2892556288628258, 0.2865786318030271, 0.2840258603538891, 0.28275509313396374, 0.2814949055823506, 0.2806520562356141, 0.27569737451648724, 0.2703263699...</td>\n",
              "    </tr>\n",
              "    <tr>\n",
              "      <th>1</th>\n",
              "      <td>68478</td>\n",
              "      <td>[68478, 620526, 695810, 20161, 412019, 879494, 589849, 988152, 691867, 1059229]</td>\n",
              "      <td>[0.9999999999999998, 0.6879105673985805, 0.6879105673985805, 0.6879105673985805, 0.6879105673985805, 0.6875684365910972, 0.682527643497476, 0.6810886673793897, 0.6649011119333184, 0.6500976114158797]</td>\n",
              "    </tr>\n",
              "    <tr>\n",
              "      <th>2</th>\n",
              "      <td>580093</td>\n",
              "      <td>[580093, 805265, 980409, 939663, 708439, 736490, 943049, 86046, 522603, 521456]</td>\n",
              "      <td>[1.0, 0.7937798109102163, 0.788744014339269, 0.7666797469287155, 0.7631606741401563, 0.750189495128039, 0.7501195711404515, 0.7474499190666032, 0.7473880080188159, 0.7471532852053147]</td>\n",
              "    </tr>\n",
              "    <tr>\n",
              "      <th>3</th>\n",
              "      <td>1072552</td>\n",
              "      <td>[1072552, 162216, 613583, 896269, 449057, 246357, 992547, 49193, 503934, 639316]</td>\n",
              "      <td>[1.0000000000000002, 0.45699036174245683, 0.45472129140483386, 0.4278037012555298, 0.42654520594852924, 0.42378450328959727, 0.41383525556374756, 0.411008423568197, 0.4078683617582729, 0.407690880...</td>\n",
              "    </tr>\n",
              "    <tr>\n",
              "      <th>4</th>\n",
              "      <td>910002</td>\n",
              "      <td>[910002, 301452, 454746, 15649, 25643, 90163, 8179, 43300, 472743, 590422]</td>\n",
              "      <td>[0.9999999999999997, 0.5504875268884805, 0.5503635062149785, 0.5497829629361086, 0.5497829629361086, 0.5497829629361086, 0.5497829629361086, 0.5497829629361086, 0.5497829629361086, 0.5497829629361...</td>\n",
              "    </tr>\n",
              "  </tbody>\n",
              "</table>\n",
              "</div>\n",
              "      <button class=\"colab-df-convert\" onclick=\"convertToInteractive('df-906c7c6c-752f-4705-abd1-72510bbf3c16')\"\n",
              "              title=\"Convert this dataframe to an interactive table.\"\n",
              "              style=\"display:none;\">\n",
              "        \n",
              "  <svg xmlns=\"http://www.w3.org/2000/svg\" height=\"24px\"viewBox=\"0 0 24 24\"\n",
              "       width=\"24px\">\n",
              "    <path d=\"M0 0h24v24H0V0z\" fill=\"none\"/>\n",
              "    <path d=\"M18.56 5.44l.94 2.06.94-2.06 2.06-.94-2.06-.94-.94-2.06-.94 2.06-2.06.94zm-11 1L8.5 8.5l.94-2.06 2.06-.94-2.06-.94L8.5 2.5l-.94 2.06-2.06.94zm10 10l.94 2.06.94-2.06 2.06-.94-2.06-.94-.94-2.06-.94 2.06-2.06.94z\"/><path d=\"M17.41 7.96l-1.37-1.37c-.4-.4-.92-.59-1.43-.59-.52 0-1.04.2-1.43.59L10.3 9.45l-7.72 7.72c-.78.78-.78 2.05 0 2.83L4 21.41c.39.39.9.59 1.41.59.51 0 1.02-.2 1.41-.59l7.78-7.78 2.81-2.81c.8-.78.8-2.07 0-2.86zM5.41 20L4 18.59l7.72-7.72 1.47 1.35L5.41 20z\"/>\n",
              "  </svg>\n",
              "      </button>\n",
              "      \n",
              "  <style>\n",
              "    .colab-df-container {\n",
              "      display:flex;\n",
              "      flex-wrap:wrap;\n",
              "      gap: 12px;\n",
              "    }\n",
              "\n",
              "    .colab-df-convert {\n",
              "      background-color: #E8F0FE;\n",
              "      border: none;\n",
              "      border-radius: 50%;\n",
              "      cursor: pointer;\n",
              "      display: none;\n",
              "      fill: #1967D2;\n",
              "      height: 32px;\n",
              "      padding: 0 0 0 0;\n",
              "      width: 32px;\n",
              "    }\n",
              "\n",
              "    .colab-df-convert:hover {\n",
              "      background-color: #E2EBFA;\n",
              "      box-shadow: 0px 1px 2px rgba(60, 64, 67, 0.3), 0px 1px 3px 1px rgba(60, 64, 67, 0.15);\n",
              "      fill: #174EA6;\n",
              "    }\n",
              "\n",
              "    [theme=dark] .colab-df-convert {\n",
              "      background-color: #3B4455;\n",
              "      fill: #D2E3FC;\n",
              "    }\n",
              "\n",
              "    [theme=dark] .colab-df-convert:hover {\n",
              "      background-color: #434B5C;\n",
              "      box-shadow: 0px 1px 3px 1px rgba(0, 0, 0, 0.15);\n",
              "      filter: drop-shadow(0px 1px 2px rgba(0, 0, 0, 0.3));\n",
              "      fill: #FFFFFF;\n",
              "    }\n",
              "  </style>\n",
              "\n",
              "      <script>\n",
              "        const buttonEl =\n",
              "          document.querySelector('#df-906c7c6c-752f-4705-abd1-72510bbf3c16 button.colab-df-convert');\n",
              "        buttonEl.style.display =\n",
              "          google.colab.kernel.accessAllowed ? 'block' : 'none';\n",
              "\n",
              "        async function convertToInteractive(key) {\n",
              "          const element = document.querySelector('#df-906c7c6c-752f-4705-abd1-72510bbf3c16');\n",
              "          const dataTable =\n",
              "            await google.colab.kernel.invokeFunction('convertToInteractive',\n",
              "                                                     [key], {});\n",
              "          if (!dataTable) return;\n",
              "\n",
              "          const docLinkHtml = 'Like what you see? Visit the ' +\n",
              "            '<a target=\"_blank\" href=https://colab.research.google.com/notebooks/data_table.ipynb>data table notebook</a>'\n",
              "            + ' to learn more about interactive tables.';\n",
              "          element.innerHTML = '';\n",
              "          dataTable['output_type'] = 'display_data';\n",
              "          await google.colab.output.renderOutput(dataTable, element);\n",
              "          const docLink = document.createElement('div');\n",
              "          docLink.innerHTML = docLinkHtml;\n",
              "          element.appendChild(docLink);\n",
              "        }\n",
              "      </script>\n",
              "    </div>\n",
              "  </div>\n",
              "  "
            ]
          },
          "metadata": {},
          "execution_count": 155
        }
      ]
    },
    {
      "cell_type": "code",
      "source": [
        "# Exploding lists to get vertical representation\n",
        "recs = recs.set_index('user_id').apply(pd.Series.explode).reset_index()"
      ],
      "metadata": {
        "id": "A7iFPvyF6F_S"
      },
      "execution_count": 156,
      "outputs": []
    },
    {
      "cell_type": "code",
      "source": [
        "# Deleting recommendations of itself \n",
        "recs = recs[recs.user_id!=recs.similar_user_id]"
      ],
      "metadata": {
        "id": "rPVvNp0R6F_S"
      },
      "execution_count": 157,
      "outputs": []
    },
    {
      "cell_type": "code",
      "source": [
        "watched = train.groupby('user_id').agg({'item_id': list})\n",
        "watched.head()"
      ],
      "metadata": {
        "colab": {
          "base_uri": "https://localhost:8080/",
          "height": 238
        },
        "outputId": "97f21aa0-3bc8-45fa-9ddc-24d4235e900d",
        "id": "uMRFBT0Q6F_S"
      },
      "execution_count": 158,
      "outputs": [
        {
          "output_type": "execute_result",
          "data": {
            "text/plain": [
              "                                                                                                                                                                                                         item_id\n",
              "user_id                                                                                                                                                                                                         \n",
              "0                                                                                                                                                                        [7102, 14359, 15297, 6006, 9728, 12192]\n",
              "2        [7571, 3541, 15266, 13867, 12841, 10770, 4475, 9506, 8936, 11018, 11577, 561, 7106, 6774, 16029, 8482, 6825, 3594, 16166, 5819, 2954, 383, 11689, 12449, 2025, 6155, 3628, 334, 4024, 7210, 11539, 1...\n",
              "3                                                                                       [9728, 16406, 10440, 3475, 4151, 1418, 2220, 3734, 13789, 8581, 13849, 9550, 10464, 4880, 4436, 8801, 11790, 2657, 8252]\n",
              "4                                                                                                                                                                                                   [4700, 6317]\n",
              "5                                                                                                     [14397, 6445, 11437, 5651, 6167, 12466, 632, 8450, 2685, 7825, 3145, 7043, 4179, 15890, 5115, 4719, 10848]"
            ],
            "text/html": [
              "\n",
              "  <div id=\"df-72c65946-6ffc-4dbb-a479-b841870bfd1b\">\n",
              "    <div class=\"colab-df-container\">\n",
              "      <div>\n",
              "<style scoped>\n",
              "    .dataframe tbody tr th:only-of-type {\n",
              "        vertical-align: middle;\n",
              "    }\n",
              "\n",
              "    .dataframe tbody tr th {\n",
              "        vertical-align: top;\n",
              "    }\n",
              "\n",
              "    .dataframe thead th {\n",
              "        text-align: right;\n",
              "    }\n",
              "</style>\n",
              "<table border=\"1\" class=\"dataframe\">\n",
              "  <thead>\n",
              "    <tr style=\"text-align: right;\">\n",
              "      <th></th>\n",
              "      <th>item_id</th>\n",
              "    </tr>\n",
              "    <tr>\n",
              "      <th>user_id</th>\n",
              "      <th></th>\n",
              "    </tr>\n",
              "  </thead>\n",
              "  <tbody>\n",
              "    <tr>\n",
              "      <th>0</th>\n",
              "      <td>[7102, 14359, 15297, 6006, 9728, 12192]</td>\n",
              "    </tr>\n",
              "    <tr>\n",
              "      <th>2</th>\n",
              "      <td>[7571, 3541, 15266, 13867, 12841, 10770, 4475, 9506, 8936, 11018, 11577, 561, 7106, 6774, 16029, 8482, 6825, 3594, 16166, 5819, 2954, 383, 11689, 12449, 2025, 6155, 3628, 334, 4024, 7210, 11539, 1...</td>\n",
              "    </tr>\n",
              "    <tr>\n",
              "      <th>3</th>\n",
              "      <td>[9728, 16406, 10440, 3475, 4151, 1418, 2220, 3734, 13789, 8581, 13849, 9550, 10464, 4880, 4436, 8801, 11790, 2657, 8252]</td>\n",
              "    </tr>\n",
              "    <tr>\n",
              "      <th>4</th>\n",
              "      <td>[4700, 6317]</td>\n",
              "    </tr>\n",
              "    <tr>\n",
              "      <th>5</th>\n",
              "      <td>[14397, 6445, 11437, 5651, 6167, 12466, 632, 8450, 2685, 7825, 3145, 7043, 4179, 15890, 5115, 4719, 10848]</td>\n",
              "    </tr>\n",
              "  </tbody>\n",
              "</table>\n",
              "</div>\n",
              "      <button class=\"colab-df-convert\" onclick=\"convertToInteractive('df-72c65946-6ffc-4dbb-a479-b841870bfd1b')\"\n",
              "              title=\"Convert this dataframe to an interactive table.\"\n",
              "              style=\"display:none;\">\n",
              "        \n",
              "  <svg xmlns=\"http://www.w3.org/2000/svg\" height=\"24px\"viewBox=\"0 0 24 24\"\n",
              "       width=\"24px\">\n",
              "    <path d=\"M0 0h24v24H0V0z\" fill=\"none\"/>\n",
              "    <path d=\"M18.56 5.44l.94 2.06.94-2.06 2.06-.94-2.06-.94-.94-2.06-.94 2.06-2.06.94zm-11 1L8.5 8.5l.94-2.06 2.06-.94-2.06-.94L8.5 2.5l-.94 2.06-2.06.94zm10 10l.94 2.06.94-2.06 2.06-.94-2.06-.94-.94-2.06-.94 2.06-2.06.94z\"/><path d=\"M17.41 7.96l-1.37-1.37c-.4-.4-.92-.59-1.43-.59-.52 0-1.04.2-1.43.59L10.3 9.45l-7.72 7.72c-.78.78-.78 2.05 0 2.83L4 21.41c.39.39.9.59 1.41.59.51 0 1.02-.2 1.41-.59l7.78-7.78 2.81-2.81c.8-.78.8-2.07 0-2.86zM5.41 20L4 18.59l7.72-7.72 1.47 1.35L5.41 20z\"/>\n",
              "  </svg>\n",
              "      </button>\n",
              "      \n",
              "  <style>\n",
              "    .colab-df-container {\n",
              "      display:flex;\n",
              "      flex-wrap:wrap;\n",
              "      gap: 12px;\n",
              "    }\n",
              "\n",
              "    .colab-df-convert {\n",
              "      background-color: #E8F0FE;\n",
              "      border: none;\n",
              "      border-radius: 50%;\n",
              "      cursor: pointer;\n",
              "      display: none;\n",
              "      fill: #1967D2;\n",
              "      height: 32px;\n",
              "      padding: 0 0 0 0;\n",
              "      width: 32px;\n",
              "    }\n",
              "\n",
              "    .colab-df-convert:hover {\n",
              "      background-color: #E2EBFA;\n",
              "      box-shadow: 0px 1px 2px rgba(60, 64, 67, 0.3), 0px 1px 3px 1px rgba(60, 64, 67, 0.15);\n",
              "      fill: #174EA6;\n",
              "    }\n",
              "\n",
              "    [theme=dark] .colab-df-convert {\n",
              "      background-color: #3B4455;\n",
              "      fill: #D2E3FC;\n",
              "    }\n",
              "\n",
              "    [theme=dark] .colab-df-convert:hover {\n",
              "      background-color: #434B5C;\n",
              "      box-shadow: 0px 1px 3px 1px rgba(0, 0, 0, 0.15);\n",
              "      filter: drop-shadow(0px 1px 2px rgba(0, 0, 0, 0.3));\n",
              "      fill: #FFFFFF;\n",
              "    }\n",
              "  </style>\n",
              "\n",
              "      <script>\n",
              "        const buttonEl =\n",
              "          document.querySelector('#df-72c65946-6ffc-4dbb-a479-b841870bfd1b button.colab-df-convert');\n",
              "        buttonEl.style.display =\n",
              "          google.colab.kernel.accessAllowed ? 'block' : 'none';\n",
              "\n",
              "        async function convertToInteractive(key) {\n",
              "          const element = document.querySelector('#df-72c65946-6ffc-4dbb-a479-b841870bfd1b');\n",
              "          const dataTable =\n",
              "            await google.colab.kernel.invokeFunction('convertToInteractive',\n",
              "                                                     [key], {});\n",
              "          if (!dataTable) return;\n",
              "\n",
              "          const docLinkHtml = 'Like what you see? Visit the ' +\n",
              "            '<a target=\"_blank\" href=https://colab.research.google.com/notebooks/data_table.ipynb>data table notebook</a>'\n",
              "            + ' to learn more about interactive tables.';\n",
              "          element.innerHTML = '';\n",
              "          dataTable['output_type'] = 'display_data';\n",
              "          await google.colab.output.renderOutput(dataTable, element);\n",
              "          const docLink = document.createElement('div');\n",
              "          docLink.innerHTML = docLinkHtml;\n",
              "          element.appendChild(docLink);\n",
              "        }\n",
              "      </script>\n",
              "    </div>\n",
              "  </div>\n",
              "  "
            ]
          },
          "metadata": {},
          "execution_count": 158
        }
      ]
    },
    {
      "cell_type": "code",
      "source": [
        "# Joining watched items\n",
        "recs = recs.merge(watched, left_on=['similar_user_id'], right_on=['user_id'], how='left')\n",
        "recs = recs.explode('item_id')"
      ],
      "metadata": {
        "id": "IgARCfG06F_S"
      },
      "execution_count": 159,
      "outputs": []
    },
    {
      "cell_type": "code",
      "source": [
        "# Dropping duplicates pairs user_id-item_id and keeping rows with the highest similiarity\n",
        "recs = recs.sort_values(['user_id', 'similarity'], ascending=False)"
      ],
      "metadata": {
        "id": "qKqWHK6_6F_S"
      },
      "execution_count": 160,
      "outputs": []
    },
    {
      "cell_type": "code",
      "source": [
        "recs = recs.drop_duplicates(['user_id', 'item_id'], keep='first')"
      ],
      "metadata": {
        "id": "WF6iQXYK6F_T"
      },
      "execution_count": 161,
      "outputs": []
    },
    {
      "cell_type": "code",
      "source": [
        "# Making rank\n",
        "recs['rank'] = recs.groupby('user_id').cumcount() + 1 "
      ],
      "metadata": {
        "id": "B0Sd4vSv6F_T"
      },
      "execution_count": 162,
      "outputs": []
    },
    {
      "cell_type": "code",
      "source": [
        "# Decreasing rank to N\n",
        "recs = recs[recs['rank'] <=N]"
      ],
      "metadata": {
        "id": "Y-wjKmIXFZcH"
      },
      "execution_count": 163,
      "outputs": []
    },
    {
      "cell_type": "markdown",
      "source": [
        "#### Dealing with less than N recommendations"
      ],
      "metadata": {
        "id": "t8KOzijXyY7J"
      }
    },
    {
      "cell_type": "code",
      "source": [
        "# We have users with less than N recommendations\n",
        "s = recs['user_id'].value_counts()\n",
        "s[s<N]"
      ],
      "metadata": {
        "colab": {
          "base_uri": "https://localhost:8080/"
        },
        "outputId": "6391e3e3-ba39-48f6-fd5c-1d63a8c9d8c2",
        "id": "uZEQGAXczckR"
      },
      "execution_count": 164,
      "outputs": [
        {
          "output_type": "execute_result",
          "data": {
            "text/plain": [
              "556008    9\n",
              "365738    9\n",
              "137343    9\n",
              "553069    9\n",
              "231048    9\n",
              "         ..\n",
              "389271    1\n",
              "389317    1\n",
              "389370    1\n",
              "389378    1\n",
              "387893    1\n",
              "Name: user_id, Length: 58932, dtype: int64"
            ]
          },
          "metadata": {},
          "execution_count": 164
        }
      ]
    },
    {
      "cell_type": "code",
      "source": [
        "recs[recs['user_id'].isin(s[s<N].index)]"
      ],
      "metadata": {
        "colab": {
          "base_uri": "https://localhost:8080/",
          "height": 424
        },
        "outputId": "451b6268-9ad8-4bf0-dd73-b1c930a25fe6",
        "id": "puz-CdK-zckR"
      },
      "execution_count": 165,
      "outputs": [
        {
          "output_type": "execute_result",
          "data": {
            "text/plain": [
              "        user_id similar_user_id similarity item_id  rank\n",
              "99507   1097512          984690   0.999999   10440     1\n",
              "99507   1097512          984690   0.999999    3734     2\n",
              "603965  1097479          392250   0.849606    3734     1\n",
              "603965  1097479          392250   0.849606   10770     2\n",
              "603966  1097479          185082   0.838868   13865     3\n",
              "...         ...             ...        ...     ...   ...\n",
              "849408       98         1002728   0.522362   10724     3\n",
              "849409       98          978382   0.489714    4946     4\n",
              "849409       98          978382   0.489714    4740     5\n",
              "849410       98          436269   0.488654    2909     6\n",
              "638431       14          351632        1.0   10440     1\n",
              "\n",
              "[198518 rows x 5 columns]"
            ],
            "text/html": [
              "\n",
              "  <div id=\"df-a5f51eb3-c4bd-495f-a9b4-af7e42fdfe52\">\n",
              "    <div class=\"colab-df-container\">\n",
              "      <div>\n",
              "<style scoped>\n",
              "    .dataframe tbody tr th:only-of-type {\n",
              "        vertical-align: middle;\n",
              "    }\n",
              "\n",
              "    .dataframe tbody tr th {\n",
              "        vertical-align: top;\n",
              "    }\n",
              "\n",
              "    .dataframe thead th {\n",
              "        text-align: right;\n",
              "    }\n",
              "</style>\n",
              "<table border=\"1\" class=\"dataframe\">\n",
              "  <thead>\n",
              "    <tr style=\"text-align: right;\">\n",
              "      <th></th>\n",
              "      <th>user_id</th>\n",
              "      <th>similar_user_id</th>\n",
              "      <th>similarity</th>\n",
              "      <th>item_id</th>\n",
              "      <th>rank</th>\n",
              "    </tr>\n",
              "  </thead>\n",
              "  <tbody>\n",
              "    <tr>\n",
              "      <th>99507</th>\n",
              "      <td>1097512</td>\n",
              "      <td>984690</td>\n",
              "      <td>0.999999</td>\n",
              "      <td>10440</td>\n",
              "      <td>1</td>\n",
              "    </tr>\n",
              "    <tr>\n",
              "      <th>99507</th>\n",
              "      <td>1097512</td>\n",
              "      <td>984690</td>\n",
              "      <td>0.999999</td>\n",
              "      <td>3734</td>\n",
              "      <td>2</td>\n",
              "    </tr>\n",
              "    <tr>\n",
              "      <th>603965</th>\n",
              "      <td>1097479</td>\n",
              "      <td>392250</td>\n",
              "      <td>0.849606</td>\n",
              "      <td>3734</td>\n",
              "      <td>1</td>\n",
              "    </tr>\n",
              "    <tr>\n",
              "      <th>603965</th>\n",
              "      <td>1097479</td>\n",
              "      <td>392250</td>\n",
              "      <td>0.849606</td>\n",
              "      <td>10770</td>\n",
              "      <td>2</td>\n",
              "    </tr>\n",
              "    <tr>\n",
              "      <th>603966</th>\n",
              "      <td>1097479</td>\n",
              "      <td>185082</td>\n",
              "      <td>0.838868</td>\n",
              "      <td>13865</td>\n",
              "      <td>3</td>\n",
              "    </tr>\n",
              "    <tr>\n",
              "      <th>...</th>\n",
              "      <td>...</td>\n",
              "      <td>...</td>\n",
              "      <td>...</td>\n",
              "      <td>...</td>\n",
              "      <td>...</td>\n",
              "    </tr>\n",
              "    <tr>\n",
              "      <th>849408</th>\n",
              "      <td>98</td>\n",
              "      <td>1002728</td>\n",
              "      <td>0.522362</td>\n",
              "      <td>10724</td>\n",
              "      <td>3</td>\n",
              "    </tr>\n",
              "    <tr>\n",
              "      <th>849409</th>\n",
              "      <td>98</td>\n",
              "      <td>978382</td>\n",
              "      <td>0.489714</td>\n",
              "      <td>4946</td>\n",
              "      <td>4</td>\n",
              "    </tr>\n",
              "    <tr>\n",
              "      <th>849409</th>\n",
              "      <td>98</td>\n",
              "      <td>978382</td>\n",
              "      <td>0.489714</td>\n",
              "      <td>4740</td>\n",
              "      <td>5</td>\n",
              "    </tr>\n",
              "    <tr>\n",
              "      <th>849410</th>\n",
              "      <td>98</td>\n",
              "      <td>436269</td>\n",
              "      <td>0.488654</td>\n",
              "      <td>2909</td>\n",
              "      <td>6</td>\n",
              "    </tr>\n",
              "    <tr>\n",
              "      <th>638431</th>\n",
              "      <td>14</td>\n",
              "      <td>351632</td>\n",
              "      <td>1.0</td>\n",
              "      <td>10440</td>\n",
              "      <td>1</td>\n",
              "    </tr>\n",
              "  </tbody>\n",
              "</table>\n",
              "<p>198518 rows × 5 columns</p>\n",
              "</div>\n",
              "      <button class=\"colab-df-convert\" onclick=\"convertToInteractive('df-a5f51eb3-c4bd-495f-a9b4-af7e42fdfe52')\"\n",
              "              title=\"Convert this dataframe to an interactive table.\"\n",
              "              style=\"display:none;\">\n",
              "        \n",
              "  <svg xmlns=\"http://www.w3.org/2000/svg\" height=\"24px\"viewBox=\"0 0 24 24\"\n",
              "       width=\"24px\">\n",
              "    <path d=\"M0 0h24v24H0V0z\" fill=\"none\"/>\n",
              "    <path d=\"M18.56 5.44l.94 2.06.94-2.06 2.06-.94-2.06-.94-.94-2.06-.94 2.06-2.06.94zm-11 1L8.5 8.5l.94-2.06 2.06-.94-2.06-.94L8.5 2.5l-.94 2.06-2.06.94zm10 10l.94 2.06.94-2.06 2.06-.94-2.06-.94-.94-2.06-.94 2.06-2.06.94z\"/><path d=\"M17.41 7.96l-1.37-1.37c-.4-.4-.92-.59-1.43-.59-.52 0-1.04.2-1.43.59L10.3 9.45l-7.72 7.72c-.78.78-.78 2.05 0 2.83L4 21.41c.39.39.9.59 1.41.59.51 0 1.02-.2 1.41-.59l7.78-7.78 2.81-2.81c.8-.78.8-2.07 0-2.86zM5.41 20L4 18.59l7.72-7.72 1.47 1.35L5.41 20z\"/>\n",
              "  </svg>\n",
              "      </button>\n",
              "      \n",
              "  <style>\n",
              "    .colab-df-container {\n",
              "      display:flex;\n",
              "      flex-wrap:wrap;\n",
              "      gap: 12px;\n",
              "    }\n",
              "\n",
              "    .colab-df-convert {\n",
              "      background-color: #E8F0FE;\n",
              "      border: none;\n",
              "      border-radius: 50%;\n",
              "      cursor: pointer;\n",
              "      display: none;\n",
              "      fill: #1967D2;\n",
              "      height: 32px;\n",
              "      padding: 0 0 0 0;\n",
              "      width: 32px;\n",
              "    }\n",
              "\n",
              "    .colab-df-convert:hover {\n",
              "      background-color: #E2EBFA;\n",
              "      box-shadow: 0px 1px 2px rgba(60, 64, 67, 0.3), 0px 1px 3px 1px rgba(60, 64, 67, 0.15);\n",
              "      fill: #174EA6;\n",
              "    }\n",
              "\n",
              "    [theme=dark] .colab-df-convert {\n",
              "      background-color: #3B4455;\n",
              "      fill: #D2E3FC;\n",
              "    }\n",
              "\n",
              "    [theme=dark] .colab-df-convert:hover {\n",
              "      background-color: #434B5C;\n",
              "      box-shadow: 0px 1px 3px 1px rgba(0, 0, 0, 0.15);\n",
              "      filter: drop-shadow(0px 1px 2px rgba(0, 0, 0, 0.3));\n",
              "      fill: #FFFFFF;\n",
              "    }\n",
              "  </style>\n",
              "\n",
              "      <script>\n",
              "        const buttonEl =\n",
              "          document.querySelector('#df-a5f51eb3-c4bd-495f-a9b4-af7e42fdfe52 button.colab-df-convert');\n",
              "        buttonEl.style.display =\n",
              "          google.colab.kernel.accessAllowed ? 'block' : 'none';\n",
              "\n",
              "        async function convertToInteractive(key) {\n",
              "          const element = document.querySelector('#df-a5f51eb3-c4bd-495f-a9b4-af7e42fdfe52');\n",
              "          const dataTable =\n",
              "            await google.colab.kernel.invokeFunction('convertToInteractive',\n",
              "                                                     [key], {});\n",
              "          if (!dataTable) return;\n",
              "\n",
              "          const docLinkHtml = 'Like what you see? Visit the ' +\n",
              "            '<a target=\"_blank\" href=https://colab.research.google.com/notebooks/data_table.ipynb>data table notebook</a>'\n",
              "            + ' to learn more about interactive tables.';\n",
              "          element.innerHTML = '';\n",
              "          dataTable['output_type'] = 'display_data';\n",
              "          await google.colab.output.renderOutput(dataTable, element);\n",
              "          const docLink = document.createElement('div');\n",
              "          docLink.innerHTML = docLinkHtml;\n",
              "          element.appendChild(docLink);\n",
              "        }\n",
              "      </script>\n",
              "    </div>\n",
              "  </div>\n",
              "  "
            ]
          },
          "metadata": {},
          "execution_count": 165
        }
      ]
    },
    {
      "cell_type": "code",
      "source": [
        "not_enough_dict = recs[recs['user_id'].isin(s[s<N].index)].groupby('user_id')['item_id'].agg(lambda row: list(row)).to_dict()"
      ],
      "metadata": {
        "id": "1mC3ZSitzckT"
      },
      "execution_count": 166,
      "outputs": []
    },
    {
      "cell_type": "code",
      "source": [
        "# Creating dataset for PopularModel\n",
        "dataset_train = Dataset.construct(\n",
        "    interactions_df=train,\n",
        "    user_features_df=None,\n",
        "    item_features_df=None\n",
        ")"
      ],
      "metadata": {
        "id": "BDjXi8OfzckT"
      },
      "execution_count": 167,
      "outputs": []
    },
    {
      "cell_type": "code",
      "source": [
        "popular_model = PopularModel()\n",
        "popular_model.fit(dataset_train)"
      ],
      "metadata": {
        "colab": {
          "base_uri": "https://localhost:8080/"
        },
        "outputId": "6cbe7efa-9c94-4455-8635-063efa8fb13f",
        "id": "9Vb8-srDzckT"
      },
      "execution_count": 168,
      "outputs": [
        {
          "output_type": "execute_result",
          "data": {
            "text/plain": [
              "<rectools.models.popular.PopularModel at 0x7f4e9dfecd30>"
            ]
          },
          "metadata": {},
          "execution_count": 168
        }
      ]
    },
    {
      "cell_type": "code",
      "source": [
        "popular_model_result = popular_model.recommend(\n",
        "    dataset_train.user_id_map.external_ids[:1], \n",
        "    dataset=dataset_train, \n",
        "    k=2*N, \n",
        "    filter_viewed=False,\n",
        ")['item_id'].to_list()"
      ],
      "metadata": {
        "id": "uGeBZo2czckT"
      },
      "execution_count": 169,
      "outputs": []
    },
    {
      "cell_type": "code",
      "source": [
        "popular_model_result"
      ],
      "metadata": {
        "colab": {
          "base_uri": "https://localhost:8080/"
        },
        "outputId": "107b420d-be72-4230-b5db-146e08cf2004",
        "id": "aPE5J2rBzckT"
      },
      "execution_count": 170,
      "outputs": [
        {
          "output_type": "execute_result",
          "data": {
            "text/plain": [
              "[10440,\n",
              " 15297,\n",
              " 13865,\n",
              " 9728,\n",
              " 4151,\n",
              " 3734,\n",
              " 2657,\n",
              " 4880,\n",
              " 142,\n",
              " 6809,\n",
              " 9996,\n",
              " 4740,\n",
              " 8636,\n",
              " 12192,\n",
              " 11237,\n",
              " 7571,\n",
              " 1844,\n",
              " 12995,\n",
              " 14741,\n",
              " 14431]"
            ]
          },
          "metadata": {},
          "execution_count": 170
        }
      ]
    },
    {
      "cell_type": "code",
      "source": [
        "d = {\"user_id\":[], \"item_id\": [], \"rank\": []}\n",
        "# for user_id, max_rank in not_enough_dict.items():\n",
        "for user_id, item_id_list in not_enough_dict.items():\n",
        "    max_rank = len(item_id_list)\n",
        "    # drop popular items, that is already in recommendation list\n",
        "    corrected_popular_list = [item for item in popular_model_result if item not in item_id_list]\n",
        "    for i in range(1, N - max_rank + 1):\n",
        "        d['user_id'].append(user_id)\n",
        "        d['item_id'].append(corrected_popular_list[i])\n",
        "        d['rank'].append(max_rank+i)"
      ],
      "metadata": {
        "id": "XlOfbt6rzckU"
      },
      "execution_count": 171,
      "outputs": []
    },
    {
      "cell_type": "code",
      "source": [
        "filled_with_popular_tfidf = pd.DataFrame.from_dict(d)"
      ],
      "metadata": {
        "id": "A1aRib4qzckU"
      },
      "execution_count": 172,
      "outputs": []
    },
    {
      "cell_type": "code",
      "source": [
        "final_result_tfidf = pd.concat([recs,filled_with_popular_tfidf])"
      ],
      "metadata": {
        "id": "9gzXuCA-zckU"
      },
      "execution_count": 173,
      "outputs": []
    },
    {
      "cell_type": "code",
      "source": [
        "s = final_result_tfidf['user_id'].value_counts()\n",
        "s[s<10]"
      ],
      "metadata": {
        "colab": {
          "base_uri": "https://localhost:8080/"
        },
        "outputId": "915b0d75-90aa-4dac-df56-dc75bd19a48c",
        "id": "7UtwzAsZzckV"
      },
      "execution_count": 174,
      "outputs": [
        {
          "output_type": "execute_result",
          "data": {
            "text/plain": [
              "Series([], Name: user_id, dtype: int64)"
            ]
          },
          "metadata": {},
          "execution_count": 174
        }
      ]
    },
    {
      "cell_type": "code",
      "source": [
        "with open('/content/drive/MyDrive/MTS_RecSys/final_result_tfidf.dill', 'wb') as f:\n",
        "    dill.dump(final_result_tfidf, f)"
      ],
      "metadata": {
        "id": "NO4W0ofJzckV"
      },
      "execution_count": 175,
      "outputs": []
    },
    {
      "cell_type": "code",
      "source": [
        "catalog = train['item_id'].unique()"
      ],
      "metadata": {
        "id": "DscUrfhn6F_T"
      },
      "execution_count": 176,
      "outputs": []
    },
    {
      "cell_type": "code",
      "source": [
        "tfidf_metric_values = calc_metrics(\n",
        "      metrics,\n",
        "      reco=final_result_tfidf,\n",
        "      interactions=test,\n",
        "      prev_interactions=train,\n",
        "      catalog=catalog\n",
        ")"
      ],
      "metadata": {
        "id": "HCKy8muS6F_T"
      },
      "execution_count": 177,
      "outputs": []
    },
    {
      "cell_type": "code",
      "source": [
        "tfidf_metric_values"
      ],
      "metadata": {
        "colab": {
          "base_uri": "https://localhost:8080/"
        },
        "id": "XD_hfXIYyruO",
        "outputId": "3b254835-10a1-42c5-cdd1-1b7a56120098"
      },
      "execution_count": 178,
      "outputs": [
        {
          "output_type": "execute_result",
          "data": {
            "text/plain": [
              "{'prec@10': 0.020649520018042225,\n",
              " 'recall@10': 0.10676722963456782,\n",
              " 'map@10': 0.02652848400918433,\n",
              " 'novelty': 5.553259996354108,\n",
              " 'serendipity': 3.5661279648735724e-05}"
            ]
          },
          "metadata": {},
          "execution_count": 178
        }
      ]
    },
    {
      "cell_type": "markdown",
      "source": [
        "### BM25"
      ],
      "metadata": {
        "id": "FkVh1o4mE20u"
      }
    },
    {
      "cell_type": "code",
      "source": [
        "bm25 = BM25Recommender(K=10)\n",
        "bm25.fit(interaction_matrix)"
      ],
      "metadata": {
        "colab": {
          "base_uri": "https://localhost:8080/",
          "height": 49,
          "referenced_widgets": [
            "144b5570da804d778210ec5cd19a0c26",
            "a0390758407c4708bdfd5efb487dcd37",
            "bfd914b399ad45ce9d133fe182429c2c",
            "3e74302d56ab425aa6aabe4d8b4f8271",
            "bbf0b5a69d374fa88ffd4d1f224ae6a0",
            "7413a73a1c4e421aa471a5fa48ff790f",
            "3410e78a8f2a4ff3982ed068bcfc8312",
            "4a6880021516499185b3c50ee76fae2d",
            "2ef2da5006a74a1e8620ca7d5b7b7de7",
            "c0e2b2c0fb0b4e059284298635ce7ad7",
            "59282ac6f279408e9e3ffaa8178f797c"
          ]
        },
        "id": "1yx4-4Qs_rtV",
        "outputId": "6b3c7aa4-8c2c-4487-902f-745d7a145c1f"
      },
      "execution_count": null,
      "outputs": [
        {
          "output_type": "display_data",
          "data": {
            "text/plain": [
              "  0%|          | 0/842129 [00:00<?, ?it/s]"
            ],
            "application/vnd.jupyter.widget-view+json": {
              "version_major": 2,
              "version_minor": 0,
              "model_id": "144b5570da804d778210ec5cd19a0c26"
            }
          },
          "metadata": {}
        }
      ]
    },
    {
      "cell_type": "code",
      "source": [
        "# with open('/content/drive/MyDrive/MTS_RecSys/bm25.dill', 'wb') as f:\n",
        "#     dill.dump(bm25, f)"
      ],
      "metadata": {
        "id": "o-RKurXEEqEJ"
      },
      "execution_count": null,
      "outputs": []
    },
    {
      "cell_type": "code",
      "source": [
        "with open('/content/drive/MyDrive/MTS_RecSys/bm25.dill', 'rb') as f:\n",
        "    bm25 = dill.load(f)"
      ],
      "metadata": {
        "id": "ZmoBTKBuEqEJ"
      },
      "execution_count": 181,
      "outputs": []
    },
    {
      "cell_type": "code",
      "source": [
        "mapper = generate_implicit_recs_mapper(\n",
        "    bm25, \n",
        "    N=N,\n",
        "    users_mapping=users_mapping,\n",
        "    users_inv_mapping=users_inv_mapping\n",
        ")"
      ],
      "metadata": {
        "id": "DeVxcjNrE7yZ"
      },
      "execution_count": 182,
      "outputs": []
    },
    {
      "cell_type": "code",
      "source": [
        "recs = pd.DataFrame({\n",
        "    'user_id': test['user_id'].unique()\n",
        "})\n",
        "\n",
        "recs['similar_user_id'], recs['similarity'] = zip(*recs['user_id'].map(mapper))\n",
        "recs.head()"
      ],
      "metadata": {
        "colab": {
          "base_uri": "https://localhost:8080/",
          "height": 337
        },
        "outputId": "35cbfe78-5d06-4a8e-840d-f2831121dbd8",
        "id": "fL0J78yRE7yZ"
      },
      "execution_count": 183,
      "outputs": [
        {
          "output_type": "execute_result",
          "data": {
            "text/plain": [
              "   user_id  \\\n",
              "0  1016458   \n",
              "1    68478   \n",
              "2   580093   \n",
              "3  1072552   \n",
              "4   910002   \n",
              "\n",
              "                                                                     similar_user_id  \\\n",
              "0  [1016458, 768373, 409259, 978218, 474785, 214708, 424619, 237669, 939159, 994484]   \n",
              "1    [68478, 1090577, 557478, 21325, 1035803, 414535, 758605, 76520, 222973, 225261]   \n",
              "2     [580093, 110930, 721287, 764504, 416206, 456600, 6809, 483830, 691773, 164699]   \n",
              "3  [1072552, 280117, 359685, 613264, 902950, 424970, 706721, 923225, 977188, 297838]   \n",
              "4   [910002, 376977, 126581, 720475, 173180, 863601, 779856, 861848, 933021, 150249]   \n",
              "\n",
              "                                                                                                                                                                                              similarity  \n",
              "0  [6499.893803235837, 2487.573564889936, 2065.294335056916, 2004.3882317070374, 1960.3753230886257, 1896.5537519669006, 1757.7864748694478, 1733.6649020797067, 1720.1064215978429, 1717.7063205770794]  \n",
              "1         [1903.1537667306072, 640.3587502340363, 635.114972805723, 616.4652575942256, 581.0693350135408, 559.5973779271835, 558.0152672009923, 557.9529612605429, 557.7081973209919, 557.3893362356985]  \n",
              "2        [1269.3857345818258, 873.5346833467504, 657.9231090698622, 646.8836638907121, 634.2838455066677, 616.8245114660205, 596.7809781224956, 582.1506277248486, 576.5840739693372, 570.9506930907593]  \n",
              "3  [8375.282512507674, 4212.727992560902, 3867.0859213287026, 3568.5926452438302, 3551.2888440414063, 3403.626381400169, 3352.9232868087497, 3026.6220760411707, 2937.0868759436635, 2808.5133335752375]  \n",
              "4   [3744.88772030505, 1729.6186535669642, 1648.2044184296262, 1617.328874342526, 1536.7342845343237, 1532.073197555375, 1526.6357901274998, 1501.2448283809945, 1498.0611495961562, 1496.9186202603807]  "
            ],
            "text/html": [
              "\n",
              "  <div id=\"df-c9fa88c0-d325-48b3-b8b7-d18974864d15\">\n",
              "    <div class=\"colab-df-container\">\n",
              "      <div>\n",
              "<style scoped>\n",
              "    .dataframe tbody tr th:only-of-type {\n",
              "        vertical-align: middle;\n",
              "    }\n",
              "\n",
              "    .dataframe tbody tr th {\n",
              "        vertical-align: top;\n",
              "    }\n",
              "\n",
              "    .dataframe thead th {\n",
              "        text-align: right;\n",
              "    }\n",
              "</style>\n",
              "<table border=\"1\" class=\"dataframe\">\n",
              "  <thead>\n",
              "    <tr style=\"text-align: right;\">\n",
              "      <th></th>\n",
              "      <th>user_id</th>\n",
              "      <th>similar_user_id</th>\n",
              "      <th>similarity</th>\n",
              "    </tr>\n",
              "  </thead>\n",
              "  <tbody>\n",
              "    <tr>\n",
              "      <th>0</th>\n",
              "      <td>1016458</td>\n",
              "      <td>[1016458, 768373, 409259, 978218, 474785, 214708, 424619, 237669, 939159, 994484]</td>\n",
              "      <td>[6499.893803235837, 2487.573564889936, 2065.294335056916, 2004.3882317070374, 1960.3753230886257, 1896.5537519669006, 1757.7864748694478, 1733.6649020797067, 1720.1064215978429, 1717.7063205770794]</td>\n",
              "    </tr>\n",
              "    <tr>\n",
              "      <th>1</th>\n",
              "      <td>68478</td>\n",
              "      <td>[68478, 1090577, 557478, 21325, 1035803, 414535, 758605, 76520, 222973, 225261]</td>\n",
              "      <td>[1903.1537667306072, 640.3587502340363, 635.114972805723, 616.4652575942256, 581.0693350135408, 559.5973779271835, 558.0152672009923, 557.9529612605429, 557.7081973209919, 557.3893362356985]</td>\n",
              "    </tr>\n",
              "    <tr>\n",
              "      <th>2</th>\n",
              "      <td>580093</td>\n",
              "      <td>[580093, 110930, 721287, 764504, 416206, 456600, 6809, 483830, 691773, 164699]</td>\n",
              "      <td>[1269.3857345818258, 873.5346833467504, 657.9231090698622, 646.8836638907121, 634.2838455066677, 616.8245114660205, 596.7809781224956, 582.1506277248486, 576.5840739693372, 570.9506930907593]</td>\n",
              "    </tr>\n",
              "    <tr>\n",
              "      <th>3</th>\n",
              "      <td>1072552</td>\n",
              "      <td>[1072552, 280117, 359685, 613264, 902950, 424970, 706721, 923225, 977188, 297838]</td>\n",
              "      <td>[8375.282512507674, 4212.727992560902, 3867.0859213287026, 3568.5926452438302, 3551.2888440414063, 3403.626381400169, 3352.9232868087497, 3026.6220760411707, 2937.0868759436635, 2808.5133335752375]</td>\n",
              "    </tr>\n",
              "    <tr>\n",
              "      <th>4</th>\n",
              "      <td>910002</td>\n",
              "      <td>[910002, 376977, 126581, 720475, 173180, 863601, 779856, 861848, 933021, 150249]</td>\n",
              "      <td>[3744.88772030505, 1729.6186535669642, 1648.2044184296262, 1617.328874342526, 1536.7342845343237, 1532.073197555375, 1526.6357901274998, 1501.2448283809945, 1498.0611495961562, 1496.9186202603807]</td>\n",
              "    </tr>\n",
              "  </tbody>\n",
              "</table>\n",
              "</div>\n",
              "      <button class=\"colab-df-convert\" onclick=\"convertToInteractive('df-c9fa88c0-d325-48b3-b8b7-d18974864d15')\"\n",
              "              title=\"Convert this dataframe to an interactive table.\"\n",
              "              style=\"display:none;\">\n",
              "        \n",
              "  <svg xmlns=\"http://www.w3.org/2000/svg\" height=\"24px\"viewBox=\"0 0 24 24\"\n",
              "       width=\"24px\">\n",
              "    <path d=\"M0 0h24v24H0V0z\" fill=\"none\"/>\n",
              "    <path d=\"M18.56 5.44l.94 2.06.94-2.06 2.06-.94-2.06-.94-.94-2.06-.94 2.06-2.06.94zm-11 1L8.5 8.5l.94-2.06 2.06-.94-2.06-.94L8.5 2.5l-.94 2.06-2.06.94zm10 10l.94 2.06.94-2.06 2.06-.94-2.06-.94-.94-2.06-.94 2.06-2.06.94z\"/><path d=\"M17.41 7.96l-1.37-1.37c-.4-.4-.92-.59-1.43-.59-.52 0-1.04.2-1.43.59L10.3 9.45l-7.72 7.72c-.78.78-.78 2.05 0 2.83L4 21.41c.39.39.9.59 1.41.59.51 0 1.02-.2 1.41-.59l7.78-7.78 2.81-2.81c.8-.78.8-2.07 0-2.86zM5.41 20L4 18.59l7.72-7.72 1.47 1.35L5.41 20z\"/>\n",
              "  </svg>\n",
              "      </button>\n",
              "      \n",
              "  <style>\n",
              "    .colab-df-container {\n",
              "      display:flex;\n",
              "      flex-wrap:wrap;\n",
              "      gap: 12px;\n",
              "    }\n",
              "\n",
              "    .colab-df-convert {\n",
              "      background-color: #E8F0FE;\n",
              "      border: none;\n",
              "      border-radius: 50%;\n",
              "      cursor: pointer;\n",
              "      display: none;\n",
              "      fill: #1967D2;\n",
              "      height: 32px;\n",
              "      padding: 0 0 0 0;\n",
              "      width: 32px;\n",
              "    }\n",
              "\n",
              "    .colab-df-convert:hover {\n",
              "      background-color: #E2EBFA;\n",
              "      box-shadow: 0px 1px 2px rgba(60, 64, 67, 0.3), 0px 1px 3px 1px rgba(60, 64, 67, 0.15);\n",
              "      fill: #174EA6;\n",
              "    }\n",
              "\n",
              "    [theme=dark] .colab-df-convert {\n",
              "      background-color: #3B4455;\n",
              "      fill: #D2E3FC;\n",
              "    }\n",
              "\n",
              "    [theme=dark] .colab-df-convert:hover {\n",
              "      background-color: #434B5C;\n",
              "      box-shadow: 0px 1px 3px 1px rgba(0, 0, 0, 0.15);\n",
              "      filter: drop-shadow(0px 1px 2px rgba(0, 0, 0, 0.3));\n",
              "      fill: #FFFFFF;\n",
              "    }\n",
              "  </style>\n",
              "\n",
              "      <script>\n",
              "        const buttonEl =\n",
              "          document.querySelector('#df-c9fa88c0-d325-48b3-b8b7-d18974864d15 button.colab-df-convert');\n",
              "        buttonEl.style.display =\n",
              "          google.colab.kernel.accessAllowed ? 'block' : 'none';\n",
              "\n",
              "        async function convertToInteractive(key) {\n",
              "          const element = document.querySelector('#df-c9fa88c0-d325-48b3-b8b7-d18974864d15');\n",
              "          const dataTable =\n",
              "            await google.colab.kernel.invokeFunction('convertToInteractive',\n",
              "                                                     [key], {});\n",
              "          if (!dataTable) return;\n",
              "\n",
              "          const docLinkHtml = 'Like what you see? Visit the ' +\n",
              "            '<a target=\"_blank\" href=https://colab.research.google.com/notebooks/data_table.ipynb>data table notebook</a>'\n",
              "            + ' to learn more about interactive tables.';\n",
              "          element.innerHTML = '';\n",
              "          dataTable['output_type'] = 'display_data';\n",
              "          await google.colab.output.renderOutput(dataTable, element);\n",
              "          const docLink = document.createElement('div');\n",
              "          docLink.innerHTML = docLinkHtml;\n",
              "          element.appendChild(docLink);\n",
              "        }\n",
              "      </script>\n",
              "    </div>\n",
              "  </div>\n",
              "  "
            ]
          },
          "metadata": {},
          "execution_count": 183
        }
      ]
    },
    {
      "cell_type": "markdown",
      "source": [
        "#### Batch processing"
      ],
      "metadata": {
        "id": "hHRE3qgA_IEX"
      }
    },
    {
      "cell_type": "code",
      "source": [
        "%%time\n",
        "# Batch processing, because of the large amount data in the intersection with items and RAM failure\n",
        "\n",
        "N = 10\n",
        "watched = train.groupby('user_id').agg({'item_id': list})\n",
        "\n",
        "df = recs\n",
        "chunks = []\n",
        "for chunk in np.array_split(df, 5):\n",
        "    # Exploding lists to get vertical representation\n",
        "    chunk = chunk.set_index('user_id').apply(pd.Series.explode).reset_index()\n",
        "\n",
        "    # Deleting recommendations of itself \n",
        "    chunk = chunk[chunk.user_id!=chunk.similar_user_id]\n",
        "\n",
        "    # Joining watched items\n",
        "    chunk = chunk.merge(watched, left_on=['similar_user_id'], right_on=['user_id'], how='left')\n",
        "    chunk = chunk.explode('item_id')\n",
        "\n",
        "    # Dropping duplicates pairs user_id-item_id and keeping rows with the highest similiarity\n",
        "    chunk = chunk.sort_values(['user_id', 'similarity'], ascending=False)\n",
        "    chunk = chunk.drop_duplicates(['user_id', 'item_id'], keep='first')\n",
        "\n",
        "    # Making rank\n",
        "    chunk['rank'] = chunk.groupby('user_id').cumcount() + 1 \n",
        "\n",
        "    # Selecting top-N\n",
        "    chunk = chunk[chunk['rank'] <= N]\n",
        "\n",
        "    # For future concat\n",
        "    chunks.append(chunk)"
      ],
      "metadata": {
        "id": "1NVkVzow9j7b",
        "colab": {
          "base_uri": "https://localhost:8080/"
        },
        "outputId": "3921ea5a-3c71-4c61-ec8d-10e168185dfe"
      },
      "execution_count": 184,
      "outputs": [
        {
          "output_type": "stream",
          "name": "stdout",
          "text": [
            "CPU times: user 1min 43s, sys: 5.57 s, total: 1min 49s\n",
            "Wall time: 2min 3s\n"
          ]
        }
      ]
    },
    {
      "cell_type": "code",
      "source": [
        "chunk"
      ],
      "metadata": {
        "colab": {
          "base_uri": "https://localhost:8080/",
          "height": 424
        },
        "id": "JEi74rHJ1hHM",
        "outputId": "1b240df5-a619-4968-df02-49fc9418f28a"
      },
      "execution_count": 192,
      "outputs": [
        {
          "output_type": "execute_result",
          "data": {
            "text/plain": [
              "        user_id similar_user_id   similarity item_id  rank\n",
              "131028  1097544          153429   728.748166    3682     1\n",
              "131028  1097544          153429   728.748166   14317     2\n",
              "131028  1097544          153429   728.748166    4065     3\n",
              "131028  1097544          153429   728.748166    5873     4\n",
              "131028  1097544          153429   728.748166    4621     5\n",
              "...         ...             ...          ...     ...   ...\n",
              "128802       60          424619  1189.930878    5770     6\n",
              "128802       60          424619  1189.930878    4482     7\n",
              "128802       60          424619  1189.930878    3066     8\n",
              "128802       60          424619  1189.930878    5910     9\n",
              "128802       60          424619  1189.930878     657    10\n",
              "\n",
              "[193968 rows x 5 columns]"
            ],
            "text/html": [
              "\n",
              "  <div id=\"df-d5386af9-728c-4ef7-b0dd-0545c4ae63f6\">\n",
              "    <div class=\"colab-df-container\">\n",
              "      <div>\n",
              "<style scoped>\n",
              "    .dataframe tbody tr th:only-of-type {\n",
              "        vertical-align: middle;\n",
              "    }\n",
              "\n",
              "    .dataframe tbody tr th {\n",
              "        vertical-align: top;\n",
              "    }\n",
              "\n",
              "    .dataframe thead th {\n",
              "        text-align: right;\n",
              "    }\n",
              "</style>\n",
              "<table border=\"1\" class=\"dataframe\">\n",
              "  <thead>\n",
              "    <tr style=\"text-align: right;\">\n",
              "      <th></th>\n",
              "      <th>user_id</th>\n",
              "      <th>similar_user_id</th>\n",
              "      <th>similarity</th>\n",
              "      <th>item_id</th>\n",
              "      <th>rank</th>\n",
              "    </tr>\n",
              "  </thead>\n",
              "  <tbody>\n",
              "    <tr>\n",
              "      <th>131028</th>\n",
              "      <td>1097544</td>\n",
              "      <td>153429</td>\n",
              "      <td>728.748166</td>\n",
              "      <td>3682</td>\n",
              "      <td>1</td>\n",
              "    </tr>\n",
              "    <tr>\n",
              "      <th>131028</th>\n",
              "      <td>1097544</td>\n",
              "      <td>153429</td>\n",
              "      <td>728.748166</td>\n",
              "      <td>14317</td>\n",
              "      <td>2</td>\n",
              "    </tr>\n",
              "    <tr>\n",
              "      <th>131028</th>\n",
              "      <td>1097544</td>\n",
              "      <td>153429</td>\n",
              "      <td>728.748166</td>\n",
              "      <td>4065</td>\n",
              "      <td>3</td>\n",
              "    </tr>\n",
              "    <tr>\n",
              "      <th>131028</th>\n",
              "      <td>1097544</td>\n",
              "      <td>153429</td>\n",
              "      <td>728.748166</td>\n",
              "      <td>5873</td>\n",
              "      <td>4</td>\n",
              "    </tr>\n",
              "    <tr>\n",
              "      <th>131028</th>\n",
              "      <td>1097544</td>\n",
              "      <td>153429</td>\n",
              "      <td>728.748166</td>\n",
              "      <td>4621</td>\n",
              "      <td>5</td>\n",
              "    </tr>\n",
              "    <tr>\n",
              "      <th>...</th>\n",
              "      <td>...</td>\n",
              "      <td>...</td>\n",
              "      <td>...</td>\n",
              "      <td>...</td>\n",
              "      <td>...</td>\n",
              "    </tr>\n",
              "    <tr>\n",
              "      <th>128802</th>\n",
              "      <td>60</td>\n",
              "      <td>424619</td>\n",
              "      <td>1189.930878</td>\n",
              "      <td>5770</td>\n",
              "      <td>6</td>\n",
              "    </tr>\n",
              "    <tr>\n",
              "      <th>128802</th>\n",
              "      <td>60</td>\n",
              "      <td>424619</td>\n",
              "      <td>1189.930878</td>\n",
              "      <td>4482</td>\n",
              "      <td>7</td>\n",
              "    </tr>\n",
              "    <tr>\n",
              "      <th>128802</th>\n",
              "      <td>60</td>\n",
              "      <td>424619</td>\n",
              "      <td>1189.930878</td>\n",
              "      <td>3066</td>\n",
              "      <td>8</td>\n",
              "    </tr>\n",
              "    <tr>\n",
              "      <th>128802</th>\n",
              "      <td>60</td>\n",
              "      <td>424619</td>\n",
              "      <td>1189.930878</td>\n",
              "      <td>5910</td>\n",
              "      <td>9</td>\n",
              "    </tr>\n",
              "    <tr>\n",
              "      <th>128802</th>\n",
              "      <td>60</td>\n",
              "      <td>424619</td>\n",
              "      <td>1189.930878</td>\n",
              "      <td>657</td>\n",
              "      <td>10</td>\n",
              "    </tr>\n",
              "  </tbody>\n",
              "</table>\n",
              "<p>193968 rows × 5 columns</p>\n",
              "</div>\n",
              "      <button class=\"colab-df-convert\" onclick=\"convertToInteractive('df-d5386af9-728c-4ef7-b0dd-0545c4ae63f6')\"\n",
              "              title=\"Convert this dataframe to an interactive table.\"\n",
              "              style=\"display:none;\">\n",
              "        \n",
              "  <svg xmlns=\"http://www.w3.org/2000/svg\" height=\"24px\"viewBox=\"0 0 24 24\"\n",
              "       width=\"24px\">\n",
              "    <path d=\"M0 0h24v24H0V0z\" fill=\"none\"/>\n",
              "    <path d=\"M18.56 5.44l.94 2.06.94-2.06 2.06-.94-2.06-.94-.94-2.06-.94 2.06-2.06.94zm-11 1L8.5 8.5l.94-2.06 2.06-.94-2.06-.94L8.5 2.5l-.94 2.06-2.06.94zm10 10l.94 2.06.94-2.06 2.06-.94-2.06-.94-.94-2.06-.94 2.06-2.06.94z\"/><path d=\"M17.41 7.96l-1.37-1.37c-.4-.4-.92-.59-1.43-.59-.52 0-1.04.2-1.43.59L10.3 9.45l-7.72 7.72c-.78.78-.78 2.05 0 2.83L4 21.41c.39.39.9.59 1.41.59.51 0 1.02-.2 1.41-.59l7.78-7.78 2.81-2.81c.8-.78.8-2.07 0-2.86zM5.41 20L4 18.59l7.72-7.72 1.47 1.35L5.41 20z\"/>\n",
              "  </svg>\n",
              "      </button>\n",
              "      \n",
              "  <style>\n",
              "    .colab-df-container {\n",
              "      display:flex;\n",
              "      flex-wrap:wrap;\n",
              "      gap: 12px;\n",
              "    }\n",
              "\n",
              "    .colab-df-convert {\n",
              "      background-color: #E8F0FE;\n",
              "      border: none;\n",
              "      border-radius: 50%;\n",
              "      cursor: pointer;\n",
              "      display: none;\n",
              "      fill: #1967D2;\n",
              "      height: 32px;\n",
              "      padding: 0 0 0 0;\n",
              "      width: 32px;\n",
              "    }\n",
              "\n",
              "    .colab-df-convert:hover {\n",
              "      background-color: #E2EBFA;\n",
              "      box-shadow: 0px 1px 2px rgba(60, 64, 67, 0.3), 0px 1px 3px 1px rgba(60, 64, 67, 0.15);\n",
              "      fill: #174EA6;\n",
              "    }\n",
              "\n",
              "    [theme=dark] .colab-df-convert {\n",
              "      background-color: #3B4455;\n",
              "      fill: #D2E3FC;\n",
              "    }\n",
              "\n",
              "    [theme=dark] .colab-df-convert:hover {\n",
              "      background-color: #434B5C;\n",
              "      box-shadow: 0px 1px 3px 1px rgba(0, 0, 0, 0.15);\n",
              "      filter: drop-shadow(0px 1px 2px rgba(0, 0, 0, 0.3));\n",
              "      fill: #FFFFFF;\n",
              "    }\n",
              "  </style>\n",
              "\n",
              "      <script>\n",
              "        const buttonEl =\n",
              "          document.querySelector('#df-d5386af9-728c-4ef7-b0dd-0545c4ae63f6 button.colab-df-convert');\n",
              "        buttonEl.style.display =\n",
              "          google.colab.kernel.accessAllowed ? 'block' : 'none';\n",
              "\n",
              "        async function convertToInteractive(key) {\n",
              "          const element = document.querySelector('#df-d5386af9-728c-4ef7-b0dd-0545c4ae63f6');\n",
              "          const dataTable =\n",
              "            await google.colab.kernel.invokeFunction('convertToInteractive',\n",
              "                                                     [key], {});\n",
              "          if (!dataTable) return;\n",
              "\n",
              "          const docLinkHtml = 'Like what you see? Visit the ' +\n",
              "            '<a target=\"_blank\" href=https://colab.research.google.com/notebooks/data_table.ipynb>data table notebook</a>'\n",
              "            + ' to learn more about interactive tables.';\n",
              "          element.innerHTML = '';\n",
              "          dataTable['output_type'] = 'display_data';\n",
              "          await google.colab.output.renderOutput(dataTable, element);\n",
              "          const docLink = document.createElement('div');\n",
              "          docLink.innerHTML = docLinkHtml;\n",
              "          element.appendChild(docLink);\n",
              "        }\n",
              "      </script>\n",
              "    </div>\n",
              "  </div>\n",
              "  "
            ]
          },
          "metadata": {},
          "execution_count": 192
        }
      ]
    },
    {
      "cell_type": "code",
      "source": [
        "# Union dataframe back\n",
        "result_df = pd.concat(chunks)\n",
        "\n",
        "# Dropping 'similar_user_id' and 'similarity' columns\n",
        "result_df = result_df.drop(columns=['similar_user_id','similarity'])"
      ],
      "metadata": {
        "id": "Eawrm9X-Aoe7"
      },
      "execution_count": 198,
      "outputs": []
    },
    {
      "cell_type": "code",
      "source": [
        "result_df"
      ],
      "metadata": {
        "colab": {
          "base_uri": "https://localhost:8080/",
          "height": 424
        },
        "id": "9c20Zttp1P3V",
        "outputId": "5df2c9b5-9781-4957-b59b-e2cec079b2ec"
      },
      "execution_count": 200,
      "outputs": [
        {
          "output_type": "execute_result",
          "data": {
            "text/plain": [
              "        user_id item_id  rank\n",
              "100656  1097512   12995     1\n",
              "100656  1097512   10440     2\n",
              "100656  1097512    3734     3\n",
              "100656  1097512    4880     4\n",
              "100657  1097512   12192     5\n",
              "...         ...     ...   ...\n",
              "128802       60    5770     6\n",
              "128802       60    4482     7\n",
              "128802       60    3066     8\n",
              "128802       60    5910     9\n",
              "128802       60     657    10\n",
              "\n",
              "[978541 rows x 3 columns]"
            ],
            "text/html": [
              "\n",
              "  <div id=\"df-edfbc1e7-630f-459a-8068-4fe341bf53a9\">\n",
              "    <div class=\"colab-df-container\">\n",
              "      <div>\n",
              "<style scoped>\n",
              "    .dataframe tbody tr th:only-of-type {\n",
              "        vertical-align: middle;\n",
              "    }\n",
              "\n",
              "    .dataframe tbody tr th {\n",
              "        vertical-align: top;\n",
              "    }\n",
              "\n",
              "    .dataframe thead th {\n",
              "        text-align: right;\n",
              "    }\n",
              "</style>\n",
              "<table border=\"1\" class=\"dataframe\">\n",
              "  <thead>\n",
              "    <tr style=\"text-align: right;\">\n",
              "      <th></th>\n",
              "      <th>user_id</th>\n",
              "      <th>item_id</th>\n",
              "      <th>rank</th>\n",
              "    </tr>\n",
              "  </thead>\n",
              "  <tbody>\n",
              "    <tr>\n",
              "      <th>100656</th>\n",
              "      <td>1097512</td>\n",
              "      <td>12995</td>\n",
              "      <td>1</td>\n",
              "    </tr>\n",
              "    <tr>\n",
              "      <th>100656</th>\n",
              "      <td>1097512</td>\n",
              "      <td>10440</td>\n",
              "      <td>2</td>\n",
              "    </tr>\n",
              "    <tr>\n",
              "      <th>100656</th>\n",
              "      <td>1097512</td>\n",
              "      <td>3734</td>\n",
              "      <td>3</td>\n",
              "    </tr>\n",
              "    <tr>\n",
              "      <th>100656</th>\n",
              "      <td>1097512</td>\n",
              "      <td>4880</td>\n",
              "      <td>4</td>\n",
              "    </tr>\n",
              "    <tr>\n",
              "      <th>100657</th>\n",
              "      <td>1097512</td>\n",
              "      <td>12192</td>\n",
              "      <td>5</td>\n",
              "    </tr>\n",
              "    <tr>\n",
              "      <th>...</th>\n",
              "      <td>...</td>\n",
              "      <td>...</td>\n",
              "      <td>...</td>\n",
              "    </tr>\n",
              "    <tr>\n",
              "      <th>128802</th>\n",
              "      <td>60</td>\n",
              "      <td>5770</td>\n",
              "      <td>6</td>\n",
              "    </tr>\n",
              "    <tr>\n",
              "      <th>128802</th>\n",
              "      <td>60</td>\n",
              "      <td>4482</td>\n",
              "      <td>7</td>\n",
              "    </tr>\n",
              "    <tr>\n",
              "      <th>128802</th>\n",
              "      <td>60</td>\n",
              "      <td>3066</td>\n",
              "      <td>8</td>\n",
              "    </tr>\n",
              "    <tr>\n",
              "      <th>128802</th>\n",
              "      <td>60</td>\n",
              "      <td>5910</td>\n",
              "      <td>9</td>\n",
              "    </tr>\n",
              "    <tr>\n",
              "      <th>128802</th>\n",
              "      <td>60</td>\n",
              "      <td>657</td>\n",
              "      <td>10</td>\n",
              "    </tr>\n",
              "  </tbody>\n",
              "</table>\n",
              "<p>978541 rows × 3 columns</p>\n",
              "</div>\n",
              "      <button class=\"colab-df-convert\" onclick=\"convertToInteractive('df-edfbc1e7-630f-459a-8068-4fe341bf53a9')\"\n",
              "              title=\"Convert this dataframe to an interactive table.\"\n",
              "              style=\"display:none;\">\n",
              "        \n",
              "  <svg xmlns=\"http://www.w3.org/2000/svg\" height=\"24px\"viewBox=\"0 0 24 24\"\n",
              "       width=\"24px\">\n",
              "    <path d=\"M0 0h24v24H0V0z\" fill=\"none\"/>\n",
              "    <path d=\"M18.56 5.44l.94 2.06.94-2.06 2.06-.94-2.06-.94-.94-2.06-.94 2.06-2.06.94zm-11 1L8.5 8.5l.94-2.06 2.06-.94-2.06-.94L8.5 2.5l-.94 2.06-2.06.94zm10 10l.94 2.06.94-2.06 2.06-.94-2.06-.94-.94-2.06-.94 2.06-2.06.94z\"/><path d=\"M17.41 7.96l-1.37-1.37c-.4-.4-.92-.59-1.43-.59-.52 0-1.04.2-1.43.59L10.3 9.45l-7.72 7.72c-.78.78-.78 2.05 0 2.83L4 21.41c.39.39.9.59 1.41.59.51 0 1.02-.2 1.41-.59l7.78-7.78 2.81-2.81c.8-.78.8-2.07 0-2.86zM5.41 20L4 18.59l7.72-7.72 1.47 1.35L5.41 20z\"/>\n",
              "  </svg>\n",
              "      </button>\n",
              "      \n",
              "  <style>\n",
              "    .colab-df-container {\n",
              "      display:flex;\n",
              "      flex-wrap:wrap;\n",
              "      gap: 12px;\n",
              "    }\n",
              "\n",
              "    .colab-df-convert {\n",
              "      background-color: #E8F0FE;\n",
              "      border: none;\n",
              "      border-radius: 50%;\n",
              "      cursor: pointer;\n",
              "      display: none;\n",
              "      fill: #1967D2;\n",
              "      height: 32px;\n",
              "      padding: 0 0 0 0;\n",
              "      width: 32px;\n",
              "    }\n",
              "\n",
              "    .colab-df-convert:hover {\n",
              "      background-color: #E2EBFA;\n",
              "      box-shadow: 0px 1px 2px rgba(60, 64, 67, 0.3), 0px 1px 3px 1px rgba(60, 64, 67, 0.15);\n",
              "      fill: #174EA6;\n",
              "    }\n",
              "\n",
              "    [theme=dark] .colab-df-convert {\n",
              "      background-color: #3B4455;\n",
              "      fill: #D2E3FC;\n",
              "    }\n",
              "\n",
              "    [theme=dark] .colab-df-convert:hover {\n",
              "      background-color: #434B5C;\n",
              "      box-shadow: 0px 1px 3px 1px rgba(0, 0, 0, 0.15);\n",
              "      filter: drop-shadow(0px 1px 2px rgba(0, 0, 0, 0.3));\n",
              "      fill: #FFFFFF;\n",
              "    }\n",
              "  </style>\n",
              "\n",
              "      <script>\n",
              "        const buttonEl =\n",
              "          document.querySelector('#df-edfbc1e7-630f-459a-8068-4fe341bf53a9 button.colab-df-convert');\n",
              "        buttonEl.style.display =\n",
              "          google.colab.kernel.accessAllowed ? 'block' : 'none';\n",
              "\n",
              "        async function convertToInteractive(key) {\n",
              "          const element = document.querySelector('#df-edfbc1e7-630f-459a-8068-4fe341bf53a9');\n",
              "          const dataTable =\n",
              "            await google.colab.kernel.invokeFunction('convertToInteractive',\n",
              "                                                     [key], {});\n",
              "          if (!dataTable) return;\n",
              "\n",
              "          const docLinkHtml = 'Like what you see? Visit the ' +\n",
              "            '<a target=\"_blank\" href=https://colab.research.google.com/notebooks/data_table.ipynb>data table notebook</a>'\n",
              "            + ' to learn more about interactive tables.';\n",
              "          element.innerHTML = '';\n",
              "          dataTable['output_type'] = 'display_data';\n",
              "          await google.colab.output.renderOutput(dataTable, element);\n",
              "          const docLink = document.createElement('div');\n",
              "          docLink.innerHTML = docLinkHtml;\n",
              "          element.appendChild(docLink);\n",
              "        }\n",
              "      </script>\n",
              "    </div>\n",
              "  </div>\n",
              "  "
            ]
          },
          "metadata": {},
          "execution_count": 200
        }
      ]
    },
    {
      "cell_type": "markdown",
      "source": [
        "#### Dealing with less than N recommendations"
      ],
      "metadata": {
        "id": "geyL3dQYs5Oa"
      }
    },
    {
      "cell_type": "code",
      "source": [
        "recs = result_df"
      ],
      "metadata": {
        "id": "b6cvSMVD0p-A"
      },
      "execution_count": 201,
      "outputs": []
    },
    {
      "cell_type": "code",
      "source": [
        "# We have users with less than N recommendations\n",
        "s = recs['user_id'].value_counts()\n",
        "s[s<N]"
      ],
      "metadata": {
        "colab": {
          "base_uri": "https://localhost:8080/"
        },
        "outputId": "186ceeae-80b2-420f-a29c-d06ab902460e",
        "id": "dGAFBvhr0g5y"
      },
      "execution_count": 202,
      "outputs": [
        {
          "output_type": "execute_result",
          "data": {
            "text/plain": [
              "536316     9\n",
              "266343     9\n",
              "798109     9\n",
              "159391     9\n",
              "896379     9\n",
              "          ..\n",
              "348081     1\n",
              "232427     1\n",
              "1063305    1\n",
              "965220     1\n",
              "234348     1\n",
              "Name: user_id, Length: 7329, dtype: int64"
            ]
          },
          "metadata": {},
          "execution_count": 202
        }
      ]
    },
    {
      "cell_type": "code",
      "source": [
        "recs[recs['user_id'].isin(s[s<N].index)]"
      ],
      "metadata": {
        "colab": {
          "base_uri": "https://localhost:8080/",
          "height": 424
        },
        "outputId": "b08804b4-bbdb-45a2-ffdb-8ca154ec68d0",
        "id": "DCDoXdtO0g5y"
      },
      "execution_count": 203,
      "outputs": [
        {
          "output_type": "execute_result",
          "data": {
            "text/plain": [
              "       user_id item_id  rank\n",
              "21281  1096776     831     1\n",
              "21281  1096776   11863     2\n",
              "21281  1096776    6253     3\n",
              "21283  1096776   10440     4\n",
              "21283  1096776    9996     5\n",
              "...        ...     ...   ...\n",
              "17476     1885   10440     3\n",
              "17476     1885   13865     4\n",
              "39981     1610   12192     1\n",
              "39988     1610    8636     2\n",
              "39989     1610    5326     3\n",
              "\n",
              "[32011 rows x 3 columns]"
            ],
            "text/html": [
              "\n",
              "  <div id=\"df-4e0c5eec-6a40-4ead-9705-2daf38cbd7b6\">\n",
              "    <div class=\"colab-df-container\">\n",
              "      <div>\n",
              "<style scoped>\n",
              "    .dataframe tbody tr th:only-of-type {\n",
              "        vertical-align: middle;\n",
              "    }\n",
              "\n",
              "    .dataframe tbody tr th {\n",
              "        vertical-align: top;\n",
              "    }\n",
              "\n",
              "    .dataframe thead th {\n",
              "        text-align: right;\n",
              "    }\n",
              "</style>\n",
              "<table border=\"1\" class=\"dataframe\">\n",
              "  <thead>\n",
              "    <tr style=\"text-align: right;\">\n",
              "      <th></th>\n",
              "      <th>user_id</th>\n",
              "      <th>item_id</th>\n",
              "      <th>rank</th>\n",
              "    </tr>\n",
              "  </thead>\n",
              "  <tbody>\n",
              "    <tr>\n",
              "      <th>21281</th>\n",
              "      <td>1096776</td>\n",
              "      <td>831</td>\n",
              "      <td>1</td>\n",
              "    </tr>\n",
              "    <tr>\n",
              "      <th>21281</th>\n",
              "      <td>1096776</td>\n",
              "      <td>11863</td>\n",
              "      <td>2</td>\n",
              "    </tr>\n",
              "    <tr>\n",
              "      <th>21281</th>\n",
              "      <td>1096776</td>\n",
              "      <td>6253</td>\n",
              "      <td>3</td>\n",
              "    </tr>\n",
              "    <tr>\n",
              "      <th>21283</th>\n",
              "      <td>1096776</td>\n",
              "      <td>10440</td>\n",
              "      <td>4</td>\n",
              "    </tr>\n",
              "    <tr>\n",
              "      <th>21283</th>\n",
              "      <td>1096776</td>\n",
              "      <td>9996</td>\n",
              "      <td>5</td>\n",
              "    </tr>\n",
              "    <tr>\n",
              "      <th>...</th>\n",
              "      <td>...</td>\n",
              "      <td>...</td>\n",
              "      <td>...</td>\n",
              "    </tr>\n",
              "    <tr>\n",
              "      <th>17476</th>\n",
              "      <td>1885</td>\n",
              "      <td>10440</td>\n",
              "      <td>3</td>\n",
              "    </tr>\n",
              "    <tr>\n",
              "      <th>17476</th>\n",
              "      <td>1885</td>\n",
              "      <td>13865</td>\n",
              "      <td>4</td>\n",
              "    </tr>\n",
              "    <tr>\n",
              "      <th>39981</th>\n",
              "      <td>1610</td>\n",
              "      <td>12192</td>\n",
              "      <td>1</td>\n",
              "    </tr>\n",
              "    <tr>\n",
              "      <th>39988</th>\n",
              "      <td>1610</td>\n",
              "      <td>8636</td>\n",
              "      <td>2</td>\n",
              "    </tr>\n",
              "    <tr>\n",
              "      <th>39989</th>\n",
              "      <td>1610</td>\n",
              "      <td>5326</td>\n",
              "      <td>3</td>\n",
              "    </tr>\n",
              "  </tbody>\n",
              "</table>\n",
              "<p>32011 rows × 3 columns</p>\n",
              "</div>\n",
              "      <button class=\"colab-df-convert\" onclick=\"convertToInteractive('df-4e0c5eec-6a40-4ead-9705-2daf38cbd7b6')\"\n",
              "              title=\"Convert this dataframe to an interactive table.\"\n",
              "              style=\"display:none;\">\n",
              "        \n",
              "  <svg xmlns=\"http://www.w3.org/2000/svg\" height=\"24px\"viewBox=\"0 0 24 24\"\n",
              "       width=\"24px\">\n",
              "    <path d=\"M0 0h24v24H0V0z\" fill=\"none\"/>\n",
              "    <path d=\"M18.56 5.44l.94 2.06.94-2.06 2.06-.94-2.06-.94-.94-2.06-.94 2.06-2.06.94zm-11 1L8.5 8.5l.94-2.06 2.06-.94-2.06-.94L8.5 2.5l-.94 2.06-2.06.94zm10 10l.94 2.06.94-2.06 2.06-.94-2.06-.94-.94-2.06-.94 2.06-2.06.94z\"/><path d=\"M17.41 7.96l-1.37-1.37c-.4-.4-.92-.59-1.43-.59-.52 0-1.04.2-1.43.59L10.3 9.45l-7.72 7.72c-.78.78-.78 2.05 0 2.83L4 21.41c.39.39.9.59 1.41.59.51 0 1.02-.2 1.41-.59l7.78-7.78 2.81-2.81c.8-.78.8-2.07 0-2.86zM5.41 20L4 18.59l7.72-7.72 1.47 1.35L5.41 20z\"/>\n",
              "  </svg>\n",
              "      </button>\n",
              "      \n",
              "  <style>\n",
              "    .colab-df-container {\n",
              "      display:flex;\n",
              "      flex-wrap:wrap;\n",
              "      gap: 12px;\n",
              "    }\n",
              "\n",
              "    .colab-df-convert {\n",
              "      background-color: #E8F0FE;\n",
              "      border: none;\n",
              "      border-radius: 50%;\n",
              "      cursor: pointer;\n",
              "      display: none;\n",
              "      fill: #1967D2;\n",
              "      height: 32px;\n",
              "      padding: 0 0 0 0;\n",
              "      width: 32px;\n",
              "    }\n",
              "\n",
              "    .colab-df-convert:hover {\n",
              "      background-color: #E2EBFA;\n",
              "      box-shadow: 0px 1px 2px rgba(60, 64, 67, 0.3), 0px 1px 3px 1px rgba(60, 64, 67, 0.15);\n",
              "      fill: #174EA6;\n",
              "    }\n",
              "\n",
              "    [theme=dark] .colab-df-convert {\n",
              "      background-color: #3B4455;\n",
              "      fill: #D2E3FC;\n",
              "    }\n",
              "\n",
              "    [theme=dark] .colab-df-convert:hover {\n",
              "      background-color: #434B5C;\n",
              "      box-shadow: 0px 1px 3px 1px rgba(0, 0, 0, 0.15);\n",
              "      filter: drop-shadow(0px 1px 2px rgba(0, 0, 0, 0.3));\n",
              "      fill: #FFFFFF;\n",
              "    }\n",
              "  </style>\n",
              "\n",
              "      <script>\n",
              "        const buttonEl =\n",
              "          document.querySelector('#df-4e0c5eec-6a40-4ead-9705-2daf38cbd7b6 button.colab-df-convert');\n",
              "        buttonEl.style.display =\n",
              "          google.colab.kernel.accessAllowed ? 'block' : 'none';\n",
              "\n",
              "        async function convertToInteractive(key) {\n",
              "          const element = document.querySelector('#df-4e0c5eec-6a40-4ead-9705-2daf38cbd7b6');\n",
              "          const dataTable =\n",
              "            await google.colab.kernel.invokeFunction('convertToInteractive',\n",
              "                                                     [key], {});\n",
              "          if (!dataTable) return;\n",
              "\n",
              "          const docLinkHtml = 'Like what you see? Visit the ' +\n",
              "            '<a target=\"_blank\" href=https://colab.research.google.com/notebooks/data_table.ipynb>data table notebook</a>'\n",
              "            + ' to learn more about interactive tables.';\n",
              "          element.innerHTML = '';\n",
              "          dataTable['output_type'] = 'display_data';\n",
              "          await google.colab.output.renderOutput(dataTable, element);\n",
              "          const docLink = document.createElement('div');\n",
              "          docLink.innerHTML = docLinkHtml;\n",
              "          element.appendChild(docLink);\n",
              "        }\n",
              "      </script>\n",
              "    </div>\n",
              "  </div>\n",
              "  "
            ]
          },
          "metadata": {},
          "execution_count": 203
        }
      ]
    },
    {
      "cell_type": "code",
      "source": [
        "recs"
      ],
      "metadata": {
        "colab": {
          "base_uri": "https://localhost:8080/",
          "height": 424
        },
        "id": "OlE2aY601HUc",
        "outputId": "841ee303-a6c1-44fa-ed00-8a597d71f279"
      },
      "execution_count": 204,
      "outputs": [
        {
          "output_type": "execute_result",
          "data": {
            "text/plain": [
              "        user_id item_id  rank\n",
              "100656  1097512   12995     1\n",
              "100656  1097512   10440     2\n",
              "100656  1097512    3734     3\n",
              "100656  1097512    4880     4\n",
              "100657  1097512   12192     5\n",
              "...         ...     ...   ...\n",
              "128802       60    5770     6\n",
              "128802       60    4482     7\n",
              "128802       60    3066     8\n",
              "128802       60    5910     9\n",
              "128802       60     657    10\n",
              "\n",
              "[978541 rows x 3 columns]"
            ],
            "text/html": [
              "\n",
              "  <div id=\"df-66712c1a-7a2e-4326-9bcf-a41681459b7b\">\n",
              "    <div class=\"colab-df-container\">\n",
              "      <div>\n",
              "<style scoped>\n",
              "    .dataframe tbody tr th:only-of-type {\n",
              "        vertical-align: middle;\n",
              "    }\n",
              "\n",
              "    .dataframe tbody tr th {\n",
              "        vertical-align: top;\n",
              "    }\n",
              "\n",
              "    .dataframe thead th {\n",
              "        text-align: right;\n",
              "    }\n",
              "</style>\n",
              "<table border=\"1\" class=\"dataframe\">\n",
              "  <thead>\n",
              "    <tr style=\"text-align: right;\">\n",
              "      <th></th>\n",
              "      <th>user_id</th>\n",
              "      <th>item_id</th>\n",
              "      <th>rank</th>\n",
              "    </tr>\n",
              "  </thead>\n",
              "  <tbody>\n",
              "    <tr>\n",
              "      <th>100656</th>\n",
              "      <td>1097512</td>\n",
              "      <td>12995</td>\n",
              "      <td>1</td>\n",
              "    </tr>\n",
              "    <tr>\n",
              "      <th>100656</th>\n",
              "      <td>1097512</td>\n",
              "      <td>10440</td>\n",
              "      <td>2</td>\n",
              "    </tr>\n",
              "    <tr>\n",
              "      <th>100656</th>\n",
              "      <td>1097512</td>\n",
              "      <td>3734</td>\n",
              "      <td>3</td>\n",
              "    </tr>\n",
              "    <tr>\n",
              "      <th>100656</th>\n",
              "      <td>1097512</td>\n",
              "      <td>4880</td>\n",
              "      <td>4</td>\n",
              "    </tr>\n",
              "    <tr>\n",
              "      <th>100657</th>\n",
              "      <td>1097512</td>\n",
              "      <td>12192</td>\n",
              "      <td>5</td>\n",
              "    </tr>\n",
              "    <tr>\n",
              "      <th>...</th>\n",
              "      <td>...</td>\n",
              "      <td>...</td>\n",
              "      <td>...</td>\n",
              "    </tr>\n",
              "    <tr>\n",
              "      <th>128802</th>\n",
              "      <td>60</td>\n",
              "      <td>5770</td>\n",
              "      <td>6</td>\n",
              "    </tr>\n",
              "    <tr>\n",
              "      <th>128802</th>\n",
              "      <td>60</td>\n",
              "      <td>4482</td>\n",
              "      <td>7</td>\n",
              "    </tr>\n",
              "    <tr>\n",
              "      <th>128802</th>\n",
              "      <td>60</td>\n",
              "      <td>3066</td>\n",
              "      <td>8</td>\n",
              "    </tr>\n",
              "    <tr>\n",
              "      <th>128802</th>\n",
              "      <td>60</td>\n",
              "      <td>5910</td>\n",
              "      <td>9</td>\n",
              "    </tr>\n",
              "    <tr>\n",
              "      <th>128802</th>\n",
              "      <td>60</td>\n",
              "      <td>657</td>\n",
              "      <td>10</td>\n",
              "    </tr>\n",
              "  </tbody>\n",
              "</table>\n",
              "<p>978541 rows × 3 columns</p>\n",
              "</div>\n",
              "      <button class=\"colab-df-convert\" onclick=\"convertToInteractive('df-66712c1a-7a2e-4326-9bcf-a41681459b7b')\"\n",
              "              title=\"Convert this dataframe to an interactive table.\"\n",
              "              style=\"display:none;\">\n",
              "        \n",
              "  <svg xmlns=\"http://www.w3.org/2000/svg\" height=\"24px\"viewBox=\"0 0 24 24\"\n",
              "       width=\"24px\">\n",
              "    <path d=\"M0 0h24v24H0V0z\" fill=\"none\"/>\n",
              "    <path d=\"M18.56 5.44l.94 2.06.94-2.06 2.06-.94-2.06-.94-.94-2.06-.94 2.06-2.06.94zm-11 1L8.5 8.5l.94-2.06 2.06-.94-2.06-.94L8.5 2.5l-.94 2.06-2.06.94zm10 10l.94 2.06.94-2.06 2.06-.94-2.06-.94-.94-2.06-.94 2.06-2.06.94z\"/><path d=\"M17.41 7.96l-1.37-1.37c-.4-.4-.92-.59-1.43-.59-.52 0-1.04.2-1.43.59L10.3 9.45l-7.72 7.72c-.78.78-.78 2.05 0 2.83L4 21.41c.39.39.9.59 1.41.59.51 0 1.02-.2 1.41-.59l7.78-7.78 2.81-2.81c.8-.78.8-2.07 0-2.86zM5.41 20L4 18.59l7.72-7.72 1.47 1.35L5.41 20z\"/>\n",
              "  </svg>\n",
              "      </button>\n",
              "      \n",
              "  <style>\n",
              "    .colab-df-container {\n",
              "      display:flex;\n",
              "      flex-wrap:wrap;\n",
              "      gap: 12px;\n",
              "    }\n",
              "\n",
              "    .colab-df-convert {\n",
              "      background-color: #E8F0FE;\n",
              "      border: none;\n",
              "      border-radius: 50%;\n",
              "      cursor: pointer;\n",
              "      display: none;\n",
              "      fill: #1967D2;\n",
              "      height: 32px;\n",
              "      padding: 0 0 0 0;\n",
              "      width: 32px;\n",
              "    }\n",
              "\n",
              "    .colab-df-convert:hover {\n",
              "      background-color: #E2EBFA;\n",
              "      box-shadow: 0px 1px 2px rgba(60, 64, 67, 0.3), 0px 1px 3px 1px rgba(60, 64, 67, 0.15);\n",
              "      fill: #174EA6;\n",
              "    }\n",
              "\n",
              "    [theme=dark] .colab-df-convert {\n",
              "      background-color: #3B4455;\n",
              "      fill: #D2E3FC;\n",
              "    }\n",
              "\n",
              "    [theme=dark] .colab-df-convert:hover {\n",
              "      background-color: #434B5C;\n",
              "      box-shadow: 0px 1px 3px 1px rgba(0, 0, 0, 0.15);\n",
              "      filter: drop-shadow(0px 1px 2px rgba(0, 0, 0, 0.3));\n",
              "      fill: #FFFFFF;\n",
              "    }\n",
              "  </style>\n",
              "\n",
              "      <script>\n",
              "        const buttonEl =\n",
              "          document.querySelector('#df-66712c1a-7a2e-4326-9bcf-a41681459b7b button.colab-df-convert');\n",
              "        buttonEl.style.display =\n",
              "          google.colab.kernel.accessAllowed ? 'block' : 'none';\n",
              "\n",
              "        async function convertToInteractive(key) {\n",
              "          const element = document.querySelector('#df-66712c1a-7a2e-4326-9bcf-a41681459b7b');\n",
              "          const dataTable =\n",
              "            await google.colab.kernel.invokeFunction('convertToInteractive',\n",
              "                                                     [key], {});\n",
              "          if (!dataTable) return;\n",
              "\n",
              "          const docLinkHtml = 'Like what you see? Visit the ' +\n",
              "            '<a target=\"_blank\" href=https://colab.research.google.com/notebooks/data_table.ipynb>data table notebook</a>'\n",
              "            + ' to learn more about interactive tables.';\n",
              "          element.innerHTML = '';\n",
              "          dataTable['output_type'] = 'display_data';\n",
              "          await google.colab.output.renderOutput(dataTable, element);\n",
              "          const docLink = document.createElement('div');\n",
              "          docLink.innerHTML = docLinkHtml;\n",
              "          element.appendChild(docLink);\n",
              "        }\n",
              "      </script>\n",
              "    </div>\n",
              "  </div>\n",
              "  "
            ]
          },
          "metadata": {},
          "execution_count": 204
        }
      ]
    },
    {
      "cell_type": "code",
      "source": [
        "not_enough_dict = recs[recs['user_id'].isin(s[s<N].index)].groupby('user_id')['item_id'].agg(lambda row: list(row)).to_dict()"
      ],
      "metadata": {
        "id": "Hf0EWcAY0g51"
      },
      "execution_count": 205,
      "outputs": []
    },
    {
      "cell_type": "code",
      "source": [
        "# Creating dataset for PopularModel\n",
        "dataset_train = Dataset.construct(\n",
        "    interactions_df=train,\n",
        "    user_features_df=None,\n",
        "    item_features_df=None\n",
        ")"
      ],
      "metadata": {
        "id": "c4rA8XVq0g51"
      },
      "execution_count": 206,
      "outputs": []
    },
    {
      "cell_type": "code",
      "source": [
        "popular_model = PopularModel()\n",
        "popular_model.fit(dataset_train)"
      ],
      "metadata": {
        "colab": {
          "base_uri": "https://localhost:8080/"
        },
        "outputId": "c44f54b8-f94d-4df0-d468-84a8602320d4",
        "id": "lYxr7aRZ0g51"
      },
      "execution_count": 207,
      "outputs": [
        {
          "output_type": "execute_result",
          "data": {
            "text/plain": [
              "<rectools.models.popular.PopularModel at 0x7f4e9db1c8e0>"
            ]
          },
          "metadata": {},
          "execution_count": 207
        }
      ]
    },
    {
      "cell_type": "code",
      "source": [
        "popular_model_result = popular_model.recommend(\n",
        "    dataset_train.user_id_map.external_ids[:1], \n",
        "    dataset=dataset_train, \n",
        "    k=2*N, \n",
        "    filter_viewed=False,\n",
        ")['item_id'].to_list()"
      ],
      "metadata": {
        "id": "cYwx5gxh0g52"
      },
      "execution_count": 208,
      "outputs": []
    },
    {
      "cell_type": "code",
      "source": [
        "d = {\"user_id\":[], \"item_id\": [], \"rank\": []}\n",
        "# for user_id, max_rank in not_enough_dict.items():\n",
        "for user_id, item_id_list in not_enough_dict.items():\n",
        "    max_rank = len(item_id_list)\n",
        "    # drop popular items, that is already in recommendation list\n",
        "    corrected_popular_list = [item for item in popular_model_result if item not in item_id_list]\n",
        "    for i in range(1, N - max_rank + 1):\n",
        "        d['user_id'].append(user_id)\n",
        "        d['item_id'].append(corrected_popular_list[i])\n",
        "        d['rank'].append(max_rank+i)"
      ],
      "metadata": {
        "id": "3GtoApao0g52"
      },
      "execution_count": 209,
      "outputs": []
    },
    {
      "cell_type": "code",
      "source": [
        "filled_with_popular_bm_25 = pd.DataFrame.from_dict(d)"
      ],
      "metadata": {
        "id": "ndZfl8Uq0g52"
      },
      "execution_count": 210,
      "outputs": []
    },
    {
      "cell_type": "code",
      "source": [
        "final_result_bm_25 = pd.concat([recs,filled_with_popular_bm_25])"
      ],
      "metadata": {
        "id": "YxeWuI0G0g52"
      },
      "execution_count": 211,
      "outputs": []
    },
    {
      "cell_type": "code",
      "source": [
        "s = final_result_bm_25['user_id'].value_counts()\n",
        "s[s<10]"
      ],
      "metadata": {
        "colab": {
          "base_uri": "https://localhost:8080/"
        },
        "outputId": "2e942563-5cdb-447a-fa33-ed1098c1d9be",
        "id": "iH8lshlB0g53"
      },
      "execution_count": 212,
      "outputs": [
        {
          "output_type": "execute_result",
          "data": {
            "text/plain": [
              "Series([], Name: user_id, dtype: int64)"
            ]
          },
          "metadata": {},
          "execution_count": 212
        }
      ]
    },
    {
      "cell_type": "code",
      "source": [
        "with open('/content/drive/MyDrive/MTS_RecSys/final_result_bm_25.dill', 'wb') as f:\n",
        "    dill.dump(final_result_bm_25, f)"
      ],
      "metadata": {
        "id": "lEZVq7EY0g53"
      },
      "execution_count": 213,
      "outputs": []
    },
    {
      "cell_type": "code",
      "source": [
        "bm_25_metric_values = calc_metrics(\n",
        "  metrics,\n",
        "  reco=final_result_bm_25,\n",
        "  interactions=test,\n",
        "  prev_interactions=train,\n",
        "  catalog=catalog\n",
        ")"
      ],
      "metadata": {
        "id": "1YYJqcYS9428"
      },
      "execution_count": 214,
      "outputs": []
    },
    {
      "cell_type": "code",
      "source": [
        "bm_25_metric_values"
      ],
      "metadata": {
        "colab": {
          "base_uri": "https://localhost:8080/"
        },
        "id": "HYb0er_R2PhM",
        "outputId": "5a76885b-c74f-450f-c8d0-55d8fa46a903"
      },
      "execution_count": 216,
      "outputs": [
        {
          "output_type": "execute_result",
          "data": {
            "text/plain": [
              "{'prec@10': 0.010149730837492524,\n",
              " 'recall@10': 0.05202168689019393,\n",
              " 'map@10': 0.014336336556977794,\n",
              " 'novelty': 8.558863847296637,\n",
              " 'serendipity': 7.578220852014551e-05}"
            ]
          },
          "metadata": {},
          "execution_count": 216
        }
      ]
    },
    {
      "cell_type": "code",
      "source": [
        "metric_values"
      ],
      "metadata": {
        "colab": {
          "base_uri": "https://localhost:8080/"
        },
        "outputId": "589ccae9-07de-406e-fb3d-1b246811ca6c",
        "id": "sP0vfy722Pne"
      },
      "execution_count": 217,
      "outputs": [
        {
          "output_type": "execute_result",
          "data": {
            "text/plain": [
              "{'prec@10': 0.015735955992665446,\n",
              " 'recall@10': 0.08167169516943629,\n",
              " 'map@10': 0.020269051400935267,\n",
              " 'novelty': 7.168520634937293,\n",
              " 'serendipity': 5.6443609141752035e-05}"
            ]
          },
          "metadata": {},
          "execution_count": 217
        }
      ]
    },
    {
      "cell_type": "code",
      "source": [
        "tfidf_metric_values"
      ],
      "metadata": {
        "colab": {
          "base_uri": "https://localhost:8080/"
        },
        "outputId": "cf150c7c-8e56-4e5b-d964-a5257d27da85",
        "id": "x6wARGwC2Pnf"
      },
      "execution_count": 218,
      "outputs": [
        {
          "output_type": "execute_result",
          "data": {
            "text/plain": [
              "{'prec@10': 0.020649520018042225,\n",
              " 'recall@10': 0.10676722963456782,\n",
              " 'map@10': 0.02652848400918433,\n",
              " 'novelty': 5.553259996354108,\n",
              " 'serendipity': 3.5661279648735724e-05}"
            ]
          },
          "metadata": {},
          "execution_count": 218
        }
      ]
    },
    {
      "cell_type": "markdown",
      "source": [
        "##2.2.Hyperparameter tuning"
      ],
      "metadata": {
        "id": "XIflaTDVFbUZ"
      }
    },
    {
      "cell_type": "markdown",
      "source": [
        "Since models CosineRecommender and TFIDFRecommender have the best performance in terms of metrics, then we will try to improve the results by tuning the K parameter.\n",
        "\n",
        "K : The number of neighbours to include when calculating the item-item similarity matrix."
      ],
      "metadata": {
        "id": "WINU-kATChMB"
      }
    },
    {
      "cell_type": "code",
      "source": [
        "models = {\n",
        "    'CR_10': CosineRecommender(K=10),\n",
        "    'CR_15': CosineRecommender(K=15),\n",
        "    'CR_20': CosineRecommender(K=20),\n",
        "    'TFIDF_10' : TFIDFRecommender(K=10),\n",
        "    'TFIDF_15' : TFIDFRecommender(K=15),\n",
        "    'TFIDF_20' : TFIDFRecommender(K=20)\n",
        "}"
      ],
      "metadata": {
        "id": "iUpZrb5YC0Uk"
      },
      "execution_count": 63,
      "outputs": []
    },
    {
      "cell_type": "code",
      "source": [
        "# # Training models with different parameters, then saving them\n",
        "# models_dir = '/content/drive/MyDrive/MTS_RecSys'\n",
        "\n",
        "# for model_name, model in models.items():\n",
        "#     model.fit(interaction_matrix)\n",
        "#     # Saving model\n",
        "#     with open(f'{models_dir}/{model_name}.dill', 'wb') as f:\n",
        "#         dill.dump(model, f)\n"
      ],
      "metadata": {
        "id": "ZvuFyXXiGC38"
      },
      "execution_count": null,
      "outputs": []
    },
    {
      "cell_type": "code",
      "source": [
        "# Loading trained models\n",
        "models_dir = ('/content/drive/MyDrive/MTS_RecSys')\n",
        "\n",
        "for model_name in models.keys():\n",
        "    with open(f'{models_dir}/{model_name}.dill', 'rb') as f:\n",
        "        models[model_name] = dill.load(f)"
      ],
      "metadata": {
        "id": "bNkjpaLZGfsO"
      },
      "execution_count": 64,
      "outputs": []
    },
    {
      "cell_type": "code",
      "source": [
        "models"
      ],
      "metadata": {
        "colab": {
          "base_uri": "https://localhost:8080/"
        },
        "id": "YJer4xUtQOiu",
        "outputId": "ac99cdb3-7836-43d3-f75d-1b653b5deff8"
      },
      "execution_count": 65,
      "outputs": [
        {
          "output_type": "execute_result",
          "data": {
            "text/plain": [
              "{'CR_10': <implicit.nearest_neighbours.CosineRecommender at 0x7f796991b340>,\n",
              " 'CR_15': <implicit.nearest_neighbours.CosineRecommender at 0x7f796161d1c0>,\n",
              " 'CR_20': <implicit.nearest_neighbours.CosineRecommender at 0x7f796161dac0>,\n",
              " 'TFIDF_10': <implicit.nearest_neighbours.TFIDFRecommender at 0x7f79540261c0>,\n",
              " 'TFIDF_15': <implicit.nearest_neighbours.TFIDFRecommender at 0x7f79540260d0>,\n",
              " 'TFIDF_20': <implicit.nearest_neighbours.TFIDFRecommender at 0x7f79540262b0>}"
            ]
          },
          "metadata": {},
          "execution_count": 65
        }
      ]
    },
    {
      "cell_type": "markdown",
      "source": [
        "### main"
      ],
      "metadata": {
        "id": "RR3rnhK4hQfP"
      }
    },
    {
      "cell_type": "code",
      "source": [
        "results = []\n",
        "N = 10\n",
        "\n",
        "for model_name, model in models.items():\n",
        "    print('Starting with:', model_name)\n",
        "    mapper = generate_implicit_recs_mapper(\n",
        "        model, \n",
        "        N=N,\n",
        "        users_mapping=users_mapping,\n",
        "        users_inv_mapping=users_inv_mapping\n",
        "    )\n",
        "    recs = pd.DataFrame({\n",
        "        'user_id': test['user_id'].unique()\n",
        "    })\n",
        "    recs['similar_user_id'], recs['similarity'] = zip(*recs['user_id'].map(mapper))\n",
        "\n",
        "    # Exploding lists to get vertical representation\n",
        "    recs = recs.set_index('user_id').apply(pd.Series.explode).reset_index()\n",
        "    # Deleting recommendations of itself   \n",
        "    recs = recs[~(recs['user_id']==recs['similar_user_id'])]\n",
        "\n",
        "    # Joining watched items\n",
        "    watched = train.groupby('user_id').agg({'item_id': list})\n",
        "    recs = recs.merge(watched, left_on=['similar_user_id'], right_on=['user_id'], how='left')\n",
        "    recs = recs.explode('item_id')\n",
        "\n",
        "    # Dropping duplicates pairs user_id-item_id and keeping rows with the highest similiarity\n",
        "    recs = recs.sort_values(['user_id', 'similarity'], ascending=False)\n",
        "    recs = recs.drop_duplicates(['user_id', 'item_id'], keep='first')\n",
        "\n",
        "    # Making rank\n",
        "    recs['rank'] = recs.groupby('user_id').cumcount() + 1 \n",
        "\n",
        "    # Decreasing rank to 10\n",
        "    recs = recs[recs['rank'] <= 10]\n",
        "\n",
        "    # Dealing witn less than N recommendations\n",
        "    s = recs['user_id'].value_counts()\n",
        "    not_enough_dict = recs[recs['user_id'].isin(s[s<N].index)].groupby('user_id')['item_id'].agg(lambda row: list(row)).to_dict()\n",
        "\n",
        "    d = {\"user_id\":[], \"item_id\": [], \"rank\": []}\n",
        "    # for user_id, max_rank in not_enough_dict.items():\n",
        "    for user_id, item_id_list in not_enough_dict.items():\n",
        "        max_rank = len(item_id_list)\n",
        "        # drop popular items, that is already in recommendation list\n",
        "        corrected_popular_list = [item for item in popular_model_result if item not in item_id_list]\n",
        "        for i in range(1, N - max_rank + 1):\n",
        "            d['user_id'].append(user_id)\n",
        "            d['item_id'].append(corrected_popular_list[i])\n",
        "            d['rank'].append(max_rank+i)\n",
        "\n",
        "    filled_with_popular = pd.DataFrame.from_dict(d)\n",
        "    final_result = pd.concat([recs,filled_with_popular])\n",
        "\n",
        "    model_result = {'name': model_name}\n",
        "    metric_values = calc_metrics(\n",
        "                metrics,\n",
        "                reco=final_result, \n",
        "                interactions=test,\n",
        "                prev_interactions=train,\n",
        "                catalog=catalog\n",
        "            )\n",
        "    model_result.update(metric_values)\n",
        "    results.append(model_result)"
      ],
      "metadata": {
        "id": "a-GF3ibZHHfq",
        "colab": {
          "base_uri": "https://localhost:8080/"
        },
        "outputId": "e74cfb78-ce25-4fd9-d5a2-01677abdffbb"
      },
      "execution_count": 71,
      "outputs": [
        {
          "output_type": "stream",
          "name": "stdout",
          "text": [
            "Starting with: CR_10\n",
            "Starting with: CR_15\n",
            "Starting with: CR_20\n",
            "Starting with: TFIDF_10\n",
            "Starting with: TFIDF_15\n",
            "Starting with: TFIDF_20\n"
          ]
        }
      ]
    },
    {
      "cell_type": "markdown",
      "source": [
        "### Tuning_results"
      ],
      "metadata": {
        "id": "YTTkNBWUidvI"
      }
    },
    {
      "cell_type": "code",
      "source": [
        "tuning_results = pd.DataFrame.from_dict(results)"
      ],
      "metadata": {
        "id": "XqtK4BICLg9J"
      },
      "execution_count": 72,
      "outputs": []
    },
    {
      "cell_type": "code",
      "source": [
        "tuning_results"
      ],
      "metadata": {
        "id": "Q4TTL4ElLoQU",
        "colab": {
          "base_uri": "https://localhost:8080/",
          "height": 238
        },
        "outputId": "523ffdcf-ef85-4e6f-eb41-af8bd5e059d3"
      },
      "execution_count": 73,
      "outputs": [
        {
          "output_type": "execute_result",
          "data": {
            "text/plain": [
              "       name   prec@10  recall@10    map@10   novelty  serendipity\n",
              "0     CR_10  0.018499   0.094935  0.023819  5.795980     0.000038\n",
              "1     CR_15  0.018498   0.094932  0.023819  5.796153     0.000038\n",
              "2     CR_20  0.018499   0.094935  0.023821  5.796000     0.000038\n",
              "3  TFIDF_10  0.020650   0.106767  0.026528  5.553260     0.000036\n",
              "4  TFIDF_15  0.020650   0.106767  0.026528  5.553260     0.000036\n",
              "5  TFIDF_20  0.020650   0.106767  0.026528  5.553260     0.000036"
            ],
            "text/html": [
              "\n",
              "  <div id=\"df-7ffc3040-529d-4004-9670-16e6b626f9d2\">\n",
              "    <div class=\"colab-df-container\">\n",
              "      <div>\n",
              "<style scoped>\n",
              "    .dataframe tbody tr th:only-of-type {\n",
              "        vertical-align: middle;\n",
              "    }\n",
              "\n",
              "    .dataframe tbody tr th {\n",
              "        vertical-align: top;\n",
              "    }\n",
              "\n",
              "    .dataframe thead th {\n",
              "        text-align: right;\n",
              "    }\n",
              "</style>\n",
              "<table border=\"1\" class=\"dataframe\">\n",
              "  <thead>\n",
              "    <tr style=\"text-align: right;\">\n",
              "      <th></th>\n",
              "      <th>name</th>\n",
              "      <th>prec@10</th>\n",
              "      <th>recall@10</th>\n",
              "      <th>map@10</th>\n",
              "      <th>novelty</th>\n",
              "      <th>serendipity</th>\n",
              "    </tr>\n",
              "  </thead>\n",
              "  <tbody>\n",
              "    <tr>\n",
              "      <th>0</th>\n",
              "      <td>CR_10</td>\n",
              "      <td>0.018499</td>\n",
              "      <td>0.094935</td>\n",
              "      <td>0.023819</td>\n",
              "      <td>5.795980</td>\n",
              "      <td>0.000038</td>\n",
              "    </tr>\n",
              "    <tr>\n",
              "      <th>1</th>\n",
              "      <td>CR_15</td>\n",
              "      <td>0.018498</td>\n",
              "      <td>0.094932</td>\n",
              "      <td>0.023819</td>\n",
              "      <td>5.796153</td>\n",
              "      <td>0.000038</td>\n",
              "    </tr>\n",
              "    <tr>\n",
              "      <th>2</th>\n",
              "      <td>CR_20</td>\n",
              "      <td>0.018499</td>\n",
              "      <td>0.094935</td>\n",
              "      <td>0.023821</td>\n",
              "      <td>5.796000</td>\n",
              "      <td>0.000038</td>\n",
              "    </tr>\n",
              "    <tr>\n",
              "      <th>3</th>\n",
              "      <td>TFIDF_10</td>\n",
              "      <td>0.020650</td>\n",
              "      <td>0.106767</td>\n",
              "      <td>0.026528</td>\n",
              "      <td>5.553260</td>\n",
              "      <td>0.000036</td>\n",
              "    </tr>\n",
              "    <tr>\n",
              "      <th>4</th>\n",
              "      <td>TFIDF_15</td>\n",
              "      <td>0.020650</td>\n",
              "      <td>0.106767</td>\n",
              "      <td>0.026528</td>\n",
              "      <td>5.553260</td>\n",
              "      <td>0.000036</td>\n",
              "    </tr>\n",
              "    <tr>\n",
              "      <th>5</th>\n",
              "      <td>TFIDF_20</td>\n",
              "      <td>0.020650</td>\n",
              "      <td>0.106767</td>\n",
              "      <td>0.026528</td>\n",
              "      <td>5.553260</td>\n",
              "      <td>0.000036</td>\n",
              "    </tr>\n",
              "  </tbody>\n",
              "</table>\n",
              "</div>\n",
              "      <button class=\"colab-df-convert\" onclick=\"convertToInteractive('df-7ffc3040-529d-4004-9670-16e6b626f9d2')\"\n",
              "              title=\"Convert this dataframe to an interactive table.\"\n",
              "              style=\"display:none;\">\n",
              "        \n",
              "  <svg xmlns=\"http://www.w3.org/2000/svg\" height=\"24px\"viewBox=\"0 0 24 24\"\n",
              "       width=\"24px\">\n",
              "    <path d=\"M0 0h24v24H0V0z\" fill=\"none\"/>\n",
              "    <path d=\"M18.56 5.44l.94 2.06.94-2.06 2.06-.94-2.06-.94-.94-2.06-.94 2.06-2.06.94zm-11 1L8.5 8.5l.94-2.06 2.06-.94-2.06-.94L8.5 2.5l-.94 2.06-2.06.94zm10 10l.94 2.06.94-2.06 2.06-.94-2.06-.94-.94-2.06-.94 2.06-2.06.94z\"/><path d=\"M17.41 7.96l-1.37-1.37c-.4-.4-.92-.59-1.43-.59-.52 0-1.04.2-1.43.59L10.3 9.45l-7.72 7.72c-.78.78-.78 2.05 0 2.83L4 21.41c.39.39.9.59 1.41.59.51 0 1.02-.2 1.41-.59l7.78-7.78 2.81-2.81c.8-.78.8-2.07 0-2.86zM5.41 20L4 18.59l7.72-7.72 1.47 1.35L5.41 20z\"/>\n",
              "  </svg>\n",
              "      </button>\n",
              "      \n",
              "  <style>\n",
              "    .colab-df-container {\n",
              "      display:flex;\n",
              "      flex-wrap:wrap;\n",
              "      gap: 12px;\n",
              "    }\n",
              "\n",
              "    .colab-df-convert {\n",
              "      background-color: #E8F0FE;\n",
              "      border: none;\n",
              "      border-radius: 50%;\n",
              "      cursor: pointer;\n",
              "      display: none;\n",
              "      fill: #1967D2;\n",
              "      height: 32px;\n",
              "      padding: 0 0 0 0;\n",
              "      width: 32px;\n",
              "    }\n",
              "\n",
              "    .colab-df-convert:hover {\n",
              "      background-color: #E2EBFA;\n",
              "      box-shadow: 0px 1px 2px rgba(60, 64, 67, 0.3), 0px 1px 3px 1px rgba(60, 64, 67, 0.15);\n",
              "      fill: #174EA6;\n",
              "    }\n",
              "\n",
              "    [theme=dark] .colab-df-convert {\n",
              "      background-color: #3B4455;\n",
              "      fill: #D2E3FC;\n",
              "    }\n",
              "\n",
              "    [theme=dark] .colab-df-convert:hover {\n",
              "      background-color: #434B5C;\n",
              "      box-shadow: 0px 1px 3px 1px rgba(0, 0, 0, 0.15);\n",
              "      filter: drop-shadow(0px 1px 2px rgba(0, 0, 0, 0.3));\n",
              "      fill: #FFFFFF;\n",
              "    }\n",
              "  </style>\n",
              "\n",
              "      <script>\n",
              "        const buttonEl =\n",
              "          document.querySelector('#df-7ffc3040-529d-4004-9670-16e6b626f9d2 button.colab-df-convert');\n",
              "        buttonEl.style.display =\n",
              "          google.colab.kernel.accessAllowed ? 'block' : 'none';\n",
              "\n",
              "        async function convertToInteractive(key) {\n",
              "          const element = document.querySelector('#df-7ffc3040-529d-4004-9670-16e6b626f9d2');\n",
              "          const dataTable =\n",
              "            await google.colab.kernel.invokeFunction('convertToInteractive',\n",
              "                                                     [key], {});\n",
              "          if (!dataTable) return;\n",
              "\n",
              "          const docLinkHtml = 'Like what you see? Visit the ' +\n",
              "            '<a target=\"_blank\" href=https://colab.research.google.com/notebooks/data_table.ipynb>data table notebook</a>'\n",
              "            + ' to learn more about interactive tables.';\n",
              "          element.innerHTML = '';\n",
              "          dataTable['output_type'] = 'display_data';\n",
              "          await google.colab.output.renderOutput(dataTable, element);\n",
              "          const docLink = document.createElement('div');\n",
              "          docLink.innerHTML = docLinkHtml;\n",
              "          element.appendChild(docLink);\n",
              "        }\n",
              "      </script>\n",
              "    </div>\n",
              "  </div>\n",
              "  "
            ]
          },
          "metadata": {},
          "execution_count": 73
        }
      ]
    },
    {
      "cell_type": "markdown",
      "source": [
        "Let's take CR_20 and TFIDF_15 and **blend** them. They have best results across their model family"
      ],
      "metadata": {
        "id": "SnMen8L5ivHM"
      }
    },
    {
      "cell_type": "code",
      "source": [
        "with open('/content/drive/MyDrive/MTS_RecSys/CR_20.dill', 'rb') as f:\n",
        "    CR_20 = dill.load(f)"
      ],
      "metadata": {
        "id": "EsVC8z2pjlCf"
      },
      "execution_count": 75,
      "outputs": []
    },
    {
      "cell_type": "code",
      "source": [
        "with open('/content/drive/MyDrive/MTS_RecSys/TFIDF_15.dill', 'rb') as f:\n",
        "    TFIDF_15 = dill.load(f)"
      ],
      "metadata": {
        "id": "UCJVEKKKjliy"
      },
      "execution_count": 79,
      "outputs": []
    },
    {
      "cell_type": "markdown",
      "source": [
        "#### CR_20"
      ],
      "metadata": {
        "id": "xPSS2zoDlo4w"
      }
    },
    {
      "cell_type": "code",
      "source": [
        "mapper = generate_implicit_recs_mapper(\n",
        "    CR_20, \n",
        "    N=N,\n",
        "    users_mapping=users_mapping,\n",
        "    users_inv_mapping=users_inv_mapping\n",
        ")"
      ],
      "metadata": {
        "id": "aNRl_0SSjObd"
      },
      "execution_count": 82,
      "outputs": []
    },
    {
      "cell_type": "code",
      "source": [
        "recs = pd.DataFrame({\n",
        "    'user_id': test['user_id'].unique()\n",
        "})\n",
        "\n",
        "recs['similar_user_id'], recs['similarity'] = zip(*recs['user_id'].map(mapper))\n",
        "recs.head()"
      ],
      "metadata": {
        "colab": {
          "base_uri": "https://localhost:8080/",
          "height": 337
        },
        "outputId": "edaa7cfd-b0a7-4c3e-9e70-0c84c6180eec",
        "id": "_ZfBTxHijObe"
      },
      "execution_count": 83,
      "outputs": [
        {
          "output_type": "execute_result",
          "data": {
            "text/plain": [
              "   user_id  \\\n",
              "0  1016458   \n",
              "1    68478   \n",
              "2   580093   \n",
              "3  1072552   \n",
              "4   910002   \n",
              "\n",
              "                                                                    similar_user_id  \\\n",
              "0   [1016458, 416417, 859673, 494256, 414523, 254272, 101745, 50573, 55914, 589357]   \n",
              "1    [68478, 20161, 412019, 620526, 695810, 879494, 589849, 988152, 691867, 594451]   \n",
              "2  [580093, 937473, 86046, 262791, 522603, 521456, 515818, 654291, 1009888, 333513]   \n",
              "3  [1072552, 1022231, 449057, 639316, 38521, 992547, 401940, 613583, 184399, 33572]   \n",
              "4     [910002, 490989, 57211, 914293, 442802, 185148, 594268, 737639, 57072, 55347]   \n",
              "\n",
              "                                                                                                                                                                                                similarity  \n",
              "0  [1.0000000098027124, 0.6143665279318272, 0.6115098337111928, 0.6031119652865972, 0.6016035410642744, 0.5956601420097666, 0.5951893645435953, 0.5910982730574769, 0.5901959801548787, 0.5899352526319...  \n",
              "1   [0.9999999999999997, 0.7739892962350301, 0.7739892916809104, 0.7739892904471841, 0.7739892904471841, 0.7739728844372993, 0.773732938463484, 0.7731990156224964, 0.764299456592446, 0.7371703228664362]  \n",
              "2    [0.999999972768243, 0.98170707253408, 0.9816027812180024, 0.9811408740629928, 0.9809446394117618, 0.9804554967089238, 0.9787225812866681, 0.9780463490829185, 0.9761219827587835, 0.9753862067490225]  \n",
              "3  [1.0000000074842705, 0.48938543442887494, 0.4845394132067774, 0.4778556198287305, 0.4747312631328243, 0.463755730200894, 0.46303331823589533, 0.4624616814044821, 0.46080084719982534, 0.45879293725...  \n",
              "4   [1.000000020041603, 0.7295340991209922, 0.7236776448102081, 0.7230887217258574, 0.722400619894437, 0.7218159408211805, 0.7216246604867983, 0.7181317479407374, 0.7177606301330373, 0.7175263799975921]  "
            ],
            "text/html": [
              "\n",
              "  <div id=\"df-758e92bd-bd91-4aa5-9bca-010bb9561509\">\n",
              "    <div class=\"colab-df-container\">\n",
              "      <div>\n",
              "<style scoped>\n",
              "    .dataframe tbody tr th:only-of-type {\n",
              "        vertical-align: middle;\n",
              "    }\n",
              "\n",
              "    .dataframe tbody tr th {\n",
              "        vertical-align: top;\n",
              "    }\n",
              "\n",
              "    .dataframe thead th {\n",
              "        text-align: right;\n",
              "    }\n",
              "</style>\n",
              "<table border=\"1\" class=\"dataframe\">\n",
              "  <thead>\n",
              "    <tr style=\"text-align: right;\">\n",
              "      <th></th>\n",
              "      <th>user_id</th>\n",
              "      <th>similar_user_id</th>\n",
              "      <th>similarity</th>\n",
              "    </tr>\n",
              "  </thead>\n",
              "  <tbody>\n",
              "    <tr>\n",
              "      <th>0</th>\n",
              "      <td>1016458</td>\n",
              "      <td>[1016458, 416417, 859673, 494256, 414523, 254272, 101745, 50573, 55914, 589357]</td>\n",
              "      <td>[1.0000000098027124, 0.6143665279318272, 0.6115098337111928, 0.6031119652865972, 0.6016035410642744, 0.5956601420097666, 0.5951893645435953, 0.5910982730574769, 0.5901959801548787, 0.5899352526319...</td>\n",
              "    </tr>\n",
              "    <tr>\n",
              "      <th>1</th>\n",
              "      <td>68478</td>\n",
              "      <td>[68478, 20161, 412019, 620526, 695810, 879494, 589849, 988152, 691867, 594451]</td>\n",
              "      <td>[0.9999999999999997, 0.7739892962350301, 0.7739892916809104, 0.7739892904471841, 0.7739892904471841, 0.7739728844372993, 0.773732938463484, 0.7731990156224964, 0.764299456592446, 0.7371703228664362]</td>\n",
              "    </tr>\n",
              "    <tr>\n",
              "      <th>2</th>\n",
              "      <td>580093</td>\n",
              "      <td>[580093, 937473, 86046, 262791, 522603, 521456, 515818, 654291, 1009888, 333513]</td>\n",
              "      <td>[0.999999972768243, 0.98170707253408, 0.9816027812180024, 0.9811408740629928, 0.9809446394117618, 0.9804554967089238, 0.9787225812866681, 0.9780463490829185, 0.9761219827587835, 0.9753862067490225]</td>\n",
              "    </tr>\n",
              "    <tr>\n",
              "      <th>3</th>\n",
              "      <td>1072552</td>\n",
              "      <td>[1072552, 1022231, 449057, 639316, 38521, 992547, 401940, 613583, 184399, 33572]</td>\n",
              "      <td>[1.0000000074842705, 0.48938543442887494, 0.4845394132067774, 0.4778556198287305, 0.4747312631328243, 0.463755730200894, 0.46303331823589533, 0.4624616814044821, 0.46080084719982534, 0.45879293725...</td>\n",
              "    </tr>\n",
              "    <tr>\n",
              "      <th>4</th>\n",
              "      <td>910002</td>\n",
              "      <td>[910002, 490989, 57211, 914293, 442802, 185148, 594268, 737639, 57072, 55347]</td>\n",
              "      <td>[1.000000020041603, 0.7295340991209922, 0.7236776448102081, 0.7230887217258574, 0.722400619894437, 0.7218159408211805, 0.7216246604867983, 0.7181317479407374, 0.7177606301330373, 0.7175263799975921]</td>\n",
              "    </tr>\n",
              "  </tbody>\n",
              "</table>\n",
              "</div>\n",
              "      <button class=\"colab-df-convert\" onclick=\"convertToInteractive('df-758e92bd-bd91-4aa5-9bca-010bb9561509')\"\n",
              "              title=\"Convert this dataframe to an interactive table.\"\n",
              "              style=\"display:none;\">\n",
              "        \n",
              "  <svg xmlns=\"http://www.w3.org/2000/svg\" height=\"24px\"viewBox=\"0 0 24 24\"\n",
              "       width=\"24px\">\n",
              "    <path d=\"M0 0h24v24H0V0z\" fill=\"none\"/>\n",
              "    <path d=\"M18.56 5.44l.94 2.06.94-2.06 2.06-.94-2.06-.94-.94-2.06-.94 2.06-2.06.94zm-11 1L8.5 8.5l.94-2.06 2.06-.94-2.06-.94L8.5 2.5l-.94 2.06-2.06.94zm10 10l.94 2.06.94-2.06 2.06-.94-2.06-.94-.94-2.06-.94 2.06-2.06.94z\"/><path d=\"M17.41 7.96l-1.37-1.37c-.4-.4-.92-.59-1.43-.59-.52 0-1.04.2-1.43.59L10.3 9.45l-7.72 7.72c-.78.78-.78 2.05 0 2.83L4 21.41c.39.39.9.59 1.41.59.51 0 1.02-.2 1.41-.59l7.78-7.78 2.81-2.81c.8-.78.8-2.07 0-2.86zM5.41 20L4 18.59l7.72-7.72 1.47 1.35L5.41 20z\"/>\n",
              "  </svg>\n",
              "      </button>\n",
              "      \n",
              "  <style>\n",
              "    .colab-df-container {\n",
              "      display:flex;\n",
              "      flex-wrap:wrap;\n",
              "      gap: 12px;\n",
              "    }\n",
              "\n",
              "    .colab-df-convert {\n",
              "      background-color: #E8F0FE;\n",
              "      border: none;\n",
              "      border-radius: 50%;\n",
              "      cursor: pointer;\n",
              "      display: none;\n",
              "      fill: #1967D2;\n",
              "      height: 32px;\n",
              "      padding: 0 0 0 0;\n",
              "      width: 32px;\n",
              "    }\n",
              "\n",
              "    .colab-df-convert:hover {\n",
              "      background-color: #E2EBFA;\n",
              "      box-shadow: 0px 1px 2px rgba(60, 64, 67, 0.3), 0px 1px 3px 1px rgba(60, 64, 67, 0.15);\n",
              "      fill: #174EA6;\n",
              "    }\n",
              "\n",
              "    [theme=dark] .colab-df-convert {\n",
              "      background-color: #3B4455;\n",
              "      fill: #D2E3FC;\n",
              "    }\n",
              "\n",
              "    [theme=dark] .colab-df-convert:hover {\n",
              "      background-color: #434B5C;\n",
              "      box-shadow: 0px 1px 3px 1px rgba(0, 0, 0, 0.15);\n",
              "      filter: drop-shadow(0px 1px 2px rgba(0, 0, 0, 0.3));\n",
              "      fill: #FFFFFF;\n",
              "    }\n",
              "  </style>\n",
              "\n",
              "      <script>\n",
              "        const buttonEl =\n",
              "          document.querySelector('#df-758e92bd-bd91-4aa5-9bca-010bb9561509 button.colab-df-convert');\n",
              "        buttonEl.style.display =\n",
              "          google.colab.kernel.accessAllowed ? 'block' : 'none';\n",
              "\n",
              "        async function convertToInteractive(key) {\n",
              "          const element = document.querySelector('#df-758e92bd-bd91-4aa5-9bca-010bb9561509');\n",
              "          const dataTable =\n",
              "            await google.colab.kernel.invokeFunction('convertToInteractive',\n",
              "                                                     [key], {});\n",
              "          if (!dataTable) return;\n",
              "\n",
              "          const docLinkHtml = 'Like what you see? Visit the ' +\n",
              "            '<a target=\"_blank\" href=https://colab.research.google.com/notebooks/data_table.ipynb>data table notebook</a>'\n",
              "            + ' to learn more about interactive tables.';\n",
              "          element.innerHTML = '';\n",
              "          dataTable['output_type'] = 'display_data';\n",
              "          await google.colab.output.renderOutput(dataTable, element);\n",
              "          const docLink = document.createElement('div');\n",
              "          docLink.innerHTML = docLinkHtml;\n",
              "          element.appendChild(docLink);\n",
              "        }\n",
              "      </script>\n",
              "    </div>\n",
              "  </div>\n",
              "  "
            ]
          },
          "metadata": {},
          "execution_count": 83
        }
      ]
    },
    {
      "cell_type": "code",
      "source": [
        "# Exploding lists to get vertical representation\n",
        "recs = recs.set_index('user_id').apply(pd.Series.explode).reset_index()"
      ],
      "metadata": {
        "id": "6Lm6ELP6jObe"
      },
      "execution_count": 84,
      "outputs": []
    },
    {
      "cell_type": "code",
      "source": [
        "# Deleting recommendations of itself \n",
        "recs = recs[recs.user_id!=recs.similar_user_id]"
      ],
      "metadata": {
        "id": "K-SE4Z8MjObe"
      },
      "execution_count": 85,
      "outputs": []
    },
    {
      "cell_type": "code",
      "source": [
        "watched = train.groupby('user_id').agg({'item_id': list})\n",
        "watched.head()"
      ],
      "metadata": {
        "colab": {
          "base_uri": "https://localhost:8080/",
          "height": 238
        },
        "outputId": "6ec14ba1-7218-4400-83a8-2d0c884b8e0e",
        "id": "qSSHhV9ajObe"
      },
      "execution_count": 86,
      "outputs": [
        {
          "output_type": "execute_result",
          "data": {
            "text/plain": [
              "                                                                                                                                                                                                         item_id\n",
              "user_id                                                                                                                                                                                                         \n",
              "0                                                                                                                                                                        [7102, 14359, 15297, 6006, 9728, 12192]\n",
              "2        [7571, 3541, 15266, 13867, 12841, 10770, 4475, 9506, 8936, 11018, 11577, 561, 7106, 6774, 16029, 8482, 6825, 3594, 16166, 5819, 2954, 383, 11689, 12449, 2025, 6155, 3628, 334, 4024, 7210, 11539, 1...\n",
              "3                                                                                       [9728, 16406, 10440, 3475, 4151, 1418, 2220, 3734, 13789, 8581, 13849, 9550, 10464, 4880, 4436, 8801, 11790, 2657, 8252]\n",
              "4                                                                                                                                                                                                   [4700, 6317]\n",
              "5                                                                                                     [14397, 6445, 11437, 5651, 6167, 12466, 632, 8450, 2685, 7825, 3145, 7043, 4179, 15890, 5115, 4719, 10848]"
            ],
            "text/html": [
              "\n",
              "  <div id=\"df-c3673ce9-e3c7-4e2e-908e-45181db0bca6\">\n",
              "    <div class=\"colab-df-container\">\n",
              "      <div>\n",
              "<style scoped>\n",
              "    .dataframe tbody tr th:only-of-type {\n",
              "        vertical-align: middle;\n",
              "    }\n",
              "\n",
              "    .dataframe tbody tr th {\n",
              "        vertical-align: top;\n",
              "    }\n",
              "\n",
              "    .dataframe thead th {\n",
              "        text-align: right;\n",
              "    }\n",
              "</style>\n",
              "<table border=\"1\" class=\"dataframe\">\n",
              "  <thead>\n",
              "    <tr style=\"text-align: right;\">\n",
              "      <th></th>\n",
              "      <th>item_id</th>\n",
              "    </tr>\n",
              "    <tr>\n",
              "      <th>user_id</th>\n",
              "      <th></th>\n",
              "    </tr>\n",
              "  </thead>\n",
              "  <tbody>\n",
              "    <tr>\n",
              "      <th>0</th>\n",
              "      <td>[7102, 14359, 15297, 6006, 9728, 12192]</td>\n",
              "    </tr>\n",
              "    <tr>\n",
              "      <th>2</th>\n",
              "      <td>[7571, 3541, 15266, 13867, 12841, 10770, 4475, 9506, 8936, 11018, 11577, 561, 7106, 6774, 16029, 8482, 6825, 3594, 16166, 5819, 2954, 383, 11689, 12449, 2025, 6155, 3628, 334, 4024, 7210, 11539, 1...</td>\n",
              "    </tr>\n",
              "    <tr>\n",
              "      <th>3</th>\n",
              "      <td>[9728, 16406, 10440, 3475, 4151, 1418, 2220, 3734, 13789, 8581, 13849, 9550, 10464, 4880, 4436, 8801, 11790, 2657, 8252]</td>\n",
              "    </tr>\n",
              "    <tr>\n",
              "      <th>4</th>\n",
              "      <td>[4700, 6317]</td>\n",
              "    </tr>\n",
              "    <tr>\n",
              "      <th>5</th>\n",
              "      <td>[14397, 6445, 11437, 5651, 6167, 12466, 632, 8450, 2685, 7825, 3145, 7043, 4179, 15890, 5115, 4719, 10848]</td>\n",
              "    </tr>\n",
              "  </tbody>\n",
              "</table>\n",
              "</div>\n",
              "      <button class=\"colab-df-convert\" onclick=\"convertToInteractive('df-c3673ce9-e3c7-4e2e-908e-45181db0bca6')\"\n",
              "              title=\"Convert this dataframe to an interactive table.\"\n",
              "              style=\"display:none;\">\n",
              "        \n",
              "  <svg xmlns=\"http://www.w3.org/2000/svg\" height=\"24px\"viewBox=\"0 0 24 24\"\n",
              "       width=\"24px\">\n",
              "    <path d=\"M0 0h24v24H0V0z\" fill=\"none\"/>\n",
              "    <path d=\"M18.56 5.44l.94 2.06.94-2.06 2.06-.94-2.06-.94-.94-2.06-.94 2.06-2.06.94zm-11 1L8.5 8.5l.94-2.06 2.06-.94-2.06-.94L8.5 2.5l-.94 2.06-2.06.94zm10 10l.94 2.06.94-2.06 2.06-.94-2.06-.94-.94-2.06-.94 2.06-2.06.94z\"/><path d=\"M17.41 7.96l-1.37-1.37c-.4-.4-.92-.59-1.43-.59-.52 0-1.04.2-1.43.59L10.3 9.45l-7.72 7.72c-.78.78-.78 2.05 0 2.83L4 21.41c.39.39.9.59 1.41.59.51 0 1.02-.2 1.41-.59l7.78-7.78 2.81-2.81c.8-.78.8-2.07 0-2.86zM5.41 20L4 18.59l7.72-7.72 1.47 1.35L5.41 20z\"/>\n",
              "  </svg>\n",
              "      </button>\n",
              "      \n",
              "  <style>\n",
              "    .colab-df-container {\n",
              "      display:flex;\n",
              "      flex-wrap:wrap;\n",
              "      gap: 12px;\n",
              "    }\n",
              "\n",
              "    .colab-df-convert {\n",
              "      background-color: #E8F0FE;\n",
              "      border: none;\n",
              "      border-radius: 50%;\n",
              "      cursor: pointer;\n",
              "      display: none;\n",
              "      fill: #1967D2;\n",
              "      height: 32px;\n",
              "      padding: 0 0 0 0;\n",
              "      width: 32px;\n",
              "    }\n",
              "\n",
              "    .colab-df-convert:hover {\n",
              "      background-color: #E2EBFA;\n",
              "      box-shadow: 0px 1px 2px rgba(60, 64, 67, 0.3), 0px 1px 3px 1px rgba(60, 64, 67, 0.15);\n",
              "      fill: #174EA6;\n",
              "    }\n",
              "\n",
              "    [theme=dark] .colab-df-convert {\n",
              "      background-color: #3B4455;\n",
              "      fill: #D2E3FC;\n",
              "    }\n",
              "\n",
              "    [theme=dark] .colab-df-convert:hover {\n",
              "      background-color: #434B5C;\n",
              "      box-shadow: 0px 1px 3px 1px rgba(0, 0, 0, 0.15);\n",
              "      filter: drop-shadow(0px 1px 2px rgba(0, 0, 0, 0.3));\n",
              "      fill: #FFFFFF;\n",
              "    }\n",
              "  </style>\n",
              "\n",
              "      <script>\n",
              "        const buttonEl =\n",
              "          document.querySelector('#df-c3673ce9-e3c7-4e2e-908e-45181db0bca6 button.colab-df-convert');\n",
              "        buttonEl.style.display =\n",
              "          google.colab.kernel.accessAllowed ? 'block' : 'none';\n",
              "\n",
              "        async function convertToInteractive(key) {\n",
              "          const element = document.querySelector('#df-c3673ce9-e3c7-4e2e-908e-45181db0bca6');\n",
              "          const dataTable =\n",
              "            await google.colab.kernel.invokeFunction('convertToInteractive',\n",
              "                                                     [key], {});\n",
              "          if (!dataTable) return;\n",
              "\n",
              "          const docLinkHtml = 'Like what you see? Visit the ' +\n",
              "            '<a target=\"_blank\" href=https://colab.research.google.com/notebooks/data_table.ipynb>data table notebook</a>'\n",
              "            + ' to learn more about interactive tables.';\n",
              "          element.innerHTML = '';\n",
              "          dataTable['output_type'] = 'display_data';\n",
              "          await google.colab.output.renderOutput(dataTable, element);\n",
              "          const docLink = document.createElement('div');\n",
              "          docLink.innerHTML = docLinkHtml;\n",
              "          element.appendChild(docLink);\n",
              "        }\n",
              "      </script>\n",
              "    </div>\n",
              "  </div>\n",
              "  "
            ]
          },
          "metadata": {},
          "execution_count": 86
        }
      ]
    },
    {
      "cell_type": "code",
      "source": [
        "# Joining watched items\n",
        "recs = recs.merge(watched, left_on=['similar_user_id'], right_on=['user_id'], how='left')\n",
        "recs = recs.explode('item_id')"
      ],
      "metadata": {
        "id": "OFMwaVeZjObe"
      },
      "execution_count": 87,
      "outputs": []
    },
    {
      "cell_type": "code",
      "source": [
        "# Dropping duplicates pairs user_id-item_id and keeping rows with the highest similiarity\n",
        "recs = recs.sort_values(['user_id', 'similarity'], ascending=False)"
      ],
      "metadata": {
        "id": "x_BoL8PYjObe"
      },
      "execution_count": 88,
      "outputs": []
    },
    {
      "cell_type": "code",
      "source": [
        "recs = recs.drop_duplicates(['user_id', 'item_id'], keep='first')"
      ],
      "metadata": {
        "id": "Hvl_ZPU_jObe"
      },
      "execution_count": 89,
      "outputs": []
    },
    {
      "cell_type": "code",
      "source": [
        "# Making rank\n",
        "recs['rank'] = recs.groupby('user_id').cumcount() + 1 "
      ],
      "metadata": {
        "id": "kJ99WGw9jObf"
      },
      "execution_count": 90,
      "outputs": []
    },
    {
      "cell_type": "code",
      "source": [
        "# Decreasing rank to N\n",
        "recs = recs[recs['rank'] <=N]"
      ],
      "metadata": {
        "id": "nNn2_zmsjObf"
      },
      "execution_count": 91,
      "outputs": []
    },
    {
      "cell_type": "code",
      "source": [
        "# We have users with less than N recommendations\n",
        "s = recs['user_id'].value_counts()\n",
        "s[s<N]"
      ],
      "metadata": {
        "colab": {
          "base_uri": "https://localhost:8080/"
        },
        "outputId": "b3511861-3a21-4a1f-c1a5-38eb1c55c9fa",
        "id": "IEKzKCq7jObf"
      },
      "execution_count": 92,
      "outputs": [
        {
          "output_type": "execute_result",
          "data": {
            "text/plain": [
              "870236    9\n",
              "837761    9\n",
              "917889    9\n",
              "976662    9\n",
              "233601    9\n",
              "         ..\n",
              "204767    1\n",
              "204789    1\n",
              "204794    1\n",
              "204799    1\n",
              "361516    1\n",
              "Name: user_id, Length: 48670, dtype: int64"
            ]
          },
          "metadata": {},
          "execution_count": 92
        }
      ]
    },
    {
      "cell_type": "code",
      "source": [
        "recs[recs['user_id'].isin(s[s<N].index)]"
      ],
      "metadata": {
        "colab": {
          "base_uri": "https://localhost:8080/",
          "height": 424
        },
        "outputId": "b745a150-1483-4d53-816a-8840cc606d42",
        "id": "YWELaEU7jObf"
      },
      "execution_count": 93,
      "outputs": [
        {
          "output_type": "execute_result",
          "data": {
            "text/plain": [
              "        user_id similar_user_id similarity item_id  rank\n",
              "872642  1097544          412291   0.704641    8636     1\n",
              "872642  1097544          412291   0.704641    7829     2\n",
              "872642  1097544          412291   0.704641    9996     3\n",
              "99506   1097512          984690        1.0   10440     1\n",
              "99506   1097512          984690        1.0    3734     2\n",
              "...         ...             ...        ...     ...   ...\n",
              "374802      119          591119   0.999797    4436     2\n",
              "374808      119          123470   0.996359    7626     3\n",
              "374808      119          123470   0.996359    3402     4\n",
              "15433       107          507982        1.0    2657     1\n",
              "638431       14          788373        1.0   10440     1\n",
              "\n",
              "[149268 rows x 5 columns]"
            ],
            "text/html": [
              "\n",
              "  <div id=\"df-4d594755-0c2f-4279-a905-79f27362b4ce\">\n",
              "    <div class=\"colab-df-container\">\n",
              "      <div>\n",
              "<style scoped>\n",
              "    .dataframe tbody tr th:only-of-type {\n",
              "        vertical-align: middle;\n",
              "    }\n",
              "\n",
              "    .dataframe tbody tr th {\n",
              "        vertical-align: top;\n",
              "    }\n",
              "\n",
              "    .dataframe thead th {\n",
              "        text-align: right;\n",
              "    }\n",
              "</style>\n",
              "<table border=\"1\" class=\"dataframe\">\n",
              "  <thead>\n",
              "    <tr style=\"text-align: right;\">\n",
              "      <th></th>\n",
              "      <th>user_id</th>\n",
              "      <th>similar_user_id</th>\n",
              "      <th>similarity</th>\n",
              "      <th>item_id</th>\n",
              "      <th>rank</th>\n",
              "    </tr>\n",
              "  </thead>\n",
              "  <tbody>\n",
              "    <tr>\n",
              "      <th>872642</th>\n",
              "      <td>1097544</td>\n",
              "      <td>412291</td>\n",
              "      <td>0.704641</td>\n",
              "      <td>8636</td>\n",
              "      <td>1</td>\n",
              "    </tr>\n",
              "    <tr>\n",
              "      <th>872642</th>\n",
              "      <td>1097544</td>\n",
              "      <td>412291</td>\n",
              "      <td>0.704641</td>\n",
              "      <td>7829</td>\n",
              "      <td>2</td>\n",
              "    </tr>\n",
              "    <tr>\n",
              "      <th>872642</th>\n",
              "      <td>1097544</td>\n",
              "      <td>412291</td>\n",
              "      <td>0.704641</td>\n",
              "      <td>9996</td>\n",
              "      <td>3</td>\n",
              "    </tr>\n",
              "    <tr>\n",
              "      <th>99506</th>\n",
              "      <td>1097512</td>\n",
              "      <td>984690</td>\n",
              "      <td>1.0</td>\n",
              "      <td>10440</td>\n",
              "      <td>1</td>\n",
              "    </tr>\n",
              "    <tr>\n",
              "      <th>99506</th>\n",
              "      <td>1097512</td>\n",
              "      <td>984690</td>\n",
              "      <td>1.0</td>\n",
              "      <td>3734</td>\n",
              "      <td>2</td>\n",
              "    </tr>\n",
              "    <tr>\n",
              "      <th>...</th>\n",
              "      <td>...</td>\n",
              "      <td>...</td>\n",
              "      <td>...</td>\n",
              "      <td>...</td>\n",
              "      <td>...</td>\n",
              "    </tr>\n",
              "    <tr>\n",
              "      <th>374802</th>\n",
              "      <td>119</td>\n",
              "      <td>591119</td>\n",
              "      <td>0.999797</td>\n",
              "      <td>4436</td>\n",
              "      <td>2</td>\n",
              "    </tr>\n",
              "    <tr>\n",
              "      <th>374808</th>\n",
              "      <td>119</td>\n",
              "      <td>123470</td>\n",
              "      <td>0.996359</td>\n",
              "      <td>7626</td>\n",
              "      <td>3</td>\n",
              "    </tr>\n",
              "    <tr>\n",
              "      <th>374808</th>\n",
              "      <td>119</td>\n",
              "      <td>123470</td>\n",
              "      <td>0.996359</td>\n",
              "      <td>3402</td>\n",
              "      <td>4</td>\n",
              "    </tr>\n",
              "    <tr>\n",
              "      <th>15433</th>\n",
              "      <td>107</td>\n",
              "      <td>507982</td>\n",
              "      <td>1.0</td>\n",
              "      <td>2657</td>\n",
              "      <td>1</td>\n",
              "    </tr>\n",
              "    <tr>\n",
              "      <th>638431</th>\n",
              "      <td>14</td>\n",
              "      <td>788373</td>\n",
              "      <td>1.0</td>\n",
              "      <td>10440</td>\n",
              "      <td>1</td>\n",
              "    </tr>\n",
              "  </tbody>\n",
              "</table>\n",
              "<p>149268 rows × 5 columns</p>\n",
              "</div>\n",
              "      <button class=\"colab-df-convert\" onclick=\"convertToInteractive('df-4d594755-0c2f-4279-a905-79f27362b4ce')\"\n",
              "              title=\"Convert this dataframe to an interactive table.\"\n",
              "              style=\"display:none;\">\n",
              "        \n",
              "  <svg xmlns=\"http://www.w3.org/2000/svg\" height=\"24px\"viewBox=\"0 0 24 24\"\n",
              "       width=\"24px\">\n",
              "    <path d=\"M0 0h24v24H0V0z\" fill=\"none\"/>\n",
              "    <path d=\"M18.56 5.44l.94 2.06.94-2.06 2.06-.94-2.06-.94-.94-2.06-.94 2.06-2.06.94zm-11 1L8.5 8.5l.94-2.06 2.06-.94-2.06-.94L8.5 2.5l-.94 2.06-2.06.94zm10 10l.94 2.06.94-2.06 2.06-.94-2.06-.94-.94-2.06-.94 2.06-2.06.94z\"/><path d=\"M17.41 7.96l-1.37-1.37c-.4-.4-.92-.59-1.43-.59-.52 0-1.04.2-1.43.59L10.3 9.45l-7.72 7.72c-.78.78-.78 2.05 0 2.83L4 21.41c.39.39.9.59 1.41.59.51 0 1.02-.2 1.41-.59l7.78-7.78 2.81-2.81c.8-.78.8-2.07 0-2.86zM5.41 20L4 18.59l7.72-7.72 1.47 1.35L5.41 20z\"/>\n",
              "  </svg>\n",
              "      </button>\n",
              "      \n",
              "  <style>\n",
              "    .colab-df-container {\n",
              "      display:flex;\n",
              "      flex-wrap:wrap;\n",
              "      gap: 12px;\n",
              "    }\n",
              "\n",
              "    .colab-df-convert {\n",
              "      background-color: #E8F0FE;\n",
              "      border: none;\n",
              "      border-radius: 50%;\n",
              "      cursor: pointer;\n",
              "      display: none;\n",
              "      fill: #1967D2;\n",
              "      height: 32px;\n",
              "      padding: 0 0 0 0;\n",
              "      width: 32px;\n",
              "    }\n",
              "\n",
              "    .colab-df-convert:hover {\n",
              "      background-color: #E2EBFA;\n",
              "      box-shadow: 0px 1px 2px rgba(60, 64, 67, 0.3), 0px 1px 3px 1px rgba(60, 64, 67, 0.15);\n",
              "      fill: #174EA6;\n",
              "    }\n",
              "\n",
              "    [theme=dark] .colab-df-convert {\n",
              "      background-color: #3B4455;\n",
              "      fill: #D2E3FC;\n",
              "    }\n",
              "\n",
              "    [theme=dark] .colab-df-convert:hover {\n",
              "      background-color: #434B5C;\n",
              "      box-shadow: 0px 1px 3px 1px rgba(0, 0, 0, 0.15);\n",
              "      filter: drop-shadow(0px 1px 2px rgba(0, 0, 0, 0.3));\n",
              "      fill: #FFFFFF;\n",
              "    }\n",
              "  </style>\n",
              "\n",
              "      <script>\n",
              "        const buttonEl =\n",
              "          document.querySelector('#df-4d594755-0c2f-4279-a905-79f27362b4ce button.colab-df-convert');\n",
              "        buttonEl.style.display =\n",
              "          google.colab.kernel.accessAllowed ? 'block' : 'none';\n",
              "\n",
              "        async function convertToInteractive(key) {\n",
              "          const element = document.querySelector('#df-4d594755-0c2f-4279-a905-79f27362b4ce');\n",
              "          const dataTable =\n",
              "            await google.colab.kernel.invokeFunction('convertToInteractive',\n",
              "                                                     [key], {});\n",
              "          if (!dataTable) return;\n",
              "\n",
              "          const docLinkHtml = 'Like what you see? Visit the ' +\n",
              "            '<a target=\"_blank\" href=https://colab.research.google.com/notebooks/data_table.ipynb>data table notebook</a>'\n",
              "            + ' to learn more about interactive tables.';\n",
              "          element.innerHTML = '';\n",
              "          dataTable['output_type'] = 'display_data';\n",
              "          await google.colab.output.renderOutput(dataTable, element);\n",
              "          const docLink = document.createElement('div');\n",
              "          docLink.innerHTML = docLinkHtml;\n",
              "          element.appendChild(docLink);\n",
              "        }\n",
              "      </script>\n",
              "    </div>\n",
              "  </div>\n",
              "  "
            ]
          },
          "metadata": {},
          "execution_count": 93
        }
      ]
    },
    {
      "cell_type": "code",
      "source": [
        "not_enough_dict = recs[recs['user_id'].isin(s[s<N].index)].groupby('user_id')['item_id'].agg(lambda row: list(row)).to_dict()"
      ],
      "metadata": {
        "id": "FqvX0FO2jObf"
      },
      "execution_count": 94,
      "outputs": []
    },
    {
      "cell_type": "code",
      "source": [
        "# Creating dataset for PopularModel\n",
        "dataset_train = Dataset.construct(\n",
        "    interactions_df=train,\n",
        "    user_features_df=None,\n",
        "    item_features_df=None\n",
        ")"
      ],
      "metadata": {
        "id": "M9XSJ2p0jObf"
      },
      "execution_count": 95,
      "outputs": []
    },
    {
      "cell_type": "code",
      "source": [
        "popular_model = PopularModel()\n",
        "popular_model.fit(dataset_train)"
      ],
      "metadata": {
        "colab": {
          "base_uri": "https://localhost:8080/"
        },
        "outputId": "072cbb65-1fe5-4604-ff08-78abc3f60603",
        "id": "vv8pJnfmjObf"
      },
      "execution_count": 96,
      "outputs": [
        {
          "output_type": "execute_result",
          "data": {
            "text/plain": [
              "<rectools.models.popular.PopularModel at 0x7f7952717d90>"
            ]
          },
          "metadata": {},
          "execution_count": 96
        }
      ]
    },
    {
      "cell_type": "code",
      "source": [
        "popular_model_result = popular_model.recommend(\n",
        "    dataset_train.user_id_map.external_ids[:1], \n",
        "    dataset=dataset_train, \n",
        "    k=2*N, \n",
        "    filter_viewed=False,\n",
        ")['item_id'].to_list()"
      ],
      "metadata": {
        "id": "_uXkCqO6jObf"
      },
      "execution_count": 97,
      "outputs": []
    },
    {
      "cell_type": "code",
      "source": [
        "d = {\"user_id\":[], \"item_id\": [], \"rank\": []}\n",
        "# for user_id, max_rank in not_enough_dict.items():\n",
        "for user_id, item_id_list in not_enough_dict.items():\n",
        "    max_rank = len(item_id_list)\n",
        "    # drop popular items, that is already in recommendation list\n",
        "    corrected_popular_list = [item for item in popular_model_result if item not in item_id_list]\n",
        "    for i in range(1, N - max_rank + 1):\n",
        "        d['user_id'].append(user_id)\n",
        "        d['item_id'].append(corrected_popular_list[i])\n",
        "        d['rank'].append(max_rank+i)"
      ],
      "metadata": {
        "id": "L3bGjvg8jObg"
      },
      "execution_count": 98,
      "outputs": []
    },
    {
      "cell_type": "code",
      "source": [
        "filled_with_popular_CR_20 = pd.DataFrame.from_dict(d)"
      ],
      "metadata": {
        "id": "RfgCdnawjObg"
      },
      "execution_count": 99,
      "outputs": []
    },
    {
      "cell_type": "code",
      "source": [
        "final_result_CR_20 = pd.concat([recs,filled_with_popular_CR_20])"
      ],
      "metadata": {
        "id": "iMlt0CxujObg"
      },
      "execution_count": 101,
      "outputs": []
    },
    {
      "cell_type": "code",
      "source": [
        "with open('/content/drive/MyDrive/MTS_RecSys/final_result_CR_20.dill', 'wb') as f:\n",
        "    dill.dump(final_result_CR_20, f)"
      ],
      "metadata": {
        "id": "LAEGBHYdjObg"
      },
      "execution_count": 102,
      "outputs": []
    },
    {
      "cell_type": "markdown",
      "source": [
        "#### TF_IDF_15"
      ],
      "metadata": {
        "id": "uQDG1jrolfi6"
      }
    },
    {
      "cell_type": "code",
      "source": [
        "mapper = generate_implicit_recs_mapper(\n",
        "    TFIDF_15, \n",
        "    N=N,\n",
        "    users_mapping=users_mapping,\n",
        "    users_inv_mapping=users_inv_mapping\n",
        ")"
      ],
      "metadata": {
        "id": "QErQkz16lasu"
      },
      "execution_count": 103,
      "outputs": []
    },
    {
      "cell_type": "code",
      "source": [
        "recs = pd.DataFrame({\n",
        "    'user_id': test['user_id'].unique()\n",
        "})\n",
        "\n",
        "recs['similar_user_id'], recs['similarity'] = zip(*recs['user_id'].map(mapper))\n",
        "recs.head()"
      ],
      "metadata": {
        "colab": {
          "base_uri": "https://localhost:8080/",
          "height": 337
        },
        "outputId": "95f32d9b-d5e9-44cb-8efd-62c7c4ba76ca",
        "id": "IBig3X_glasu"
      },
      "execution_count": 104,
      "outputs": [
        {
          "output_type": "execute_result",
          "data": {
            "text/plain": [
              "   user_id  \\\n",
              "0  1016458   \n",
              "1    68478   \n",
              "2   580093   \n",
              "3  1072552   \n",
              "4   910002   \n",
              "\n",
              "                                                                     similar_user_id  \\\n",
              "0  [1016458, 542443, 983874, 263122, 1087135, 299198, 416417, 107556, 980255, 55914]   \n",
              "1    [68478, 620526, 695810, 20161, 412019, 879494, 589849, 988152, 691867, 1059229]   \n",
              "2    [580093, 805265, 980409, 939663, 708439, 736490, 943049, 86046, 522603, 521456]   \n",
              "3   [1072552, 162216, 613583, 896269, 449057, 246357, 992547, 49193, 503934, 639316]   \n",
              "4    [910002, 301452, 454746, 827646, 331461, 105556, 1048599, 854405, 15649, 25643]   \n",
              "\n",
              "                                                                                                                                                                                                similarity  \n",
              "0  [0.9999999999999997, 0.30795056944195065, 0.2892556288628258, 0.2865786318030271, 0.2840258603538891, 0.28275509313396374, 0.2814949055823506, 0.2806520562356141, 0.27569737451648724, 0.2703263699...  \n",
              "1  [0.9999999999999998, 0.6879105673985805, 0.6879105673985805, 0.6879105673985805, 0.6879105673985805, 0.6875684365910972, 0.682527643497476, 0.6810886673793897, 0.6649011119333184, 0.6500976114158797]  \n",
              "2                  [1.0, 0.7937798109102163, 0.788744014339269, 0.7666797469287155, 0.7631606741401563, 0.750189495128039, 0.7501195711404515, 0.7474499190666032, 0.7473880080188159, 0.7471532852053147]  \n",
              "3  [1.0000000000000002, 0.45699036174245683, 0.45472129140483386, 0.4278037012555298, 0.42654520594852924, 0.42378450328959727, 0.41383525556374756, 0.411008423568197, 0.4078683617582729, 0.407690880...  \n",
              "4  [0.9999999999999997, 0.5504875268884805, 0.5503635062149785, 0.5497829629361086, 0.5497829629361086, 0.5497829629361086, 0.5497829629361086, 0.5497829629361086, 0.5497829629361086, 0.5497829629361...  "
            ],
            "text/html": [
              "\n",
              "  <div id=\"df-b9d73f28-f1e0-4408-8e09-e033919916aa\">\n",
              "    <div class=\"colab-df-container\">\n",
              "      <div>\n",
              "<style scoped>\n",
              "    .dataframe tbody tr th:only-of-type {\n",
              "        vertical-align: middle;\n",
              "    }\n",
              "\n",
              "    .dataframe tbody tr th {\n",
              "        vertical-align: top;\n",
              "    }\n",
              "\n",
              "    .dataframe thead th {\n",
              "        text-align: right;\n",
              "    }\n",
              "</style>\n",
              "<table border=\"1\" class=\"dataframe\">\n",
              "  <thead>\n",
              "    <tr style=\"text-align: right;\">\n",
              "      <th></th>\n",
              "      <th>user_id</th>\n",
              "      <th>similar_user_id</th>\n",
              "      <th>similarity</th>\n",
              "    </tr>\n",
              "  </thead>\n",
              "  <tbody>\n",
              "    <tr>\n",
              "      <th>0</th>\n",
              "      <td>1016458</td>\n",
              "      <td>[1016458, 542443, 983874, 263122, 1087135, 299198, 416417, 107556, 980255, 55914]</td>\n",
              "      <td>[0.9999999999999997, 0.30795056944195065, 0.2892556288628258, 0.2865786318030271, 0.2840258603538891, 0.28275509313396374, 0.2814949055823506, 0.2806520562356141, 0.27569737451648724, 0.2703263699...</td>\n",
              "    </tr>\n",
              "    <tr>\n",
              "      <th>1</th>\n",
              "      <td>68478</td>\n",
              "      <td>[68478, 620526, 695810, 20161, 412019, 879494, 589849, 988152, 691867, 1059229]</td>\n",
              "      <td>[0.9999999999999998, 0.6879105673985805, 0.6879105673985805, 0.6879105673985805, 0.6879105673985805, 0.6875684365910972, 0.682527643497476, 0.6810886673793897, 0.6649011119333184, 0.6500976114158797]</td>\n",
              "    </tr>\n",
              "    <tr>\n",
              "      <th>2</th>\n",
              "      <td>580093</td>\n",
              "      <td>[580093, 805265, 980409, 939663, 708439, 736490, 943049, 86046, 522603, 521456]</td>\n",
              "      <td>[1.0, 0.7937798109102163, 0.788744014339269, 0.7666797469287155, 0.7631606741401563, 0.750189495128039, 0.7501195711404515, 0.7474499190666032, 0.7473880080188159, 0.7471532852053147]</td>\n",
              "    </tr>\n",
              "    <tr>\n",
              "      <th>3</th>\n",
              "      <td>1072552</td>\n",
              "      <td>[1072552, 162216, 613583, 896269, 449057, 246357, 992547, 49193, 503934, 639316]</td>\n",
              "      <td>[1.0000000000000002, 0.45699036174245683, 0.45472129140483386, 0.4278037012555298, 0.42654520594852924, 0.42378450328959727, 0.41383525556374756, 0.411008423568197, 0.4078683617582729, 0.407690880...</td>\n",
              "    </tr>\n",
              "    <tr>\n",
              "      <th>4</th>\n",
              "      <td>910002</td>\n",
              "      <td>[910002, 301452, 454746, 827646, 331461, 105556, 1048599, 854405, 15649, 25643]</td>\n",
              "      <td>[0.9999999999999997, 0.5504875268884805, 0.5503635062149785, 0.5497829629361086, 0.5497829629361086, 0.5497829629361086, 0.5497829629361086, 0.5497829629361086, 0.5497829629361086, 0.5497829629361...</td>\n",
              "    </tr>\n",
              "  </tbody>\n",
              "</table>\n",
              "</div>\n",
              "      <button class=\"colab-df-convert\" onclick=\"convertToInteractive('df-b9d73f28-f1e0-4408-8e09-e033919916aa')\"\n",
              "              title=\"Convert this dataframe to an interactive table.\"\n",
              "              style=\"display:none;\">\n",
              "        \n",
              "  <svg xmlns=\"http://www.w3.org/2000/svg\" height=\"24px\"viewBox=\"0 0 24 24\"\n",
              "       width=\"24px\">\n",
              "    <path d=\"M0 0h24v24H0V0z\" fill=\"none\"/>\n",
              "    <path d=\"M18.56 5.44l.94 2.06.94-2.06 2.06-.94-2.06-.94-.94-2.06-.94 2.06-2.06.94zm-11 1L8.5 8.5l.94-2.06 2.06-.94-2.06-.94L8.5 2.5l-.94 2.06-2.06.94zm10 10l.94 2.06.94-2.06 2.06-.94-2.06-.94-.94-2.06-.94 2.06-2.06.94z\"/><path d=\"M17.41 7.96l-1.37-1.37c-.4-.4-.92-.59-1.43-.59-.52 0-1.04.2-1.43.59L10.3 9.45l-7.72 7.72c-.78.78-.78 2.05 0 2.83L4 21.41c.39.39.9.59 1.41.59.51 0 1.02-.2 1.41-.59l7.78-7.78 2.81-2.81c.8-.78.8-2.07 0-2.86zM5.41 20L4 18.59l7.72-7.72 1.47 1.35L5.41 20z\"/>\n",
              "  </svg>\n",
              "      </button>\n",
              "      \n",
              "  <style>\n",
              "    .colab-df-container {\n",
              "      display:flex;\n",
              "      flex-wrap:wrap;\n",
              "      gap: 12px;\n",
              "    }\n",
              "\n",
              "    .colab-df-convert {\n",
              "      background-color: #E8F0FE;\n",
              "      border: none;\n",
              "      border-radius: 50%;\n",
              "      cursor: pointer;\n",
              "      display: none;\n",
              "      fill: #1967D2;\n",
              "      height: 32px;\n",
              "      padding: 0 0 0 0;\n",
              "      width: 32px;\n",
              "    }\n",
              "\n",
              "    .colab-df-convert:hover {\n",
              "      background-color: #E2EBFA;\n",
              "      box-shadow: 0px 1px 2px rgba(60, 64, 67, 0.3), 0px 1px 3px 1px rgba(60, 64, 67, 0.15);\n",
              "      fill: #174EA6;\n",
              "    }\n",
              "\n",
              "    [theme=dark] .colab-df-convert {\n",
              "      background-color: #3B4455;\n",
              "      fill: #D2E3FC;\n",
              "    }\n",
              "\n",
              "    [theme=dark] .colab-df-convert:hover {\n",
              "      background-color: #434B5C;\n",
              "      box-shadow: 0px 1px 3px 1px rgba(0, 0, 0, 0.15);\n",
              "      filter: drop-shadow(0px 1px 2px rgba(0, 0, 0, 0.3));\n",
              "      fill: #FFFFFF;\n",
              "    }\n",
              "  </style>\n",
              "\n",
              "      <script>\n",
              "        const buttonEl =\n",
              "          document.querySelector('#df-b9d73f28-f1e0-4408-8e09-e033919916aa button.colab-df-convert');\n",
              "        buttonEl.style.display =\n",
              "          google.colab.kernel.accessAllowed ? 'block' : 'none';\n",
              "\n",
              "        async function convertToInteractive(key) {\n",
              "          const element = document.querySelector('#df-b9d73f28-f1e0-4408-8e09-e033919916aa');\n",
              "          const dataTable =\n",
              "            await google.colab.kernel.invokeFunction('convertToInteractive',\n",
              "                                                     [key], {});\n",
              "          if (!dataTable) return;\n",
              "\n",
              "          const docLinkHtml = 'Like what you see? Visit the ' +\n",
              "            '<a target=\"_blank\" href=https://colab.research.google.com/notebooks/data_table.ipynb>data table notebook</a>'\n",
              "            + ' to learn more about interactive tables.';\n",
              "          element.innerHTML = '';\n",
              "          dataTable['output_type'] = 'display_data';\n",
              "          await google.colab.output.renderOutput(dataTable, element);\n",
              "          const docLink = document.createElement('div');\n",
              "          docLink.innerHTML = docLinkHtml;\n",
              "          element.appendChild(docLink);\n",
              "        }\n",
              "      </script>\n",
              "    </div>\n",
              "  </div>\n",
              "  "
            ]
          },
          "metadata": {},
          "execution_count": 104
        }
      ]
    },
    {
      "cell_type": "code",
      "source": [
        "# Exploding lists to get vertical representation\n",
        "recs = recs.set_index('user_id').apply(pd.Series.explode).reset_index()"
      ],
      "metadata": {
        "id": "7_2IDbVClasv"
      },
      "execution_count": 105,
      "outputs": []
    },
    {
      "cell_type": "code",
      "source": [
        "# Deleting recommendations of itself \n",
        "recs = recs[recs.user_id!=recs.similar_user_id]"
      ],
      "metadata": {
        "id": "TD7YA2uolasv"
      },
      "execution_count": 106,
      "outputs": []
    },
    {
      "cell_type": "code",
      "source": [
        "watched = train.groupby('user_id').agg({'item_id': list})\n",
        "watched.head()"
      ],
      "metadata": {
        "colab": {
          "base_uri": "https://localhost:8080/",
          "height": 238
        },
        "outputId": "e2dfb5a7-e231-48bf-f738-0d20c379114b",
        "id": "1zb_aLcClasv"
      },
      "execution_count": 107,
      "outputs": [
        {
          "output_type": "execute_result",
          "data": {
            "text/plain": [
              "                                                                                                                                                                                                         item_id\n",
              "user_id                                                                                                                                                                                                         \n",
              "0                                                                                                                                                                        [7102, 14359, 15297, 6006, 9728, 12192]\n",
              "2        [7571, 3541, 15266, 13867, 12841, 10770, 4475, 9506, 8936, 11018, 11577, 561, 7106, 6774, 16029, 8482, 6825, 3594, 16166, 5819, 2954, 383, 11689, 12449, 2025, 6155, 3628, 334, 4024, 7210, 11539, 1...\n",
              "3                                                                                       [9728, 16406, 10440, 3475, 4151, 1418, 2220, 3734, 13789, 8581, 13849, 9550, 10464, 4880, 4436, 8801, 11790, 2657, 8252]\n",
              "4                                                                                                                                                                                                   [4700, 6317]\n",
              "5                                                                                                     [14397, 6445, 11437, 5651, 6167, 12466, 632, 8450, 2685, 7825, 3145, 7043, 4179, 15890, 5115, 4719, 10848]"
            ],
            "text/html": [
              "\n",
              "  <div id=\"df-cef562ac-1631-462f-988e-39903274d49c\">\n",
              "    <div class=\"colab-df-container\">\n",
              "      <div>\n",
              "<style scoped>\n",
              "    .dataframe tbody tr th:only-of-type {\n",
              "        vertical-align: middle;\n",
              "    }\n",
              "\n",
              "    .dataframe tbody tr th {\n",
              "        vertical-align: top;\n",
              "    }\n",
              "\n",
              "    .dataframe thead th {\n",
              "        text-align: right;\n",
              "    }\n",
              "</style>\n",
              "<table border=\"1\" class=\"dataframe\">\n",
              "  <thead>\n",
              "    <tr style=\"text-align: right;\">\n",
              "      <th></th>\n",
              "      <th>item_id</th>\n",
              "    </tr>\n",
              "    <tr>\n",
              "      <th>user_id</th>\n",
              "      <th></th>\n",
              "    </tr>\n",
              "  </thead>\n",
              "  <tbody>\n",
              "    <tr>\n",
              "      <th>0</th>\n",
              "      <td>[7102, 14359, 15297, 6006, 9728, 12192]</td>\n",
              "    </tr>\n",
              "    <tr>\n",
              "      <th>2</th>\n",
              "      <td>[7571, 3541, 15266, 13867, 12841, 10770, 4475, 9506, 8936, 11018, 11577, 561, 7106, 6774, 16029, 8482, 6825, 3594, 16166, 5819, 2954, 383, 11689, 12449, 2025, 6155, 3628, 334, 4024, 7210, 11539, 1...</td>\n",
              "    </tr>\n",
              "    <tr>\n",
              "      <th>3</th>\n",
              "      <td>[9728, 16406, 10440, 3475, 4151, 1418, 2220, 3734, 13789, 8581, 13849, 9550, 10464, 4880, 4436, 8801, 11790, 2657, 8252]</td>\n",
              "    </tr>\n",
              "    <tr>\n",
              "      <th>4</th>\n",
              "      <td>[4700, 6317]</td>\n",
              "    </tr>\n",
              "    <tr>\n",
              "      <th>5</th>\n",
              "      <td>[14397, 6445, 11437, 5651, 6167, 12466, 632, 8450, 2685, 7825, 3145, 7043, 4179, 15890, 5115, 4719, 10848]</td>\n",
              "    </tr>\n",
              "  </tbody>\n",
              "</table>\n",
              "</div>\n",
              "      <button class=\"colab-df-convert\" onclick=\"convertToInteractive('df-cef562ac-1631-462f-988e-39903274d49c')\"\n",
              "              title=\"Convert this dataframe to an interactive table.\"\n",
              "              style=\"display:none;\">\n",
              "        \n",
              "  <svg xmlns=\"http://www.w3.org/2000/svg\" height=\"24px\"viewBox=\"0 0 24 24\"\n",
              "       width=\"24px\">\n",
              "    <path d=\"M0 0h24v24H0V0z\" fill=\"none\"/>\n",
              "    <path d=\"M18.56 5.44l.94 2.06.94-2.06 2.06-.94-2.06-.94-.94-2.06-.94 2.06-2.06.94zm-11 1L8.5 8.5l.94-2.06 2.06-.94-2.06-.94L8.5 2.5l-.94 2.06-2.06.94zm10 10l.94 2.06.94-2.06 2.06-.94-2.06-.94-.94-2.06-.94 2.06-2.06.94z\"/><path d=\"M17.41 7.96l-1.37-1.37c-.4-.4-.92-.59-1.43-.59-.52 0-1.04.2-1.43.59L10.3 9.45l-7.72 7.72c-.78.78-.78 2.05 0 2.83L4 21.41c.39.39.9.59 1.41.59.51 0 1.02-.2 1.41-.59l7.78-7.78 2.81-2.81c.8-.78.8-2.07 0-2.86zM5.41 20L4 18.59l7.72-7.72 1.47 1.35L5.41 20z\"/>\n",
              "  </svg>\n",
              "      </button>\n",
              "      \n",
              "  <style>\n",
              "    .colab-df-container {\n",
              "      display:flex;\n",
              "      flex-wrap:wrap;\n",
              "      gap: 12px;\n",
              "    }\n",
              "\n",
              "    .colab-df-convert {\n",
              "      background-color: #E8F0FE;\n",
              "      border: none;\n",
              "      border-radius: 50%;\n",
              "      cursor: pointer;\n",
              "      display: none;\n",
              "      fill: #1967D2;\n",
              "      height: 32px;\n",
              "      padding: 0 0 0 0;\n",
              "      width: 32px;\n",
              "    }\n",
              "\n",
              "    .colab-df-convert:hover {\n",
              "      background-color: #E2EBFA;\n",
              "      box-shadow: 0px 1px 2px rgba(60, 64, 67, 0.3), 0px 1px 3px 1px rgba(60, 64, 67, 0.15);\n",
              "      fill: #174EA6;\n",
              "    }\n",
              "\n",
              "    [theme=dark] .colab-df-convert {\n",
              "      background-color: #3B4455;\n",
              "      fill: #D2E3FC;\n",
              "    }\n",
              "\n",
              "    [theme=dark] .colab-df-convert:hover {\n",
              "      background-color: #434B5C;\n",
              "      box-shadow: 0px 1px 3px 1px rgba(0, 0, 0, 0.15);\n",
              "      filter: drop-shadow(0px 1px 2px rgba(0, 0, 0, 0.3));\n",
              "      fill: #FFFFFF;\n",
              "    }\n",
              "  </style>\n",
              "\n",
              "      <script>\n",
              "        const buttonEl =\n",
              "          document.querySelector('#df-cef562ac-1631-462f-988e-39903274d49c button.colab-df-convert');\n",
              "        buttonEl.style.display =\n",
              "          google.colab.kernel.accessAllowed ? 'block' : 'none';\n",
              "\n",
              "        async function convertToInteractive(key) {\n",
              "          const element = document.querySelector('#df-cef562ac-1631-462f-988e-39903274d49c');\n",
              "          const dataTable =\n",
              "            await google.colab.kernel.invokeFunction('convertToInteractive',\n",
              "                                                     [key], {});\n",
              "          if (!dataTable) return;\n",
              "\n",
              "          const docLinkHtml = 'Like what you see? Visit the ' +\n",
              "            '<a target=\"_blank\" href=https://colab.research.google.com/notebooks/data_table.ipynb>data table notebook</a>'\n",
              "            + ' to learn more about interactive tables.';\n",
              "          element.innerHTML = '';\n",
              "          dataTable['output_type'] = 'display_data';\n",
              "          await google.colab.output.renderOutput(dataTable, element);\n",
              "          const docLink = document.createElement('div');\n",
              "          docLink.innerHTML = docLinkHtml;\n",
              "          element.appendChild(docLink);\n",
              "        }\n",
              "      </script>\n",
              "    </div>\n",
              "  </div>\n",
              "  "
            ]
          },
          "metadata": {},
          "execution_count": 107
        }
      ]
    },
    {
      "cell_type": "code",
      "source": [
        "# Joining watched items\n",
        "recs = recs.merge(watched, left_on=['similar_user_id'], right_on=['user_id'], how='left')\n",
        "recs = recs.explode('item_id')"
      ],
      "metadata": {
        "id": "xmjvVC9blasv"
      },
      "execution_count": 108,
      "outputs": []
    },
    {
      "cell_type": "code",
      "source": [
        "# Dropping duplicates pairs user_id-item_id and keeping rows with the highest similiarity\n",
        "recs = recs.sort_values(['user_id', 'similarity'], ascending=False)"
      ],
      "metadata": {
        "id": "PsHGhC1Wlasv"
      },
      "execution_count": 109,
      "outputs": []
    },
    {
      "cell_type": "code",
      "source": [
        "recs = recs.drop_duplicates(['user_id', 'item_id'], keep='first')"
      ],
      "metadata": {
        "id": "-gN4iq0alasv"
      },
      "execution_count": 110,
      "outputs": []
    },
    {
      "cell_type": "code",
      "source": [
        "# Making rank\n",
        "recs['rank'] = recs.groupby('user_id').cumcount() + 1 "
      ],
      "metadata": {
        "id": "tH_6-Fbxlasv"
      },
      "execution_count": 111,
      "outputs": []
    },
    {
      "cell_type": "code",
      "source": [
        "# Decreasing rank to N\n",
        "recs = recs[recs['rank'] <=N]"
      ],
      "metadata": {
        "id": "UsgrD4tflasw"
      },
      "execution_count": 112,
      "outputs": []
    },
    {
      "cell_type": "code",
      "source": [
        "# We have users with less than N recommendations\n",
        "s = recs['user_id'].value_counts()\n",
        "s[s<N]"
      ],
      "metadata": {
        "colab": {
          "base_uri": "https://localhost:8080/"
        },
        "outputId": "6a33642a-8978-4fba-acd2-87ade83cac56",
        "id": "9TXVaUAVlasw"
      },
      "execution_count": 113,
      "outputs": [
        {
          "output_type": "execute_result",
          "data": {
            "text/plain": [
              "556008    9\n",
              "365738    9\n",
              "137343    9\n",
              "553069    9\n",
              "231048    9\n",
              "         ..\n",
              "389271    1\n",
              "389317    1\n",
              "389370    1\n",
              "389378    1\n",
              "387893    1\n",
              "Name: user_id, Length: 58932, dtype: int64"
            ]
          },
          "metadata": {},
          "execution_count": 113
        }
      ]
    },
    {
      "cell_type": "code",
      "source": [
        "recs[recs['user_id'].isin(s[s<N].index)]"
      ],
      "metadata": {
        "colab": {
          "base_uri": "https://localhost:8080/",
          "height": 424
        },
        "outputId": "8b368aa8-fe2b-4e51-e1c4-f4d580220fcf",
        "id": "IFqsj5yklasw"
      },
      "execution_count": 114,
      "outputs": [
        {
          "output_type": "execute_result",
          "data": {
            "text/plain": [
              "        user_id similar_user_id similarity item_id  rank\n",
              "99494   1097512          984690   0.999999   10440     1\n",
              "99494   1097512          984690   0.999999    3734     2\n",
              "603954  1097479          392250   0.849606    3734     1\n",
              "603954  1097479          392250   0.849606   10770     2\n",
              "603955  1097479          185082   0.838868   13865     3\n",
              "...         ...             ...        ...     ...   ...\n",
              "849395       98         1002728   0.522362   10724     3\n",
              "849396       98          978382   0.489714    4946     4\n",
              "849396       98          978382   0.489714    4740     5\n",
              "849397       98          243558   0.488654    2909     6\n",
              "638421       14          867399        1.0   10440     1\n",
              "\n",
              "[198518 rows x 5 columns]"
            ],
            "text/html": [
              "\n",
              "  <div id=\"df-17901367-30ac-40d9-86af-ea6d9dcbd585\">\n",
              "    <div class=\"colab-df-container\">\n",
              "      <div>\n",
              "<style scoped>\n",
              "    .dataframe tbody tr th:only-of-type {\n",
              "        vertical-align: middle;\n",
              "    }\n",
              "\n",
              "    .dataframe tbody tr th {\n",
              "        vertical-align: top;\n",
              "    }\n",
              "\n",
              "    .dataframe thead th {\n",
              "        text-align: right;\n",
              "    }\n",
              "</style>\n",
              "<table border=\"1\" class=\"dataframe\">\n",
              "  <thead>\n",
              "    <tr style=\"text-align: right;\">\n",
              "      <th></th>\n",
              "      <th>user_id</th>\n",
              "      <th>similar_user_id</th>\n",
              "      <th>similarity</th>\n",
              "      <th>item_id</th>\n",
              "      <th>rank</th>\n",
              "    </tr>\n",
              "  </thead>\n",
              "  <tbody>\n",
              "    <tr>\n",
              "      <th>99494</th>\n",
              "      <td>1097512</td>\n",
              "      <td>984690</td>\n",
              "      <td>0.999999</td>\n",
              "      <td>10440</td>\n",
              "      <td>1</td>\n",
              "    </tr>\n",
              "    <tr>\n",
              "      <th>99494</th>\n",
              "      <td>1097512</td>\n",
              "      <td>984690</td>\n",
              "      <td>0.999999</td>\n",
              "      <td>3734</td>\n",
              "      <td>2</td>\n",
              "    </tr>\n",
              "    <tr>\n",
              "      <th>603954</th>\n",
              "      <td>1097479</td>\n",
              "      <td>392250</td>\n",
              "      <td>0.849606</td>\n",
              "      <td>3734</td>\n",
              "      <td>1</td>\n",
              "    </tr>\n",
              "    <tr>\n",
              "      <th>603954</th>\n",
              "      <td>1097479</td>\n",
              "      <td>392250</td>\n",
              "      <td>0.849606</td>\n",
              "      <td>10770</td>\n",
              "      <td>2</td>\n",
              "    </tr>\n",
              "    <tr>\n",
              "      <th>603955</th>\n",
              "      <td>1097479</td>\n",
              "      <td>185082</td>\n",
              "      <td>0.838868</td>\n",
              "      <td>13865</td>\n",
              "      <td>3</td>\n",
              "    </tr>\n",
              "    <tr>\n",
              "      <th>...</th>\n",
              "      <td>...</td>\n",
              "      <td>...</td>\n",
              "      <td>...</td>\n",
              "      <td>...</td>\n",
              "      <td>...</td>\n",
              "    </tr>\n",
              "    <tr>\n",
              "      <th>849395</th>\n",
              "      <td>98</td>\n",
              "      <td>1002728</td>\n",
              "      <td>0.522362</td>\n",
              "      <td>10724</td>\n",
              "      <td>3</td>\n",
              "    </tr>\n",
              "    <tr>\n",
              "      <th>849396</th>\n",
              "      <td>98</td>\n",
              "      <td>978382</td>\n",
              "      <td>0.489714</td>\n",
              "      <td>4946</td>\n",
              "      <td>4</td>\n",
              "    </tr>\n",
              "    <tr>\n",
              "      <th>849396</th>\n",
              "      <td>98</td>\n",
              "      <td>978382</td>\n",
              "      <td>0.489714</td>\n",
              "      <td>4740</td>\n",
              "      <td>5</td>\n",
              "    </tr>\n",
              "    <tr>\n",
              "      <th>849397</th>\n",
              "      <td>98</td>\n",
              "      <td>243558</td>\n",
              "      <td>0.488654</td>\n",
              "      <td>2909</td>\n",
              "      <td>6</td>\n",
              "    </tr>\n",
              "    <tr>\n",
              "      <th>638421</th>\n",
              "      <td>14</td>\n",
              "      <td>867399</td>\n",
              "      <td>1.0</td>\n",
              "      <td>10440</td>\n",
              "      <td>1</td>\n",
              "    </tr>\n",
              "  </tbody>\n",
              "</table>\n",
              "<p>198518 rows × 5 columns</p>\n",
              "</div>\n",
              "      <button class=\"colab-df-convert\" onclick=\"convertToInteractive('df-17901367-30ac-40d9-86af-ea6d9dcbd585')\"\n",
              "              title=\"Convert this dataframe to an interactive table.\"\n",
              "              style=\"display:none;\">\n",
              "        \n",
              "  <svg xmlns=\"http://www.w3.org/2000/svg\" height=\"24px\"viewBox=\"0 0 24 24\"\n",
              "       width=\"24px\">\n",
              "    <path d=\"M0 0h24v24H0V0z\" fill=\"none\"/>\n",
              "    <path d=\"M18.56 5.44l.94 2.06.94-2.06 2.06-.94-2.06-.94-.94-2.06-.94 2.06-2.06.94zm-11 1L8.5 8.5l.94-2.06 2.06-.94-2.06-.94L8.5 2.5l-.94 2.06-2.06.94zm10 10l.94 2.06.94-2.06 2.06-.94-2.06-.94-.94-2.06-.94 2.06-2.06.94z\"/><path d=\"M17.41 7.96l-1.37-1.37c-.4-.4-.92-.59-1.43-.59-.52 0-1.04.2-1.43.59L10.3 9.45l-7.72 7.72c-.78.78-.78 2.05 0 2.83L4 21.41c.39.39.9.59 1.41.59.51 0 1.02-.2 1.41-.59l7.78-7.78 2.81-2.81c.8-.78.8-2.07 0-2.86zM5.41 20L4 18.59l7.72-7.72 1.47 1.35L5.41 20z\"/>\n",
              "  </svg>\n",
              "      </button>\n",
              "      \n",
              "  <style>\n",
              "    .colab-df-container {\n",
              "      display:flex;\n",
              "      flex-wrap:wrap;\n",
              "      gap: 12px;\n",
              "    }\n",
              "\n",
              "    .colab-df-convert {\n",
              "      background-color: #E8F0FE;\n",
              "      border: none;\n",
              "      border-radius: 50%;\n",
              "      cursor: pointer;\n",
              "      display: none;\n",
              "      fill: #1967D2;\n",
              "      height: 32px;\n",
              "      padding: 0 0 0 0;\n",
              "      width: 32px;\n",
              "    }\n",
              "\n",
              "    .colab-df-convert:hover {\n",
              "      background-color: #E2EBFA;\n",
              "      box-shadow: 0px 1px 2px rgba(60, 64, 67, 0.3), 0px 1px 3px 1px rgba(60, 64, 67, 0.15);\n",
              "      fill: #174EA6;\n",
              "    }\n",
              "\n",
              "    [theme=dark] .colab-df-convert {\n",
              "      background-color: #3B4455;\n",
              "      fill: #D2E3FC;\n",
              "    }\n",
              "\n",
              "    [theme=dark] .colab-df-convert:hover {\n",
              "      background-color: #434B5C;\n",
              "      box-shadow: 0px 1px 3px 1px rgba(0, 0, 0, 0.15);\n",
              "      filter: drop-shadow(0px 1px 2px rgba(0, 0, 0, 0.3));\n",
              "      fill: #FFFFFF;\n",
              "    }\n",
              "  </style>\n",
              "\n",
              "      <script>\n",
              "        const buttonEl =\n",
              "          document.querySelector('#df-17901367-30ac-40d9-86af-ea6d9dcbd585 button.colab-df-convert');\n",
              "        buttonEl.style.display =\n",
              "          google.colab.kernel.accessAllowed ? 'block' : 'none';\n",
              "\n",
              "        async function convertToInteractive(key) {\n",
              "          const element = document.querySelector('#df-17901367-30ac-40d9-86af-ea6d9dcbd585');\n",
              "          const dataTable =\n",
              "            await google.colab.kernel.invokeFunction('convertToInteractive',\n",
              "                                                     [key], {});\n",
              "          if (!dataTable) return;\n",
              "\n",
              "          const docLinkHtml = 'Like what you see? Visit the ' +\n",
              "            '<a target=\"_blank\" href=https://colab.research.google.com/notebooks/data_table.ipynb>data table notebook</a>'\n",
              "            + ' to learn more about interactive tables.';\n",
              "          element.innerHTML = '';\n",
              "          dataTable['output_type'] = 'display_data';\n",
              "          await google.colab.output.renderOutput(dataTable, element);\n",
              "          const docLink = document.createElement('div');\n",
              "          docLink.innerHTML = docLinkHtml;\n",
              "          element.appendChild(docLink);\n",
              "        }\n",
              "      </script>\n",
              "    </div>\n",
              "  </div>\n",
              "  "
            ]
          },
          "metadata": {},
          "execution_count": 114
        }
      ]
    },
    {
      "cell_type": "code",
      "source": [
        "not_enough_dict = recs[recs['user_id'].isin(s[s<N].index)].groupby('user_id')['item_id'].agg(lambda row: list(row)).to_dict()"
      ],
      "metadata": {
        "id": "ni3--3B9lasw"
      },
      "execution_count": 115,
      "outputs": []
    },
    {
      "cell_type": "code",
      "source": [
        "d = {\"user_id\":[], \"item_id\": [], \"rank\": []}\n",
        "# for user_id, max_rank in not_enough_dict.items():\n",
        "for user_id, item_id_list in not_enough_dict.items():\n",
        "    max_rank = len(item_id_list)\n",
        "    # drop popular items, that is already in recommendation list\n",
        "    corrected_popular_list = [item for item in popular_model_result if item not in item_id_list]\n",
        "    for i in range(1, N - max_rank + 1):\n",
        "        d['user_id'].append(user_id)\n",
        "        d['item_id'].append(corrected_popular_list[i])\n",
        "        d['rank'].append(max_rank+i)"
      ],
      "metadata": {
        "id": "uHAuLgstlasw"
      },
      "execution_count": 116,
      "outputs": []
    },
    {
      "cell_type": "code",
      "source": [
        "filled_with_popular_TFIDF_15 = pd.DataFrame.from_dict(d)"
      ],
      "metadata": {
        "id": "Vrwot1QYlasw"
      },
      "execution_count": 117,
      "outputs": []
    },
    {
      "cell_type": "code",
      "source": [
        "final_result_TFIDF_15 = pd.concat([recs,filled_with_popular_TFIDF_15])"
      ],
      "metadata": {
        "id": "Qt622PlUlasx"
      },
      "execution_count": 118,
      "outputs": []
    },
    {
      "cell_type": "code",
      "source": [
        "with open('/content/drive/MyDrive/MTS_RecSys/final_result_TFIDF_15.dill', 'wb') as f:\n",
        "    dill.dump(final_result_TFIDF_15, f)"
      ],
      "metadata": {
        "id": "sJWcUHCRlasx"
      },
      "execution_count": 119,
      "outputs": []
    },
    {
      "cell_type": "markdown",
      "source": [
        "##2.3. Blending"
      ],
      "metadata": {
        "id": "qNFXmI7qUh54"
      }
    },
    {
      "cell_type": "code",
      "source": [
        "with open('/content/drive/MyDrive/MTS_RecSys/final_result_CR_20.dill', 'rb') as f:\n",
        "    final_result_CR_20 = dill.load(f)"
      ],
      "metadata": {
        "id": "m4avUMpTU39R"
      },
      "execution_count": 120,
      "outputs": []
    },
    {
      "cell_type": "code",
      "source": [
        "with open('/content/drive/MyDrive/MTS_RecSys/final_result_TFIDF_15.dill', 'rb') as f:\n",
        "    final_result_TFIDF_15 = dill.load(f)"
      ],
      "metadata": {
        "id": "_gCHTVgBUneh"
      },
      "execution_count": 121,
      "outputs": []
    },
    {
      "cell_type": "code",
      "source": [
        "model1_result = final_result_tfidf[['user_id', 'item_id', 'rank']]\n",
        "model2_result = final_result_userknn[['user_id', 'item_id', 'rank']]"
      ],
      "metadata": {
        "id": "HyDEwF3CW0Cx"
      },
      "execution_count": 122,
      "outputs": []
    },
    {
      "cell_type": "code",
      "source": [
        "popular_model_full_result = popular_model.recommend(\n",
        "    dataset_train.user_id_map.external_ids[:1], \n",
        "    dataset=dataset_train, \n",
        "    k=train.item_id.nunique(), \n",
        "    filter_viewed=False,\n",
        ")[['item_id','rank']]"
      ],
      "metadata": {
        "id": "qve8JBnoZPYI"
      },
      "execution_count": 123,
      "outputs": []
    },
    {
      "cell_type": "code",
      "source": [
        "merged_results = pd.concat([model1_result, model2_result])"
      ],
      "metadata": {
        "id": "b5hSz7V3flji"
      },
      "execution_count": 124,
      "outputs": []
    },
    {
      "cell_type": "code",
      "source": [
        "from collections import Counter\n",
        "\n",
        "# We will put items in the intersection on the top, \n",
        "# the rest of the items we will sort by popularity\n",
        "def blend_items(row, N):\n",
        "    item_list = list(row)\n",
        "    cnt = Counter(item_list)\n",
        "    top_items = [k for k, v in cnt.items() if v > 1]\n",
        "    other_items = [k for k, v in cnt.items() if v == 1]\n",
        "    items_to_add = popular_model_full_result[popular_model_full_result['item_id'].isin(other_items)]['item_id'].to_list()\n",
        "    result = top_items + items_to_add[:N - len(top_items)] # to get N recommendations total\n",
        "    return result\n",
        "    "
      ],
      "metadata": {
        "id": "rRnakscZhlS_"
      },
      "execution_count": 125,
      "outputs": []
    },
    {
      "cell_type": "code",
      "source": [
        "%%time\n",
        "N = 10\n",
        "resorted_results = merged_results.groupby('user_id')['item_id'].agg(lambda row: blend_items(row, N))"
      ],
      "metadata": {
        "colab": {
          "base_uri": "https://localhost:8080/"
        },
        "id": "Vuo-wJQ0lRLI",
        "outputId": "4bd3befd-6216-4116-967f-b5fd2f6b16bf"
      },
      "execution_count": 126,
      "outputs": [
        {
          "output_type": "stream",
          "name": "stdout",
          "text": [
            "CPU times: user 54.5 s, sys: 157 ms, total: 54.7 s\n",
            "Wall time: 55.7 s\n"
          ]
        }
      ]
    },
    {
      "cell_type": "code",
      "source": [
        "resorted_results"
      ],
      "metadata": {
        "colab": {
          "base_uri": "https://localhost:8080/"
        },
        "id": "qmB_nV5SuWb1",
        "outputId": "895efebf-5f7f-4eca-d0e6-8011237562e4"
      },
      "execution_count": 127,
      "outputs": [
        {
          "output_type": "execute_result",
          "data": {
            "text/plain": [
              "user_id\n",
              "3           [10440, 15297, 9728, 4151, 3734, 2657, 4880, 9996, 11640, 14461]\n",
              "14             [10440, 13865, 9728, 4151, 3734, 2657, 4880, 142, 6809, 9996]\n",
              "30             [13865, 9728, 676, 429, 9381, 16197, 4024, 2612, 14581, 2816]\n",
              "47           [7401, 12965, 496, 11109, 10440, 13865, 6809, 4495, 1449, 5411]\n",
              "53         [10440, 15297, 4880, 7107, 16509, 3509, 16107, 8211, 6607, 12418]\n",
              "                                         ...                                \n",
              "1097508      [8157, 12225, 7592, 8636, 3182, 11985, 10323, 14120, 8209, 973]\n",
              "1097512        [10440, 3734, 9728, 4151, 2657, 4880, 142, 6809, 9996, 15297]\n",
              "1097513       [3734, 4457, 4436, 15464, 5693, 10772, 8801, 9937, 1776, 2780]\n",
              "1097534     [4880, 9996, 2657, 10440, 15297, 9728, 4151, 12192, 14431, 5658]\n",
              "1097544       [9728, 15297, 13865, 4151, 3734, 2657, 4880, 9996, 8636, 7829]\n",
              "Name: item_id, Length: 101982, dtype: object"
            ]
          },
          "metadata": {},
          "execution_count": 127
        }
      ]
    },
    {
      "cell_type": "code",
      "source": [
        "final_blended_result = resorted_results.reset_index().explode('item_id')\n",
        "final_blended_result['rank'] = final_blended_result.groupby('user_id').cumcount() + 1"
      ],
      "metadata": {
        "id": "pZUiPeVRbXMN"
      },
      "execution_count": 128,
      "outputs": []
    },
    {
      "cell_type": "code",
      "source": [
        "final_blended_result"
      ],
      "metadata": {
        "colab": {
          "base_uri": "https://localhost:8080/",
          "height": 424
        },
        "id": "-Ao-gCpPc5of",
        "outputId": "2bd2a0b2-e70d-4f3e-d0bb-eb1bd24455c9"
      },
      "execution_count": 129,
      "outputs": [
        {
          "output_type": "execute_result",
          "data": {
            "text/plain": [
              "        user_id item_id  rank\n",
              "0             3   10440     1\n",
              "0             3   15297     2\n",
              "0             3    9728     3\n",
              "0             3    4151     4\n",
              "0             3    3734     5\n",
              "...         ...     ...   ...\n",
              "101981  1097544    2657     6\n",
              "101981  1097544    4880     7\n",
              "101981  1097544    9996     8\n",
              "101981  1097544    8636     9\n",
              "101981  1097544    7829    10\n",
              "\n",
              "[1019820 rows x 3 columns]"
            ],
            "text/html": [
              "\n",
              "  <div id=\"df-c125feeb-733c-453b-8ab6-8f6705d65ed1\">\n",
              "    <div class=\"colab-df-container\">\n",
              "      <div>\n",
              "<style scoped>\n",
              "    .dataframe tbody tr th:only-of-type {\n",
              "        vertical-align: middle;\n",
              "    }\n",
              "\n",
              "    .dataframe tbody tr th {\n",
              "        vertical-align: top;\n",
              "    }\n",
              "\n",
              "    .dataframe thead th {\n",
              "        text-align: right;\n",
              "    }\n",
              "</style>\n",
              "<table border=\"1\" class=\"dataframe\">\n",
              "  <thead>\n",
              "    <tr style=\"text-align: right;\">\n",
              "      <th></th>\n",
              "      <th>user_id</th>\n",
              "      <th>item_id</th>\n",
              "      <th>rank</th>\n",
              "    </tr>\n",
              "  </thead>\n",
              "  <tbody>\n",
              "    <tr>\n",
              "      <th>0</th>\n",
              "      <td>3</td>\n",
              "      <td>10440</td>\n",
              "      <td>1</td>\n",
              "    </tr>\n",
              "    <tr>\n",
              "      <th>0</th>\n",
              "      <td>3</td>\n",
              "      <td>15297</td>\n",
              "      <td>2</td>\n",
              "    </tr>\n",
              "    <tr>\n",
              "      <th>0</th>\n",
              "      <td>3</td>\n",
              "      <td>9728</td>\n",
              "      <td>3</td>\n",
              "    </tr>\n",
              "    <tr>\n",
              "      <th>0</th>\n",
              "      <td>3</td>\n",
              "      <td>4151</td>\n",
              "      <td>4</td>\n",
              "    </tr>\n",
              "    <tr>\n",
              "      <th>0</th>\n",
              "      <td>3</td>\n",
              "      <td>3734</td>\n",
              "      <td>5</td>\n",
              "    </tr>\n",
              "    <tr>\n",
              "      <th>...</th>\n",
              "      <td>...</td>\n",
              "      <td>...</td>\n",
              "      <td>...</td>\n",
              "    </tr>\n",
              "    <tr>\n",
              "      <th>101981</th>\n",
              "      <td>1097544</td>\n",
              "      <td>2657</td>\n",
              "      <td>6</td>\n",
              "    </tr>\n",
              "    <tr>\n",
              "      <th>101981</th>\n",
              "      <td>1097544</td>\n",
              "      <td>4880</td>\n",
              "      <td>7</td>\n",
              "    </tr>\n",
              "    <tr>\n",
              "      <th>101981</th>\n",
              "      <td>1097544</td>\n",
              "      <td>9996</td>\n",
              "      <td>8</td>\n",
              "    </tr>\n",
              "    <tr>\n",
              "      <th>101981</th>\n",
              "      <td>1097544</td>\n",
              "      <td>8636</td>\n",
              "      <td>9</td>\n",
              "    </tr>\n",
              "    <tr>\n",
              "      <th>101981</th>\n",
              "      <td>1097544</td>\n",
              "      <td>7829</td>\n",
              "      <td>10</td>\n",
              "    </tr>\n",
              "  </tbody>\n",
              "</table>\n",
              "<p>1019820 rows × 3 columns</p>\n",
              "</div>\n",
              "      <button class=\"colab-df-convert\" onclick=\"convertToInteractive('df-c125feeb-733c-453b-8ab6-8f6705d65ed1')\"\n",
              "              title=\"Convert this dataframe to an interactive table.\"\n",
              "              style=\"display:none;\">\n",
              "        \n",
              "  <svg xmlns=\"http://www.w3.org/2000/svg\" height=\"24px\"viewBox=\"0 0 24 24\"\n",
              "       width=\"24px\">\n",
              "    <path d=\"M0 0h24v24H0V0z\" fill=\"none\"/>\n",
              "    <path d=\"M18.56 5.44l.94 2.06.94-2.06 2.06-.94-2.06-.94-.94-2.06-.94 2.06-2.06.94zm-11 1L8.5 8.5l.94-2.06 2.06-.94-2.06-.94L8.5 2.5l-.94 2.06-2.06.94zm10 10l.94 2.06.94-2.06 2.06-.94-2.06-.94-.94-2.06-.94 2.06-2.06.94z\"/><path d=\"M17.41 7.96l-1.37-1.37c-.4-.4-.92-.59-1.43-.59-.52 0-1.04.2-1.43.59L10.3 9.45l-7.72 7.72c-.78.78-.78 2.05 0 2.83L4 21.41c.39.39.9.59 1.41.59.51 0 1.02-.2 1.41-.59l7.78-7.78 2.81-2.81c.8-.78.8-2.07 0-2.86zM5.41 20L4 18.59l7.72-7.72 1.47 1.35L5.41 20z\"/>\n",
              "  </svg>\n",
              "      </button>\n",
              "      \n",
              "  <style>\n",
              "    .colab-df-container {\n",
              "      display:flex;\n",
              "      flex-wrap:wrap;\n",
              "      gap: 12px;\n",
              "    }\n",
              "\n",
              "    .colab-df-convert {\n",
              "      background-color: #E8F0FE;\n",
              "      border: none;\n",
              "      border-radius: 50%;\n",
              "      cursor: pointer;\n",
              "      display: none;\n",
              "      fill: #1967D2;\n",
              "      height: 32px;\n",
              "      padding: 0 0 0 0;\n",
              "      width: 32px;\n",
              "    }\n",
              "\n",
              "    .colab-df-convert:hover {\n",
              "      background-color: #E2EBFA;\n",
              "      box-shadow: 0px 1px 2px rgba(60, 64, 67, 0.3), 0px 1px 3px 1px rgba(60, 64, 67, 0.15);\n",
              "      fill: #174EA6;\n",
              "    }\n",
              "\n",
              "    [theme=dark] .colab-df-convert {\n",
              "      background-color: #3B4455;\n",
              "      fill: #D2E3FC;\n",
              "    }\n",
              "\n",
              "    [theme=dark] .colab-df-convert:hover {\n",
              "      background-color: #434B5C;\n",
              "      box-shadow: 0px 1px 3px 1px rgba(0, 0, 0, 0.15);\n",
              "      filter: drop-shadow(0px 1px 2px rgba(0, 0, 0, 0.3));\n",
              "      fill: #FFFFFF;\n",
              "    }\n",
              "  </style>\n",
              "\n",
              "      <script>\n",
              "        const buttonEl =\n",
              "          document.querySelector('#df-c125feeb-733c-453b-8ab6-8f6705d65ed1 button.colab-df-convert');\n",
              "        buttonEl.style.display =\n",
              "          google.colab.kernel.accessAllowed ? 'block' : 'none';\n",
              "\n",
              "        async function convertToInteractive(key) {\n",
              "          const element = document.querySelector('#df-c125feeb-733c-453b-8ab6-8f6705d65ed1');\n",
              "          const dataTable =\n",
              "            await google.colab.kernel.invokeFunction('convertToInteractive',\n",
              "                                                     [key], {});\n",
              "          if (!dataTable) return;\n",
              "\n",
              "          const docLinkHtml = 'Like what you see? Visit the ' +\n",
              "            '<a target=\"_blank\" href=https://colab.research.google.com/notebooks/data_table.ipynb>data table notebook</a>'\n",
              "            + ' to learn more about interactive tables.';\n",
              "          element.innerHTML = '';\n",
              "          dataTable['output_type'] = 'display_data';\n",
              "          await google.colab.output.renderOutput(dataTable, element);\n",
              "          const docLink = document.createElement('div');\n",
              "          docLink.innerHTML = docLinkHtml;\n",
              "          element.appendChild(docLink);\n",
              "        }\n",
              "      </script>\n",
              "    </div>\n",
              "  </div>\n",
              "  "
            ]
          },
          "metadata": {},
          "execution_count": 129
        }
      ]
    },
    {
      "cell_type": "code",
      "source": [
        "with open('/content/drive/MyDrive/MTS_RecSys/blended_result.dill', 'wb') as f:\n",
        "    dill.dump(final_blended_result, f)"
      ],
      "metadata": {
        "id": "hnuHsCxRd2cO"
      },
      "execution_count": 130,
      "outputs": []
    },
    {
      "cell_type": "markdown",
      "source": [
        "### Metrics"
      ],
      "metadata": {
        "id": "zgZnvePrcmB8"
      }
    },
    {
      "cell_type": "code",
      "source": [
        "with open('/content/drive/MyDrive/MTS_RecSys/blended_result.dill', 'rb') as f:\n",
        "    blended_result = dill.load(f)"
      ],
      "metadata": {
        "id": "cLBS9ohGmeP_"
      },
      "execution_count": 131,
      "outputs": []
    },
    {
      "cell_type": "code",
      "source": [
        "# Calculating several metrics, including MAP@10\n",
        "metrics = {\n",
        "    \"prec@10\": Precision(k=10),\n",
        "    \"recall@10\": Recall(k=10),\n",
        "    \"novelty\": MeanInvUserFreq(k=10),\n",
        "    \"serendipity\": Serendipity(k=10),\n",
        "    \"map@10\": MAP(k=10),\n",
        "}"
      ],
      "metadata": {
        "id": "_e9WtErockxd"
      },
      "execution_count": 132,
      "outputs": []
    },
    {
      "cell_type": "code",
      "source": [
        "catalog = train['item_id'].unique()"
      ],
      "metadata": {
        "id": "bayIWn2uckxd"
      },
      "execution_count": 133,
      "outputs": []
    },
    {
      "cell_type": "code",
      "source": [
        "blended_metric_values = calc_metrics(\n",
        "      metrics,\n",
        "      reco=blended_result,\n",
        "      interactions=test,\n",
        "      prev_interactions=train,\n",
        "      catalog=catalog\n",
        ")"
      ],
      "metadata": {
        "id": "fBeL3iiUckxd"
      },
      "execution_count": 134,
      "outputs": []
    },
    {
      "cell_type": "code",
      "source": [
        "blended_metric_values"
      ],
      "metadata": {
        "colab": {
          "base_uri": "https://localhost:8080/"
        },
        "id": "J_jr5t8HdgAv",
        "outputId": "ff8c0ded-b3bc-41ea-e2df-d81d6c785b11"
      },
      "execution_count": 135,
      "outputs": [
        {
          "output_type": "execute_result",
          "data": {
            "text/plain": [
              "{'prec@10': 0.02210466450290735,\n",
              " 'recall@10': 0.1137896078784046,\n",
              " 'map@10': 0.03180166994166452,\n",
              " 'novelty': 5.149389238671356,\n",
              " 'serendipity': 2.9223631049885478e-05}"
            ]
          },
          "metadata": {},
          "execution_count": 135
        }
      ]
    },
    {
      "cell_type": "markdown",
      "source": [
        "## 2.4.Recommendations for cold users"
      ],
      "metadata": {
        "id": "nyi-ammO6Amo"
      }
    },
    {
      "cell_type": "code",
      "source": [
        "# Creating dataset for PopularModel\n",
        "dataset = Dataset.construct(\n",
        "    interactions_df=interactions,\n",
        "    user_features_df=None,\n",
        "    item_features_df=None\n",
        ")"
      ],
      "metadata": {
        "id": "zQvYzDqf6ZVy"
      },
      "execution_count": null,
      "outputs": []
    },
    {
      "cell_type": "code",
      "source": [
        "popular_model = PopularModel()\n",
        "popular_model.fit(dataset)"
      ],
      "metadata": {
        "colab": {
          "base_uri": "https://localhost:8080/"
        },
        "outputId": "f455abc6-acac-451e-e26e-cf54d02b2893",
        "id": "48UsbJrG6ZVy"
      },
      "execution_count": null,
      "outputs": [
        {
          "output_type": "execute_result",
          "data": {
            "text/plain": [
              "<rectools.models.popular.PopularModel at 0x7fdd05dbeee0>"
            ]
          },
          "metadata": {},
          "execution_count": 22
        }
      ]
    },
    {
      "cell_type": "code",
      "source": [
        "popular_model_result = popular_model.recommend(\n",
        "    dataset.user_id_map.external_ids[:1], \n",
        "    dataset=dataset, \n",
        "    k=N, \n",
        "    filter_viewed=False,\n",
        ")['item_id'].to_list()"
      ],
      "metadata": {
        "id": "xzfuUKIl6ZVy"
      },
      "execution_count": null,
      "outputs": []
    },
    {
      "cell_type": "code",
      "source": [
        "popular_model_result"
      ],
      "metadata": {
        "colab": {
          "base_uri": "https://localhost:8080/"
        },
        "outputId": "335b5c02-9d85-451f-b50c-121f3db1554b",
        "id": "XqK9gQzG6ZVz"
      },
      "execution_count": null,
      "outputs": [
        {
          "output_type": "execute_result",
          "data": {
            "text/plain": [
              "[10440, 15297, 9728, 13865, 4151, 3734, 2657, 4880, 142, 6809]"
            ]
          },
          "metadata": {},
          "execution_count": 26
        }
      ]
    },
    {
      "cell_type": "code",
      "source": [
        "with open('/content/drive/MyDrive/MTS_RecSys/popular_items.dill', 'wb') as f:\n",
        "    dill.dump(popular_model_result, f)\n",
        "     "
      ],
      "metadata": {
        "id": "vSOI7fiR7W6C"
      },
      "execution_count": null,
      "outputs": []
    },
    {
      "cell_type": "markdown",
      "source": [
        "# 3.Inference online model"
      ],
      "metadata": {
        "id": "6KsiLwhKngGg"
      }
    },
    {
      "cell_type": "code",
      "execution_count": 1,
      "metadata": {
        "id": "BrbGJnC-qd9r"
      },
      "outputs": [],
      "source": [
        "import pandas as pd\n",
        "import numpy as np\n",
        "import scipy as sp\n",
        "import requests\n",
        "from tqdm.auto import tqdm\n",
        "from scipy.stats import mode \n",
        "from pprint import pprint\n",
        "import dill\n",
        "from implicit.nearest_neighbours import CosineRecommender, TFIDFRecommender, BM25Recommender\n",
        "import warnings\n",
        "warnings.filterwarnings(\"ignore\")\n",
        "\n",
        "from rectools import Columns\n",
        "from rectools.model_selection import TimeRangeSplitter\n",
        "from rectools.dataset import Dataset, Interactions\n",
        "from rectools.metrics import Precision, Recall, MeanInvUserFreq, Serendipity, calc_metrics, MAP\n",
        "from rectools.models.popular import PopularModel\n",
        "from collections import Counter\n",
        "\n",
        "\n",
        "pd.set_option('display.max_columns', None)\n",
        "pd.set_option('display.max_colwidth', 200)"
      ]
    },
    {
      "cell_type": "code",
      "source": [
        "interactions = pd.read_csv('kion_train/interactions.csv')"
      ],
      "metadata": {
        "id": "CKkxKtwPvoZh"
      },
      "execution_count": 2,
      "outputs": []
    },
    {
      "cell_type": "markdown",
      "source": [
        "## Auxiliary functions"
      ],
      "metadata": {
        "id": "SF0qE3J3qm1u"
      }
    },
    {
      "cell_type": "code",
      "source": [
        "def get_coo_matrix(df, \n",
        "                   user_col='user_id', \n",
        "                   item_col='item_id', \n",
        "                   weight_col=None, \n",
        "                   users_mapping=None, \n",
        "                   items_mapping=None):\n",
        "    if weight_col:\n",
        "        weights = df[weight_col].astype(np.float32)\n",
        "    else:\n",
        "        weights = np.ones(len(df), dtype=np.float32)\n",
        "\n",
        "    interaction_matrix = sp.sparse.coo_matrix((\n",
        "        weights, \n",
        "        (\n",
        "            df[user_col].map(users_mapping.get), \n",
        "            df[item_col].map(items_mapping.get)\n",
        "        )\n",
        "    ))\n",
        "    return interaction_matrix"
      ],
      "metadata": {
        "id": "NH4bH725qm1v"
      },
      "execution_count": 3,
      "outputs": []
    },
    {
      "cell_type": "code",
      "source": [
        "def generate_implicit_recs_mapper(model, N, users_mapping, users_inv_mapping):\n",
        "    def _recs_mapper(user):\n",
        "        user_id = users_mapping[user]\n",
        "        recs = model.similar_items(user_id, N=N)\n",
        "        return [users_inv_mapping[user] for user, _ in recs], [sim for _, sim in recs]\n",
        "    return _recs_mapper"
      ],
      "metadata": {
        "id": "EFly697Yqm1v"
      },
      "execution_count": 4,
      "outputs": []
    },
    {
      "cell_type": "code",
      "source": [
        "# Renaming columns, converting timestamp\n",
        "interactions.rename(columns={'last_watch_dt': Columns.Datetime,\n",
        "                            'total_dur': Columns.Weight}, \n",
        "                    inplace=True) \n",
        "\n",
        "interactions['datetime'] = pd.to_datetime(interactions['datetime'])"
      ],
      "metadata": {
        "id": "Vy5zUejnvg3q"
      },
      "execution_count": 5,
      "outputs": []
    },
    {
      "cell_type": "code",
      "source": [
        "users_inv_mapping = dict(enumerate(interactions['user_id'].unique()))\n",
        "users_mapping = {v: k for k, v in users_inv_mapping.items()}"
      ],
      "metadata": {
        "id": "QJCdNEIVwqcc"
      },
      "execution_count": 6,
      "outputs": []
    },
    {
      "cell_type": "code",
      "source": [
        "items_inv_mapping = dict(enumerate(interactions['item_id'].unique()))\n",
        "items_mapping = {v: k for k, v in items_inv_mapping.items()}"
      ],
      "metadata": {
        "id": "hCnzEkWUwqcc"
      },
      "execution_count": 7,
      "outputs": []
    },
    {
      "cell_type": "code",
      "source": [
        "print(f\"users_mapping amount: {len(users_mapping)}\")\n",
        "print(f\"items_mapping amount: {len(items_mapping)}\")"
      ],
      "metadata": {
        "colab": {
          "base_uri": "https://localhost:8080/"
        },
        "id": "6-B12RazwwVM",
        "outputId": "b897b004-de36-4d41-ec87-1914bfa75f01"
      },
      "execution_count": 8,
      "outputs": [
        {
          "output_type": "stream",
          "name": "stdout",
          "text": [
            "users_mapping amount: 962179\n",
            "items_mapping amount: 15706\n"
          ]
        }
      ]
    },
    {
      "cell_type": "markdown",
      "source": [
        "Load trained model"
      ],
      "metadata": {
        "id": "ZMU0CS3wstm-"
      }
    },
    {
      "cell_type": "code",
      "source": [
        "with open('/content/drive/MyDrive/MTS_RecSys/TFIDF_15.dill', 'rb') as f:\n",
        "    model = dill.load(f)"
      ],
      "metadata": {
        "id": "MP7wYEoPniWL"
      },
      "execution_count": 9,
      "outputs": []
    },
    {
      "cell_type": "code",
      "source": [
        "model"
      ],
      "metadata": {
        "colab": {
          "base_uri": "https://localhost:8080/"
        },
        "id": "Sq4-9Ls0nnKz",
        "outputId": "ef8359b9-a7f7-401e-d318-321f37a5b38a"
      },
      "execution_count": 10,
      "outputs": [
        {
          "output_type": "execute_result",
          "data": {
            "text/plain": [
              "<implicit.nearest_neighbours.TFIDFRecommender at 0x7ff79a26a6d0>"
            ]
          },
          "metadata": {},
          "execution_count": 10
        }
      ]
    },
    {
      "cell_type": "code",
      "source": [
        "N=10"
      ],
      "metadata": {
        "id": "iC2QaLeHo0zH"
      },
      "execution_count": 11,
      "outputs": []
    },
    {
      "cell_type": "markdown",
      "source": [
        "## Preparation"
      ],
      "metadata": {
        "id": "mHgOeotrpW-a"
      }
    },
    {
      "cell_type": "code",
      "source": [
        "# Creating dataset for PopularModel\n",
        "dataset = Dataset.construct(\n",
        "    interactions_df=interactions,\n",
        "    user_features_df=None,\n",
        "    item_features_df=None\n",
        ")"
      ],
      "metadata": {
        "id": "m1XkDLMr3YmD"
      },
      "execution_count": 12,
      "outputs": []
    },
    {
      "cell_type": "code",
      "source": [
        "popular_model = PopularModel()\n",
        "popular_model.fit(dataset)"
      ],
      "metadata": {
        "colab": {
          "base_uri": "https://localhost:8080/"
        },
        "id": "75_nSjXF3bYO",
        "outputId": "298ce861-da92-46a7-d85c-2e5315677c89"
      },
      "execution_count": 13,
      "outputs": [
        {
          "output_type": "execute_result",
          "data": {
            "text/plain": [
              "<rectools.models.popular.PopularModel at 0x7ff76ef971c0>"
            ]
          },
          "metadata": {},
          "execution_count": 13
        }
      ]
    },
    {
      "cell_type": "code",
      "source": [
        "popular_model_result = popular_model.recommend(\n",
        "    dataset.user_id_map.external_ids[:1], \n",
        "    dataset=dataset, \n",
        "    k=N, \n",
        "    filter_viewed=False,\n",
        ")['item_id'].to_list()"
      ],
      "metadata": {
        "id": "O7CJ4Bl93VLu"
      },
      "execution_count": 14,
      "outputs": []
    },
    {
      "cell_type": "code",
      "source": [
        "popular_model_result"
      ],
      "metadata": {
        "colab": {
          "base_uri": "https://localhost:8080/"
        },
        "id": "7WMM17G43i-R",
        "outputId": "bd39c2ab-5737-4afb-f509-af05833780d3"
      },
      "execution_count": 15,
      "outputs": [
        {
          "output_type": "execute_result",
          "data": {
            "text/plain": [
              "[10440, 15297, 9728, 13865, 4151, 3734, 2657, 4880, 142, 6809]"
            ]
          },
          "metadata": {},
          "execution_count": 15
        }
      ]
    },
    {
      "cell_type": "markdown",
      "source": [
        "## Execution"
      ],
      "metadata": {
        "id": "AGy-XeoypZAm"
      }
    },
    {
      "cell_type": "code",
      "source": [
        "user_id = 1097479"
      ],
      "metadata": {
        "id": "-Fzl1z7K5UCw"
      },
      "execution_count": 16,
      "outputs": []
    },
    {
      "cell_type": "code",
      "source": [
        "if any(interactions['user_id']==user_id):\n",
        "    mapper = generate_implicit_recs_mapper(\n",
        "        model, \n",
        "        N=N,\n",
        "        users_mapping=users_mapping,\n",
        "        users_inv_mapping=users_inv_mapping\n",
        "    )\n",
        "    recs = pd.DataFrame({\n",
        "        'user_id': [user_id]\n",
        "    })\n",
        "    recs['similar_user_id'], recs['similarity'] = zip(*recs['user_id'].map(mapper))\n",
        "\n",
        "    # Exploding lists to get vertical representation\n",
        "    recs = recs.set_index('user_id').apply(pd.Series.explode).reset_index()\n",
        "    # Deleting recommendations of itself   \n",
        "    recs = recs[~(recs['user_id']==recs['similar_user_id'])]\n",
        "\n",
        "    # Joining watched items\n",
        "    watched = interactions.groupby('user_id').agg({'item_id': list})\n",
        "    recs = recs.merge(watched, left_on=['similar_user_id'], right_on=['user_id'], how='left')\n",
        "    recs = recs.explode('item_id')\n",
        "\n",
        "    # Dropping duplicates pairs user_id-item_id and keeping rows with the highest similiarity\n",
        "    recs = recs.sort_values(['user_id', 'similarity'], ascending=False)\n",
        "    recs = recs.drop_duplicates(['user_id', 'item_id'], keep='first')\n",
        "\n",
        "    # Making rank\n",
        "    recs['rank'] = recs.groupby('user_id').cumcount() + 1 \n",
        "\n",
        "    # Decreasing rank to 10\n",
        "    recs = recs[recs['rank'] <= 10]\n",
        "\n",
        "    # Dealing witn less than N recommendations\n",
        "    s = recs['user_id'].value_counts()\n",
        "    not_enough_dict = recs[recs['user_id'].isin(s[s<N].index)].groupby('user_id')['item_id'].agg(lambda row: list(row)).to_dict()\n",
        "\n",
        "    d = {\"user_id\":[], \"item_id\": [], \"rank\": []}\n",
        "    # for user_id, max_rank in not_enough_dict.items():\n",
        "    for user_id, item_id_list in not_enough_dict.items():\n",
        "        max_rank = len(item_id_list)\n",
        "        # drop popular items, that is already in recommendation list\n",
        "        corrected_popular_list = [item for item in popular_model_result if item not in item_id_list]\n",
        "        for i in range(1, N - max_rank + 1):\n",
        "            d['user_id'].append(user_id)\n",
        "            d['item_id'].append(corrected_popular_list[i])\n",
        "            d['rank'].append(max_rank+i)\n",
        "\n",
        "    filled_with_popular = pd.DataFrame.from_dict(d)\n",
        "    final_result = pd.concat([recs, filled_with_popular])\n",
        "\n",
        "    print(final_result.item_id.to_list())\n",
        "else:\n",
        "    # recommend for cold user\n",
        "    print(popular_model_result)"
      ],
      "metadata": {
        "colab": {
          "base_uri": "https://localhost:8080/"
        },
        "id": "LKWasX7Jqhpy",
        "outputId": "1832099b-2a70-4863-89b5-88a70a70cb3f"
      },
      "execution_count": 17,
      "outputs": [
        {
          "output_type": "stream",
          "name": "stdout",
          "text": [
            "[2657, 15531, 3495, 372, 12537, 14159, 10219, 6660, 12192, 2720]\n"
          ]
        }
      ]
    },
    {
      "cell_type": "code",
      "source": [],
      "metadata": {
        "id": "NKmXXglC5iKS"
      },
      "execution_count": null,
      "outputs": []
    }
  ]
}