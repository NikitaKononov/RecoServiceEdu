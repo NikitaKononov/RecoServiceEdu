{
 "cells": [
  {
   "cell_type": "markdown",
   "id": "1b4d3fe9-8198-47d9-a053-d0c6b5c2dc73",
   "metadata": {},
   "source": [
    "## Загрузка данных"
   ]
  },
  {
   "cell_type": "code",
   "execution_count": 7,
   "id": "685b8815-512d-4098-b44c-170093f0841f",
   "metadata": {},
   "outputs": [],
   "source": [
    "url = 'https://github.com/irsafilo/KION_DATASET/raw/f69775be31fa5779907cf0a92ddedb70037fb5ae/data_original.zip'"
   ]
  },
  {
   "cell_type": "code",
   "execution_count": 10,
   "id": "6ebcd566-a39e-43d1-a52e-605b2e435fc2",
   "metadata": {},
   "outputs": [
    {
     "data": {
      "application/vnd.jupyter.widget-view+json": {
       "model_id": "a87b5233297d46d79699ba1f6eaa0c93",
       "version_major": 2,
       "version_minor": 0
      },
      "text/plain": [
       "kion dataset download:   0%|          | 0.00/78.8M [00:00<?, ?iB/s]"
      ]
     },
     "metadata": {},
     "output_type": "display_data"
    }
   ],
   "source": [
    "req = requests.get(url, stream=True)\n",
    "\n",
    "with open('kion.zip', 'wb') as fd:\n",
    "    total_size_in_bytes = int(req.headers.get('Content-Length', 0))\n",
    "    progress_bar = tqdm(desc='kion dataset download', total=total_size_in_bytes, unit='iB', unit_scale=True)\n",
    "    for chunk in req.iter_content(chunk_size=2 ** 20):\n",
    "        progress_bar.update(len(chunk))\n",
    "        fd.write(chunk)"
   ]
  },
  {
   "cell_type": "code",
   "execution_count": 11,
   "id": "43c35318-94e6-4165-b8d9-4ba9a12b4aba",
   "metadata": {},
   "outputs": [],
   "source": [
    "import zipfile as zf\n",
    "\n",
    "files = zf.ZipFile('kion.zip','r')\n",
    "files.extractall()\n",
    "files.close()"
   ]
  },
  {
   "cell_type": "markdown",
   "id": "86146c27",
   "metadata": {},
   "source": [
    "## Homework\n",
    "\n",
    "\n",
    "### MRR\n",
    "Исходные данные - результат `generate_subsample` \n",
    "\n",
    "**Задача** - по аналогии с precision написать три версии функции подсчета Mean Reciprocal Rank (naive, numba, pandas) и протестировать на разных размерах выборки\n",
    "- Протестируйте для всех комбинаций (users_count, top_k):\n",
    "  - users_count - [100, 1000, 10000, 100000]\n",
    "  - top_k - [10, 50, 100]\n",
    "- Результатом тестирования должен быть график, где будут отражены следующие показатели:\n",
    "  - Алгоритм - naive, numba, pandas\n",
    "  - Скорость работы (время)\n",
    "  - users_count\n",
    "  - top_k"
   ]
  },
  {
   "cell_type": "code",
   "execution_count": null,
   "id": "158c9d3f-5197-4b27-b17a-a9258743c113",
   "metadata": {},
   "outputs": [],
   "source": []
  },
  {
   "cell_type": "code",
   "execution_count": 331,
   "id": "23c0c390-46ba-4d52-929f-6a59bec6a038",
   "metadata": {},
   "outputs": [],
   "source": [
    "import pandas as pd\n",
    "import numpy as np\n",
    "import numba as nb\n",
    "import requests\n",
    "import matplotlib.pyplot as plt\n",
    "import seaborn as sns\n",
    "sns.set_style(\"darkgrid\")\n",
    "\n",
    "from tqdm.auto import tqdm\n",
    "from rectools import Columns\n",
    "\n",
    "import time\n",
    "from collections import defaultdict\n",
    "\n",
    "#для numba\n",
    "import sys\n",
    "sys.frozen = True\n",
    "\n",
    "#установка seed\n",
    "np.random.seed(23)"
   ]
  },
  {
   "cell_type": "code",
   "execution_count": 171,
   "id": "2f25db79-81be-41c9-b130-ff759db01d10",
   "metadata": {},
   "outputs": [],
   "source": [
    "interactions = pd.read_csv('data_original/interactions.csv')\n",
    "\n",
    "interactions.rename(\n",
    "    columns={\n",
    "        'track_id': Columns.Item,\n",
    "        'last_watch_dt': Columns.Datetime,\n",
    "        'total_dur': Columns.Weight\n",
    "    }, \n",
    "    inplace=True) \n",
    "\n",
    "interactions[Columns.Datetime] = pd.to_datetime(interactions[Columns.Datetime])"
   ]
  },
  {
   "cell_type": "code",
   "execution_count": 172,
   "id": "a0e001ef",
   "metadata": {},
   "outputs": [],
   "source": [
    "def generate_subsample(interactions, users_count, top_k):\n",
    "    users = np.random.choice(interactions[Columns.User].unique(), users_count, replace=False)\n",
    "    df = interactions[interactions[Columns.User].isin(users)].reset_index(drop=True)\n",
    "    del df[Columns.Datetime], df[Columns.Weight], df['watched_pct']\n",
    "    \n",
    "    recs = np.random.choice(df[Columns.Item], size=(users_count, top_k))\n",
    "    return df, users, recs"
   ]
  },
  {
   "cell_type": "code",
   "execution_count": 317,
   "id": "60720201-0db9-49bb-9ff6-6aee5a14b253",
   "metadata": {},
   "outputs": [],
   "source": [
    "top_k = 100\n",
    "users_count = 10000\n",
    "df, users, recs = generate_subsample(interactions, users_count, top_k)\n",
    "target = df.values"
   ]
  },
  {
   "cell_type": "code",
   "execution_count": 321,
   "id": "7225d0d0-a0c0-425f-8484-c50c54eaa43b",
   "metadata": {},
   "outputs": [],
   "source": [
    "def mrr_naive(target, users, recs, k):\n",
    "    ranks = []\n",
    "    for i, user in enumerate(users):\n",
    "        rank = 0\n",
    "        user_target = target[target[:, 0] == user][:, 1]\n",
    "        for rec in recs[i]:\n",
    "            rank += 1\n",
    "            if rec in user_target:\n",
    "                ranks.append(1/rank)\n",
    "                break\n",
    "    return sum(ranks) / len(users)"
   ]
  },
  {
   "cell_type": "code",
   "execution_count": 322,
   "id": "099170fb-fe1d-4dce-b15c-9ecba5dd964c",
   "metadata": {},
   "outputs": [
    {
     "data": {
      "text/plain": [
       "0.09731721957110973"
      ]
     },
     "execution_count": 322,
     "metadata": {},
     "output_type": "execute_result"
    }
   ],
   "source": [
    "mrr_naive(target, users, recs, top_k)"
   ]
  },
  {
   "cell_type": "code",
   "execution_count": 323,
   "id": "404bd879-6201-45fb-9b51-6d880e28e1f5",
   "metadata": {},
   "outputs": [],
   "source": [
    "@nb.njit(cache=True, parallel=True)\n",
    "def mrr_numba(target, users, recs, k):\n",
    "    ranks = np.zeros(len(users))\n",
    "    for i in nb.prange(len(users)):\n",
    "        user = users[i]\n",
    "        rank = 0\n",
    "        user_target = target[target[:, 0] == user][:, 1]\n",
    "        for rec in recs[i]:\n",
    "            rank += 1\n",
    "            if rec in user_target:\n",
    "                ranks[i] = 1/rank\n",
    "                break\n",
    "    return sum(ranks) / len(users)"
   ]
  },
  {
   "cell_type": "code",
   "execution_count": 324,
   "id": "fcbdc9a1-c0ad-4bbb-9120-e2c160c4c09a",
   "metadata": {},
   "outputs": [
    {
     "data": {
      "text/plain": [
       "0.09731721957110973"
      ]
     },
     "execution_count": 324,
     "metadata": {},
     "output_type": "execute_result"
    }
   ],
   "source": [
    "mrr_numba(target, users, recs, top_k)"
   ]
  },
  {
   "cell_type": "code",
   "execution_count": 325,
   "id": "907c6e69-556f-4845-9004-79d46abbdcc3",
   "metadata": {},
   "outputs": [],
   "source": [
    "def mrr_pandas(df, users, recs, k):\n",
    "    df_recs = pd.DataFrame({\n",
    "        Columns.User: np.repeat(users, k),\n",
    "        Columns.Item: recs.ravel()\n",
    "    })\n",
    "    df_recs[Columns.Rank] = df_recs.groupby(Columns.User).cumcount() + 1\n",
    "    df_recs = df.merge(df_recs, how='left', left_on=Columns.UserItem,\n",
    "                       right_on=Columns.UserItem)\n",
    "    df_recs['rank_inv'] = 1 / df_recs[Columns.Rank]\n",
    "    \n",
    "    return df_recs.groupby(Columns.User)['rank_inv'].agg('max').sum() / len(users)"
   ]
  },
  {
   "cell_type": "code",
   "execution_count": 326,
   "id": "dc6635e1-12a5-4293-8231-5ff9134def0f",
   "metadata": {},
   "outputs": [
    {
     "data": {
      "text/plain": [
       "0.09731721957111013"
      ]
     },
     "execution_count": 326,
     "metadata": {},
     "output_type": "execute_result"
    }
   ],
   "source": [
    "mrr_pandas(df, users,recs, top_k)"
   ]
  },
  {
   "cell_type": "code",
   "execution_count": 293,
   "id": "d8eae3b0-6406-4b1b-aa24-d6f805505146",
   "metadata": {},
   "outputs": [
    {
     "name": "stdout",
     "output_type": "stream",
     "text": [
      "4.63 s ± 17.9 ms per loop (mean ± std. dev. of 7 runs, 1 loop each)\n"
     ]
    }
   ],
   "source": [
    "%timeit mrr_naive(target, users, recs, top_k)"
   ]
  },
  {
   "cell_type": "code",
   "execution_count": 294,
   "id": "114c33a1-a2f5-4554-8ad0-8d179516dae6",
   "metadata": {},
   "outputs": [
    {
     "name": "stdout",
     "output_type": "stream",
     "text": [
      "275 ms ± 23.7 ms per loop (mean ± std. dev. of 7 runs, 1 loop each)\n"
     ]
    }
   ],
   "source": [
    "%timeit mrr_numba(target, users, recs, top_k)"
   ]
  },
  {
   "cell_type": "code",
   "execution_count": 297,
   "id": "b8172054-b67c-4d38-914c-4cd31b8298b0",
   "metadata": {},
   "outputs": [
    {
     "name": "stdout",
     "output_type": "stream",
     "text": [
      "148 ms ± 2.2 ms per loop (mean ± std. dev. of 7 runs, 10 loops each)\n"
     ]
    }
   ],
   "source": [
    "%timeit mrr_pandas(df, users,recs, top_k)"
   ]
  },
  {
   "cell_type": "markdown",
   "id": "9fa0e91c-e28c-45ff-83f1-248d32f62e67",
   "metadata": {},
   "source": [
    "## Графики"
   ]
  },
  {
   "cell_type": "code",
   "execution_count": 339,
   "id": "68123cd2-ac7c-464b-a9af-382745dacdab",
   "metadata": {},
   "outputs": [],
   "source": [
    "def get_data_for_plot ():\n",
    "    methods = {'mrr_naive': mrr_naive,\n",
    "               'mrr_numba': mrr_numba,\n",
    "               'mrr_pandas': mrr_pandas}\n",
    "    users_count = [100, 1000, 10000, 100000]\n",
    "    top_k = [10, 50, 100]\n",
    "    result = defaultdict(list)\n",
    "\n",
    "    for num_users in users_count:  \n",
    "        for k in top_k:  \n",
    "            df, users, recs = generate_subsample(interactions, num_users, k)\n",
    "            target = df.values\n",
    "\n",
    "            for method, func_method in methods.items():\n",
    "                print(num_users,k,method)\n",
    "                if method == 'mrr_pandas':\n",
    "                    data = df\n",
    "                else:\n",
    "                    data = target\n",
    "\n",
    "                start_time = time.time()\n",
    "                mrr = func_method(data, users, recs, k)\n",
    "                func_time = time.time() - start_time\n",
    "\n",
    "                result[num_users].append((method, k, func_time))\n",
    "    return result"
   ]
  },
  {
   "cell_type": "code",
   "execution_count": 340,
   "id": "d8161c42-0616-49b5-ad1d-f098112ad8e4",
   "metadata": {},
   "outputs": [
    {
     "name": "stdout",
     "output_type": "stream",
     "text": [
      "100 10 mrr_naive\n",
      "100 10 mrr_numba\n",
      "100 10 mrr_pandas\n",
      "100 50 mrr_naive\n",
      "100 50 mrr_numba\n",
      "100 50 mrr_pandas\n",
      "100 100 mrr_naive\n",
      "100 100 mrr_numba\n",
      "100 100 mrr_pandas\n",
      "1000 10 mrr_naive\n",
      "1000 10 mrr_numba\n",
      "1000 10 mrr_pandas\n",
      "1000 50 mrr_naive\n",
      "1000 50 mrr_numba\n",
      "1000 50 mrr_pandas\n",
      "1000 100 mrr_naive\n",
      "1000 100 mrr_numba\n",
      "1000 100 mrr_pandas\n",
      "10000 10 mrr_naive\n",
      "10000 10 mrr_numba\n",
      "10000 10 mrr_pandas\n",
      "10000 50 mrr_naive\n",
      "10000 50 mrr_numba\n",
      "10000 50 mrr_pandas\n",
      "10000 100 mrr_naive\n",
      "10000 100 mrr_numba\n",
      "10000 100 mrr_pandas\n",
      "100000 10 mrr_naive\n",
      "100000 10 mrr_numba\n",
      "100000 10 mrr_pandas\n",
      "100000 50 mrr_naive\n",
      "100000 50 mrr_numba\n",
      "100000 50 mrr_pandas\n",
      "100000 100 mrr_naive\n",
      "100000 100 mrr_numba\n",
      "100000 100 mrr_pandas\n"
     ]
    }
   ],
   "source": [
    "plot_data = get_data_for_plot ()"
   ]
  },
  {
   "cell_type": "code",
   "execution_count": 477,
   "id": "660624a9-90e0-469c-a2c2-1b4fe757fd7b",
   "metadata": {},
   "outputs": [],
   "source": [
    "def plot(plot_data):\n",
    "    \n",
    "    fig, axs = plt.subplots(2, 2,figsize=(15, 20))\n",
    "    for items, ax in zip(plot_data.items(),axs.flat):\n",
    "        \n",
    "        num_users = items[0]\n",
    "        values = items[1]\n",
    "        naive_data = []\n",
    "        numba_data = []\n",
    "        pandas_data = []\n",
    "        \n",
    "        for data in values:  \n",
    "            if data[0] == 'mrr_naive':\n",
    "                naive_data.append(data[1:])\n",
    "            elif  data[0] == 'mrr_numba':\n",
    "                numba_data.append(data[1:])\n",
    "            elif data[0] == 'mrr_pandas':\n",
    "                pandas_data.append(data[1:])\n",
    "\n",
    "        ax.plot(np.array(naive_data)[:,0],np.array(naive_data)[:,1],'-o',label='naive')\n",
    "        ax.plot(np.array(numba_data)[:,0],np.array(numba_data)[:,1],'-o',label = 'numba')\n",
    "        ax.plot(np.array(pandas_data)[:,0],np.array(pandas_data)[:,1],'-o',label = 'pandas')\n",
    "        ax.set_xlabel('top_k',fontsize=15)\n",
    "        ax.set_ylabel('time',fontsize=15)\n",
    "        ax.legend(prop={'size': 15})\n",
    "        ax.set_title(f'{num_users} пользователей',fontsize=18)\n",
    "    \n",
    "    plt.show()"
   ]
  },
  {
   "cell_type": "code",
   "execution_count": 478,
   "id": "f01bf69b-b47d-436c-a0d0-bebc19eb16d3",
   "metadata": {},
   "outputs": [
    {
     "data": {
      "image/png": "[encoded data removed]",
      "text/plain": [
       "<Figure size 1080x1440 with 4 Axes>"
      ]
     },
     "metadata": {},
     "output_type": "display_data"
    }
   ],
   "source": [
    "plot(plot_data)"
   ]
  },
  {
   "cell_type": "code",
   "execution_count": null,
   "id": "8685034a-5fa7-4f88-977c-1a284f0bb48c",
   "metadata": {},
   "outputs": [],
   "source": []
  }
 ],
 "metadata": {
  "kernelspec": {
   "display_name": "Python 3 (ipykernel)",
   "language": "python",
   "name": "python3"
  },
  "language_info": {
   "codemirror_mode": {
    "name": "ipython",
    "version": 3
   },
   "file_extension": ".py",
   "mimetype": "text/x-python",
   "name": "python",
   "nbconvert_exporter": "python",
   "pygments_lexer": "ipython3",
   "version": "3.9.7"
  },
  "toc": {
   "base_numbering": 1,
   "nav_menu": {},
   "number_sections": true,
   "sideBar": true,
   "skip_h1_title": true,
   "title_cell": "Table of Contents",
   "title_sidebar": "Contents",
   "toc_cell": false,
   "toc_position": {
    "height": "calc(100% - 180px)",
    "left": "10px",
    "top": "150px",
    "width": "221px"
   },
   "toc_section_display": true,
   "toc_window_display": true
  }
 },
 "nbformat": 4,
 "nbformat_minor": 5
}
